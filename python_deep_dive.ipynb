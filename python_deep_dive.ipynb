{
  "nbformat": 4,
  "nbformat_minor": 0,
  "metadata": {
    "colab": {
      "provenance": [],
      "include_colab_link": true
    },
    "kernelspec": {
      "name": "python3",
      "display_name": "Python 3"
    },
    "language_info": {
      "name": "python"
    }
  },
  "cells": [
    {
      "cell_type": "markdown",
      "metadata": {
        "id": "view-in-github",
        "colab_type": "text"
      },
      "source": [
        "<a href=\"https://colab.research.google.com/github/Gonyim/Ormi_Python/blob/main/python_deep_dive.ipynb\" target=\"_parent\"><img src=\"https://colab.research.google.com/assets/colab-badge.svg\" alt=\"Open In Colab\"/></a>"
      ]
    },
    {
      "cell_type": "markdown",
      "source": [
        "# colab 사용법"
      ],
      "metadata": {
        "id": "x__-0LQ_uq4L"
      }
    },
    {
      "cell_type": "markdown",
      "source": [
        "* MAC을 사용하는 경우 Ctrl 대신 Command입니다. Alt 대신 Option입니다.\n",
        "1. **실행 단축키**\n",
        "    1. (필수) `Ctrl(Command)` + `Enter` : 해당 셀 실행\n",
        "    2. `Shift` + `Enter` : 해당 셀 실행 + 커서를 다음 셀로 이동\n",
        "    3. (필수) `Alt(Option)` + `Enter` : 해당 셀 실행 + 코드 불록 하단 추가\n",
        "2. **셀 삽입/삭제 관련 단축키**\n",
        "    1. `Ctrl(Command)` + M A : 코드 셀 위에 삽입\n",
        "    2. `Ctrl(Command)` + M B : 코드 셀 아래 삽입\n",
        "    3. `Ctrl(Command)` + M D : 셀 지우기\n",
        "    4. `Ctrl(Command)` + M Y : 코드 셀로 변경\n",
        "    5. `Ctrl(Command)` + M M : 마크다운 셀로 변경\n",
        "    6. `Ctrl(Command)` + M Z : 실행 취소\n",
        "3. 수정 관련된 단축키\n",
        "    1. `Ctrl(Command)` + `Alt(Option)` + 화살표위아래 : 동시 수정\n",
        "    2. (자주) `Ctrl(Command)` + D : 같은 단어 찾아 동시 수정\n",
        "    3. `Ctrl(Command)` + `Shift` + L : 동일 단어를 전체로 찾아 동시 수정\n",
        "    4. `Alt(Option)` + `Shift` + 화살표위아래 : 해당내용을 위나 아래 복사해서 붙여넣기\n",
        "    5. `Alt(Option)` + 화살표위아래 : 해당 내용을 위나 아래로 보내기\n",
        "    6. (자주) `Ctrl(Command)` + `Alt(Option)` + 화살표위아래 : 위아래 동시 수정\n",
        "    7. (자주) Home, End : 문장의 양 끝\n",
        "    8. (필수) `Ctrl` + `/` : 주석\n",
        "    9. (필수) `Shift` + `Del` : 한 줄 지우기\n",
        "    10. (필수) `Tab`, `Ctrl` + `]` : 들여쓰기\n",
        "    11. (필수) `Shift` + `Tab`, `Ctrl` + `[` : 내어쓰기\n",
        "4. 단축키 보기 및 설정\n",
        "    1. `Ctrl(Command)` + M H : 단축키 모음"
      ],
      "metadata": {
        "id": "FTQTXMTtveWG"
      }
    },
    {
      "cell_type": "markdown",
      "source": [
        "# 마크다운"
      ],
      "metadata": {
        "id": "qkYzsmBLx6XL"
      }
    },
    {
      "cell_type": "markdown",
      "source": [
        "* 필수 마크다운\n",
        "\n",
        "    ```\n",
        "    # hello\n",
        "    ## hello\n",
        "    ### hello\n",
        "\n",
        "    1. hello\n",
        "    2. hello\n",
        "    3. hello\n",
        "\n",
        "    * hello\n",
        "    * hello\n",
        "    * hello\n",
        "    ```\n",
        "\n",
        "* 선택 마크다운(필수가 아니니 부담가지지 마세요.)\n",
        "\n",
        "    ```\n",
        "    # h1\n",
        "    ## h2\n",
        "    ### h3\n",
        "    #### h4\n",
        "    ##### h5\n",
        "    ###### h6\n",
        "\n",
        "    ---\n",
        "\n",
        "    1. hello\n",
        "    2. hello\n",
        "    3. hello\n",
        "\n",
        "    * hello\n",
        "    * hello\n",
        "    * hello\n",
        "\n",
        "    - hello\n",
        "    - hello\n",
        "    - hello\n",
        "\n",
        "    __굵게__\n",
        "    **굵게**\n",
        "    _기울여 쓰기_\n",
        "    *기울여 쓰기*\n",
        "    ~취소선~\n",
        "    ~~취소선~~\n",
        "\n",
        "    > 인용문 작성하기\n",
        "    `인라인 코드는 이렇게 작성해요.`\n",
        "\n",
        "    [인라인 링크](https://velog.io/)\n",
        "\n",
        "    ![이미지 설명](이미지 링크)\n",
        "    \n",
        "    * table은 직접 만들지 마시고 https://www.tablesgenerator.com/markdown_tables 와 같은 서비스를 이용하세요.\n",
        "    \n",
        "    | 1 | 2     | 3 | 4 | 5     |\n",
        "    |---|-------|---|---|-------|\n",
        "    | 1 | hello | 3 | 4 | world |\n",
        "\n",
        "    * [ ] hello\n",
        "    * [X] hello\n",
        "    ```\n"
      ],
      "metadata": {
        "id": "CJgTFSb0yDS0"
      }
    },
    {
      "cell_type": "markdown",
      "source": [
        "# Python"
      ],
      "metadata": {
        "id": "tzaJO6Oh4BA1"
      }
    },
    {
      "cell_type": "code",
      "source": [
        "#행 단위 주석입니다.\n",
        "\n",
        "\"\"\"\n",
        "큰 따옴표로 세번 묶거나\n",
        "작은따옴표로 세번 묶으면\n",
        "열단위 주석이 됩니다.\n",
        "\"\"\"\n",
        "\n",
        "'''\n",
        "큰 따옴표로 세번 묶거나\n",
        "작은따옴표로 세번 묶으면\n",
        "열단위 주석이 됩니다.\n",
        "'''"
      ],
      "metadata": {
        "colab": {
          "base_uri": "https://localhost:8080/",
          "height": 35
        },
        "id": "EiWJQm-Xx0WC",
        "outputId": "be4d32d0-e5e9-4a77-8cc0-25cb9517b7cd"
      },
      "execution_count": null,
      "outputs": [
        {
          "output_type": "execute_result",
          "data": {
            "text/plain": [
              "'\\n큰 따옴표로 세번 묶거나\\n작은따옴표로 세번 묶으면\\n열단위 주석이 됩니다.\\n'"
            ],
            "application/vnd.google.colaboratory.intrinsic+json": {
              "type": "string"
            }
          },
          "metadata": {},
          "execution_count": 1
        }
      ]
    },
    {
      "cell_type": "code",
      "source": [
        "# 아래와 같이 열단위 주석으로 text를 넣을 수도 있습니다.\n",
        "data = '''\n",
        "큰 따옴표로 세번 묶거나\n",
        "작은따옴표로 세번 묶으면\n",
        "열단위 주석이 됩니다.\n",
        "'''\n",
        "\n",
        "data"
      ],
      "metadata": {
        "id": "O5CvQs-w5oT2",
        "colab": {
          "base_uri": "https://localhost:8080/",
          "height": 35
        },
        "outputId": "0e60c244-f174-4f19-dd1c-e96ffd08c547"
      },
      "execution_count": null,
      "outputs": [
        {
          "output_type": "execute_result",
          "data": {
            "text/plain": [
              "'\\n큰 따옴표로 세번 묶거나\\n작은따옴표로 세번 묶으면\\n열단위 주석이 됩니다.\\n'"
            ],
            "application/vnd.google.colaboratory.intrinsic+json": {
              "type": "string"
            }
          },
          "metadata": {},
          "execution_count": 2
        }
      ]
    },
    {
      "cell_type": "markdown",
      "source": [
        "* Code convention python\n",
        "* https://google.github.io/styleguide/\n",
        "* https://google.github.io/styleguide/pyguide.html"
      ],
      "metadata": {
        "id": "cdB7jRxV47IK"
      }
    },
    {
      "cell_type": "code",
      "source": [
        "def connect_to_next_port(self, minimum: int) -> int:\n",
        "    \"\"\"Connects to the next available port.\n",
        "\n",
        "    Args:\n",
        "      minimum: A port value greater or equal to 1024.\n",
        "\n",
        "    Returns:\n",
        "      The new minimum port.\n",
        "\n",
        "    Raises:\n",
        "      ConnectionError: If no available port is found.\n",
        "    \"\"\"\n",
        "    if minimum < 1024:\n",
        "        # Note that this raising of ValueError is not mentioned in the doc\n",
        "        # string's \"Raises:\" section because it is not appropriate to\n",
        "        # guarantee this specific behavioral reaction to API misuse.\n",
        "        raise ValueError(f'Min. port must be at least 1024, not {minimum}.')\n",
        "    port = self._find_next_open_port(minimum)\n",
        "    if port is None:\n",
        "        raise ConnectionError(\n",
        "            f'Could not connect to service on port {minimum} or higher.')\n",
        "    assert port >= minimum, (\n",
        "        f'Unexpected port {port} when minimum was {minimum}.')\n",
        "    return port"
      ],
      "metadata": {
        "id": "6Sw9kDCJ5tWh"
      },
      "execution_count": null,
      "outputs": []
    },
    {
      "cell_type": "code",
      "source": [
        "connect_to_next_port"
      ],
      "metadata": {
        "id": "gDGpIxHE55hG",
        "colab": {
          "base_uri": "https://localhost:8080/"
        },
        "outputId": "33d5b5a5-ce9b-485b-bdb5-5e399c421d2d"
      },
      "execution_count": null,
      "outputs": [
        {
          "output_type": "execute_result",
          "data": {
            "text/plain": [
              "<function __main__.connect_to_next_port(self, minimum: int) -> int>"
            ]
          },
          "metadata": {},
          "execution_count": 4
        }
      ]
    },
    {
      "cell_type": "code",
      "source": [
        "# 띄어쓰기 4칸 (tab(스페이스 4칸과 다릅니다!), 6칸, 7칸 다 작동합니다.)"
      ],
      "metadata": {
        "id": "y6wQmaW46WJp"
      },
      "execution_count": null,
      "outputs": []
    },
    {
      "cell_type": "code",
      "source": [
        "# 아래와 같이 탭과 띄어쓰기 4번을 혼용하시면 error가 납니다.\n",
        "for i in range(10):\n",
        "    print(i)\n",
        "\tprint('큰 따옴표로 세번 묶거나')"
      ],
      "metadata": {
        "id": "ejRqHMOO7G37",
        "colab": {
          "base_uri": "https://localhost:8080/",
          "height": 135
        },
        "outputId": "11ef708d-4917-4cb9-aac4-b8cd66e23f92"
      },
      "execution_count": null,
      "outputs": [
        {
          "output_type": "error",
          "ename": "TabError",
          "evalue": "ignored",
          "traceback": [
            "\u001b[0;36m  File \u001b[0;32m\"<ipython-input-6-9d288dc93381>\"\u001b[0;36m, line \u001b[0;32m4\u001b[0m\n\u001b[0;31m    print('큰 따옴표로 세번 묶거나')\u001b[0m\n\u001b[0m    ^\u001b[0m\n\u001b[0;31mTabError\u001b[0m\u001b[0;31m:\u001b[0m inconsistent use of tabs and spaces in indentation\n"
          ]
        }
      ]
    },
    {
      "cell_type": "code",
      "source": [
        "a = 10     #int, 정수형\n",
        "b = 10.1   #float, 실수\n",
        "c = -1\n",
        "d = True   #bool, 논리형(부울형, 참거짓형)\n",
        "e = 'good'\n",
        "f = '10'   #str, 문자열\n",
        "g = 'kim'\n",
        "h = 'honggildong'\n",
        "i = 'example'\n",
        "j = 10 + 2j #complex, 복소수\n",
        "k = 0b110   #int, 2진법 \n",
        "l = 0o56    #int, 8진법\n",
        "m = 0xAC    #int, 16진법\n",
        "\n",
        "##########\n",
        "def hello(x):\n",
        "    return x**2\n",
        "\n",
        "class A: # 자동차 공장\n",
        "    pass\n",
        "\n",
        "n = hello # function\n",
        "o = print # bulit-in function (https://docs.python.org/3/library/functions.html)\n",
        "p = lambda x:x**2 # function\n",
        "q = int # type\n",
        "r = A # class\n",
        "s = A() # instance # 자동차\n",
        "##########\n",
        "\n",
        "print(f'type(10) : {type(a)}')\n",
        "print(f'type(10.1) : {type(b)}')\n",
        "print(f'type(-1) : {type(c)}')\n",
        "print(f'type(True) : {type(d)}')\n",
        "print(f'type(\\'good\\') : {type(e)}')\n",
        "print(f'type(\\'good\\'.upper) : {type(e.upper)}')\n",
        "print(f'\\'10\\' + \\'10\\' : {f + f}')\n",
        "print(f'\\'10\\' * 3 : {f * 3}')\n",
        "print(f'\\'hong\\' + \\'gildong\\' : {g + h}')\n",
        "print(f'type(\\'gildong\\') : {type(h)}')\n",
        "print(f'type(\\'gildong100!!\\') : {type(i)}')\n",
        "print(f'type(10 + 2j) : {type(j)}')\n",
        "print(f'type(0b110) : {type(k)}')\n",
        "print(k)\n",
        "print(f'type(0o56) : {type(i)}')\n",
        "print(i)\n",
        "print(f'type(0xAC) : {type(m)}')\n",
        "print(m)\n",
        "print(f'type(def func():...생략...) : {type(n)}')\n",
        "print(f'type(print) : {type(o)}')\n",
        "print(f'type(lambda x:x**2) : {type(p)}')\n",
        "print(f'type(int) : {type(int)}')"
      ],
      "metadata": {
        "id": "bmrKWvcv7uSH"
      },
      "execution_count": null,
      "outputs": []
    },
    {
      "cell_type": "code",
      "source": [
        "# 이스케이프 문자\n",
        "# https://ko.wikipedia.org/wiki/%EC%9D%B4%EC%8A%A4%EC%BC%80%EC%9D%B4%ED%94%84_%EB%AC%B8%EC%9E%90\n",
        "print('hello \\n world')\n",
        "print('hello \\t world')\n",
        "print('hello \\' world')\n",
        "print('hello \\\" world')\n",
        "print('hello \\\\ world')"
      ],
      "metadata": {
        "id": "8OqkyWik-Nwb"
      },
      "execution_count": null,
      "outputs": []
    },
    {
      "cell_type": "code",
      "source": [
        "# type -> string\n",
        "\n",
        "hello = 10\n",
        "\n",
        "print(r'hello \\n world') # str -> raw (Django 2.x까지 url parsing을 이렇게 사용하고 있어요.)\n",
        "print(f'hello \\n world {hello}') # 앞으로 f-string 기법\n",
        "print('hello world {}'.format(hello))"
      ],
      "metadata": {
        "id": "FSpV2jdX_th6"
      },
      "execution_count": null,
      "outputs": []
    },
    {
      "cell_type": "code",
      "source": [
        "# type -> float\n",
        "# 오일러의 수를 모른다 해서, 수학 연산이 약하다 해서 우리 수업에 문제가 되지 않습니다.\n",
        "print(2.3e3) # 무리수, 오일러 수(2.718에 수렴, 파이가 3.14인 것처럼)\n",
        "print(2.3E3)\n",
        "\n",
        "2.3 * (10 ** 3)"
      ],
      "metadata": {
        "id": "oRp5o0jSEYkw"
      },
      "execution_count": null,
      "outputs": []
    },
    {
      "cell_type": "code",
      "source": [
        "print(2.3e-3) # 무리수, 오일러 수(2.718에 수렴, 파이가 3.14인 것처럼)\n",
        "print(2.3E-3)\n",
        "\n",
        "2.3 * (10 ** -3)"
      ],
      "metadata": {
        "id": "HElnmgCOE0m-"
      },
      "execution_count": null,
      "outputs": []
    },
    {
      "cell_type": "code",
      "source": [
        "type(2.3E-3)"
      ],
      "metadata": {
        "id": "Og0AzspPFKvy"
      },
      "execution_count": null,
      "outputs": []
    },
    {
      "cell_type": "code",
      "source": [
        "class A: # 자동차 공장\n",
        "    pass\n",
        "\n",
        "a = A # class\n",
        "b = A() # instance # 자동차\n",
        "\n",
        "print(type(a))\n",
        "print(type(b))"
      ],
      "metadata": {
        "id": "bA78yQ61-y9g"
      },
      "execution_count": null,
      "outputs": []
    },
    {
      "cell_type": "code",
      "source": [
        "# 변수를 처음 만나시면 type, dir을 해봅니다.\n",
        "# type을 찍으면 검색 키워드를 알 수 있습니다.\n",
        "# dir을 찍으면 속성을 알 수 있습니다.\n",
        "type(a)"
      ],
      "metadata": {
        "id": "QogcxZW88l2U"
      },
      "execution_count": null,
      "outputs": []
    },
    {
      "cell_type": "code",
      "source": [
        "print(type(a))"
      ],
      "metadata": {
        "id": "TPuT1-C68o0H"
      },
      "execution_count": null,
      "outputs": []
    },
    {
      "cell_type": "code",
      "source": [
        "dir(a)"
      ],
      "metadata": {
        "id": "auPIyvXH8zUJ"
      },
      "execution_count": null,
      "outputs": []
    },
    {
      "cell_type": "code",
      "source": [
        "# 실무에서 자주 사용하는 구문\n",
        "type(10)\n",
        "type(10) == int\n",
        "type(10.1) == float"
      ],
      "metadata": {
        "id": "v1qKTnVAFVAe"
      },
      "execution_count": null,
      "outputs": []
    },
    {
      "cell_type": "code",
      "source": [
        "# 위만큼 자주사용하진 않지만 타입 확인 코드\n",
        "a = 10\n",
        "isinstance(a, int)\n",
        "isinstance(a, float)"
      ],
      "metadata": {
        "id": "Ow6Nj-nsFj8R"
      },
      "execution_count": null,
      "outputs": []
    },
    {
      "cell_type": "markdown",
      "source": [
        "## 변수"
      ],
      "metadata": {
        "id": "tx-EhIcCF2Kj"
      }
    },
    {
      "cell_type": "code",
      "source": [
        "# CS 변수는 포스트잇\n",
        "# 변수는 메모리 공간을 가리킵니다.\n",
        "\n",
        "# x라는 포스트잇도 붙였지만\n",
        "# y라는 포스트잇도 붙여져 있는 것입니다.\n",
        "x = 10\n",
        "y = 10\n",
        "\n",
        "id(x), id(y) # id는 누굴 가리키고 있는지 그 주소값을 반환합니다."
      ],
      "metadata": {
        "id": "IEzjf91BF8dw"
      },
      "execution_count": null,
      "outputs": []
    },
    {
      "cell_type": "code",
      "source": [
        "x is y"
      ],
      "metadata": {
        "id": "zGzifr5zHL3I"
      },
      "execution_count": null,
      "outputs": []
    },
    {
      "cell_type": "code",
      "source": [
        "x = 257\n",
        "y = 257\n",
        "\n",
        "id(x), id(y)"
      ],
      "metadata": {
        "id": "kp-DcQw-HOZd"
      },
      "execution_count": null,
      "outputs": []
    },
    {
      "cell_type": "code",
      "source": [
        "x is y"
      ],
      "metadata": {
        "id": "HMQhFLC4Hh3N"
      },
      "execution_count": null,
      "outputs": []
    },
    {
      "cell_type": "code",
      "source": [
        "# Python은 자체적으로 속도를 높이기 위한 \n",
        "# 여러가지 노력들을 해왔습니다.\n",
        "# (아래 언급한 것 말고도 각각의 자료형에서 메모리를 효율적으로 관리하기 위한 노력들을 말씀드리겠습니다.)\n",
        "# 구버전도 말씀을 드릴 것인데 이유는 여러분이 실무에가서 접할 환경이 최신 버전이 아니기 때문입니다.\n",
        "# 야xx의 경우에는 Django 1.x, python 2.x를 사용하고 있어요. \n",
        "# 대부분의 기업들이 한 번 구축해놓은 시스템은 바꾸기가 쉽지 않습니다.\n",
        "\n",
        "# 그래서 -5 ~ 256은 먼저 메모리에 적재를 합니다."
      ],
      "metadata": {
        "id": "D8S8eDgnHj47"
      },
      "execution_count": null,
      "outputs": []
    },
    {
      "cell_type": "code",
      "source": [
        "x = -5\n",
        "y = -5\n",
        "\n",
        "id(x), id(y)"
      ],
      "metadata": {
        "id": "DIfulHSCILSa"
      },
      "execution_count": null,
      "outputs": []
    },
    {
      "cell_type": "markdown",
      "source": [
        "* 변수의 타입이란 무엇인가?\n",
        "* 변수의 타입은 왜 있는 것일까?\n",
        "* 어떤 고민을 통해 변수의 속성을 정했을까?"
      ],
      "metadata": {
        "id": "wk41BPqXIsy0"
      }
    },
    {
      "cell_type": "code",
      "source": [
        "'a' + 'a'"
      ],
      "metadata": {
        "id": "szLg5kCPIjQR"
      },
      "execution_count": null,
      "outputs": []
    },
    {
      "cell_type": "code",
      "source": [
        "# 왜 이어 붙였지?\n",
        "# 컴퓨터 입장에서 a는 97(인간이 보는 숫자) -> 0x61! 결국 숫자!"
      ],
      "metadata": {
        "id": "s-8AHdjsI-5S"
      },
      "execution_count": null,
      "outputs": []
    },
    {
      "cell_type": "code",
      "source": [
        "# cpython -> 이어 붙이라고 정의가 되어 있어서\n",
        "# 사회 통념적인 약속 -> 코드로 구현\n",
        "# type, dir\n",
        "# 이러한 약속들은 메직메서드(__init__.....)를 통해 구현하게 됩니다."
      ],
      "metadata": {
        "id": "Rah9zwE5JRyu"
      },
      "execution_count": null,
      "outputs": []
    },
    {
      "cell_type": "markdown",
      "source": [
        "## 변수의 속성 변경"
      ],
      "metadata": {
        "id": "1wNSxRe8J5rH"
      }
    },
    {
      "cell_type": "code",
      "source": [
        "'10' + '10'"
      ],
      "metadata": {
        "id": "nvl29tysKEb9"
      },
      "execution_count": null,
      "outputs": []
    },
    {
      "cell_type": "code",
      "source": [
        "int('10') + int('10')"
      ],
      "metadata": {
        "id": "b0ZDkGHoJ7rU"
      },
      "execution_count": null,
      "outputs": []
    },
    {
      "cell_type": "code",
      "source": [
        "# 지금 배우는 포인트는 class가 중요한 문법이 아니라\n",
        "# 이러한 '약속'을 우리가 변경할 수 있다가 중요한 포인트입니다.\n",
        "class int(int):\n",
        "    def __add__(self, a):\n",
        "        return 'leehojun'\n",
        "\n",
        "int('10') + int('10')"
      ],
      "metadata": {
        "id": "EnqZ3qw-KLxp"
      },
      "execution_count": null,
      "outputs": []
    },
    {
      "cell_type": "code",
      "source": [
        "class int(int):\n",
        "    def __add__(self, a):\n",
        "        return self * a\n",
        "\n",
        "int('10') + int('10')"
      ],
      "metadata": {
        "colab": {
          "base_uri": "https://localhost:8080/"
        },
        "id": "YATr2VdoKryj",
        "outputId": "5a3fd208-d80d-4361-de22-836f466a1617"
      },
      "execution_count": null,
      "outputs": [
        {
          "output_type": "execute_result",
          "data": {
            "text/plain": [
              "100"
            ]
          },
          "metadata": {},
          "execution_count": 7
        }
      ]
    },
    {
      "cell_type": "code",
      "source": [
        "dir(10)"
      ],
      "metadata": {
        "colab": {
          "base_uri": "https://localhost:8080/"
        },
        "id": "rJjZ79C8K4BU",
        "outputId": "6ffdba28-fa41-41b8-f0c7-46014370164a"
      },
      "execution_count": null,
      "outputs": [
        {
          "output_type": "execute_result",
          "data": {
            "text/plain": [
              "['__abs__',\n",
              " '__add__',\n",
              " '__and__',\n",
              " '__bool__',\n",
              " '__ceil__',\n",
              " '__class__',\n",
              " '__delattr__',\n",
              " '__dir__',\n",
              " '__divmod__',\n",
              " '__doc__',\n",
              " '__eq__',\n",
              " '__float__',\n",
              " '__floor__',\n",
              " '__floordiv__',\n",
              " '__format__',\n",
              " '__ge__',\n",
              " '__getattribute__',\n",
              " '__getnewargs__',\n",
              " '__gt__',\n",
              " '__hash__',\n",
              " '__index__',\n",
              " '__init__',\n",
              " '__init_subclass__',\n",
              " '__int__',\n",
              " '__invert__',\n",
              " '__le__',\n",
              " '__lshift__',\n",
              " '__lt__',\n",
              " '__mod__',\n",
              " '__mul__',\n",
              " '__ne__',\n",
              " '__neg__',\n",
              " '__new__',\n",
              " '__or__',\n",
              " '__pos__',\n",
              " '__pow__',\n",
              " '__radd__',\n",
              " '__rand__',\n",
              " '__rdivmod__',\n",
              " '__reduce__',\n",
              " '__reduce_ex__',\n",
              " '__repr__',\n",
              " '__rfloordiv__',\n",
              " '__rlshift__',\n",
              " '__rmod__',\n",
              " '__rmul__',\n",
              " '__ror__',\n",
              " '__round__',\n",
              " '__rpow__',\n",
              " '__rrshift__',\n",
              " '__rshift__',\n",
              " '__rsub__',\n",
              " '__rtruediv__',\n",
              " '__rxor__',\n",
              " '__setattr__',\n",
              " '__sizeof__',\n",
              " '__str__',\n",
              " '__sub__',\n",
              " '__subclasshook__',\n",
              " '__truediv__',\n",
              " '__trunc__',\n",
              " '__xor__',\n",
              " 'as_integer_ratio',\n",
              " 'bit_count',\n",
              " 'bit_length',\n",
              " 'conjugate',\n",
              " 'denominator',\n",
              " 'from_bytes',\n",
              " 'imag',\n",
              " 'numerator',\n",
              " 'real',\n",
              " 'to_bytes']"
            ]
          },
          "metadata": {},
          "execution_count": 8
        }
      ]
    },
    {
      "cell_type": "code",
      "source": [
        "class int(int):\n",
        "    def 제곱(self, 승수):\n",
        "        return self ** 승수\n",
        "\n",
        "value = int('10')\n",
        "print(dir(value))"
      ],
      "metadata": {
        "colab": {
          "base_uri": "https://localhost:8080/"
        },
        "id": "nznBq77dLcT3",
        "outputId": "8f23f642-e6f9-4ee1-8120-4cb6dc011ea6"
      },
      "execution_count": null,
      "outputs": [
        {
          "output_type": "stream",
          "name": "stdout",
          "text": [
            "['__abs__', '__add__', '__and__', '__bool__', '__ceil__', '__class__', '__delattr__', '__dict__', '__dir__', '__divmod__', '__doc__', '__eq__', '__float__', '__floor__', '__floordiv__', '__format__', '__ge__', '__getattribute__', '__getnewargs__', '__gt__', '__hash__', '__index__', '__init__', '__init_subclass__', '__int__', '__invert__', '__le__', '__lshift__', '__lt__', '__mod__', '__module__', '__mul__', '__ne__', '__neg__', '__new__', '__or__', '__pos__', '__pow__', '__radd__', '__rand__', '__rdivmod__', '__reduce__', '__reduce_ex__', '__repr__', '__rfloordiv__', '__rlshift__', '__rmod__', '__rmul__', '__ror__', '__round__', '__rpow__', '__rrshift__', '__rshift__', '__rsub__', '__rtruediv__', '__rxor__', '__setattr__', '__sizeof__', '__str__', '__sub__', '__subclasshook__', '__truediv__', '__trunc__', '__xor__', 'as_integer_ratio', 'bit_count', 'bit_length', 'conjugate', 'denominator', 'from_bytes', 'imag', 'numerator', 'real', 'to_bytes', '제곱']\n"
          ]
        }
      ]
    },
    {
      "cell_type": "code",
      "source": [
        "value.제곱(3)"
      ],
      "metadata": {
        "colab": {
          "base_uri": "https://localhost:8080/"
        },
        "id": "kYsLYq9gLrPX",
        "outputId": "981cdeb3-72e1-45ee-cede-ffd531f1520c"
      },
      "execution_count": null,
      "outputs": [
        {
          "output_type": "execute_result",
          "data": {
            "text/plain": [
              "1000"
            ]
          },
          "metadata": {},
          "execution_count": 10
        }
      ]
    },
    {
      "cell_type": "code",
      "source": [
        "x = 10\n",
        "y = x\n",
        "z = y\n",
        "\n",
        "print(id(x), id(y), id(z))"
      ],
      "metadata": {
        "colab": {
          "base_uri": "https://localhost:8080/"
        },
        "id": "xVjI6ThsMB9u",
        "outputId": "6ad3a555-f4ad-4ce2-edc2-e7002ec47ac4"
      },
      "execution_count": null,
      "outputs": [
        {
          "output_type": "stream",
          "name": "stdout",
          "text": [
            "140481109180944 140481109180944 140481109180944\n"
          ]
        }
      ]
    },
    {
      "cell_type": "code",
      "source": [
        "x = 10\n",
        "y = x\n",
        "x = 100\n",
        "\n",
        "print(x, y)\n",
        "print(id(x), id(y), id(z))"
      ],
      "metadata": {
        "colab": {
          "base_uri": "https://localhost:8080/"
        },
        "id": "GJKDS68IMmzo",
        "outputId": "a4b34342-56b7-4fc3-98d1-851dd76bdc26"
      },
      "execution_count": null,
      "outputs": [
        {
          "output_type": "stream",
          "name": "stdout",
          "text": [
            "100 10\n",
            "140481109183824 140481109180944 140481109180944\n"
          ]
        }
      ]
    },
    {
      "cell_type": "markdown",
      "source": [
        "## 변수의 속성"
      ],
      "metadata": {
        "id": "FFjeof0zNY0T"
      }
    },
    {
      "cell_type": "markdown",
      "source": [
        "* 변수는 주로 스네이크 표기법을 많이 사용합니다. 물론 회사 컨벤션에 따르셔야 합니다.\n",
        "* 영문과 숫자를 사용할 수 있지만, 숫자로  시작하지는 못합니다.\n",
        "* 특수문자는 사용하지 않아요.(언더바(_)는  사용합니다. 스네이크 표기법, 특수문자나  이미중 사용 가능한 것들이 있기는 합니다.  권하지 않습니다.)\n",
        "* 예약어는 사용하지 않습니다.(if, elif, while, * for, etc)\n",
        "* 대소문자는 구분합니다.\n",
        "* 언더바로만 사용하거나 언더바로 시작할 수 있습니다.\n",
        "* 대문자로 시작하는 변수를 사용할 수 있지만, 관습적으로 대문자로 시작하는 변수는 Class로 만들기 때문에 소문자로 시작하는 변수를 만들기를 권합니다. Class는 보통 파스칼 표기법을 따릅니다. 다만 회사 컨벤션마다 다릅니다."
      ],
      "metadata": {
        "id": "sTV5prN9Nabn"
      }
    },
    {
      "cell_type": "code",
      "source": [
        "# 스네이크 표기법(Python에서 주로)\n",
        "hello_world = 10\n",
        "# 카멜 표기법(JavaScript에서 주로)\n",
        "helloWorldHello = 10\n",
        "# 파스칼 표기법(Class 같은 곳에서 많이 사용합니다.)\n",
        "Hello = 10"
      ],
      "metadata": {
        "id": "-tbrSTZZNtUC"
      },
      "execution_count": null,
      "outputs": []
    },
    {
      "cell_type": "code",
      "source": [
        "# 10hello = 100\n",
        "hello10 = 10\n",
        "\n",
        "π = 3.14 # 권하지 않습니다.\n",
        "print(π)\n",
        "\n",
        "_ = 100 # 언더바는 자주사용되는데 이렇게 사용되진 않습니다.\n",
        "print(_)"
      ],
      "metadata": {
        "colab": {
          "base_uri": "https://localhost:8080/"
        },
        "id": "xKCR8vbLhKiz",
        "outputId": "b94d536f-960d-4d56-b15c-b2f0eeea95b1"
      },
      "execution_count": null,
      "outputs": [
        {
          "output_type": "stream",
          "name": "stdout",
          "text": [
            "3.14\n",
            "100\n"
          ]
        }
      ]
    },
    {
      "cell_type": "code",
      "source": [
        "for _ in range(10): # 언더바를 순회 안에서 변수로 사용하지 않을때\n",
        "    print('hello')"
      ],
      "metadata": {
        "colab": {
          "base_uri": "https://localhost:8080/"
        },
        "id": "B1o_bhW8h8N2",
        "outputId": "86e3c5e4-971e-468e-e10c-2eee7d79db7d"
      },
      "execution_count": null,
      "outputs": [
        {
          "output_type": "stream",
          "name": "stdout",
          "text": [
            "hello\n",
            "hello\n",
            "hello\n",
            "hello\n",
            "hello\n",
            "hello\n",
            "hello\n",
            "hello\n",
            "hello\n",
            "hello\n"
          ]
        }
      ]
    },
    {
      "cell_type": "code",
      "source": [
        "# if = 100\n",
        "# print = 100"
      ],
      "metadata": {
        "id": "Be5nklCtioHp"
      },
      "execution_count": null,
      "outputs": []
    },
    {
      "cell_type": "code",
      "source": [
        "# print('hello')"
      ],
      "metadata": {
        "id": "TdPmwWwEivQr"
      },
      "execution_count": null,
      "outputs": []
    },
    {
      "cell_type": "code",
      "source": [
        "print(a)"
      ],
      "metadata": {
        "id": "epuTd_98ipkE",
        "colab": {
          "base_uri": "https://localhost:8080/",
          "height": 171
        },
        "outputId": "b5143567-cfbb-4bfe-bdd8-01453b13a379"
      },
      "execution_count": null,
      "outputs": [
        {
          "output_type": "error",
          "ename": "NameError",
          "evalue": "ignored",
          "traceback": [
            "\u001b[0;31m---------------------------------------------------------------------------\u001b[0m",
            "\u001b[0;31mNameError\u001b[0m                                 Traceback (most recent call last)",
            "\u001b[0;32m<ipython-input-18-bca0e2660b9f>\u001b[0m in \u001b[0;36m<cell line: 1>\u001b[0;34m()\u001b[0m\n\u001b[0;32m----> 1\u001b[0;31m \u001b[0mprint\u001b[0m\u001b[0;34m(\u001b[0m\u001b[0ma\u001b[0m\u001b[0;34m)\u001b[0m\u001b[0;34m\u001b[0m\u001b[0;34m\u001b[0m\u001b[0m\n\u001b[0m",
            "\u001b[0;31mNameError\u001b[0m: name 'a' is not defined"
          ]
        }
      ]
    },
    {
      "cell_type": "markdown",
      "source": [
        "## 입력과 출력"
      ],
      "metadata": {
        "id": "C9gIfLKxjgPC"
      }
    },
    {
      "cell_type": "code",
      "source": [
        "x = input()\n",
        "x"
      ],
      "metadata": {
        "id": "OS4t2iv8jmkP"
      },
      "execution_count": null,
      "outputs": []
    },
    {
      "cell_type": "code",
      "source": [
        "x + x # 사용자에게 받은 입력은 str"
      ],
      "metadata": {
        "id": "pyfzi-a0jqcJ"
      },
      "execution_count": null,
      "outputs": []
    },
    {
      "cell_type": "code",
      "source": [
        "print(10, 10, 10)"
      ],
      "metadata": {
        "id": "ZNu_lO_Oj5rb"
      },
      "execution_count": null,
      "outputs": []
    },
    {
      "cell_type": "code",
      "source": [
        "print('hello', 'world', 'hello')"
      ],
      "metadata": {
        "id": "kcLLhU-6j_Kt"
      },
      "execution_count": null,
      "outputs": []
    },
    {
      "cell_type": "code",
      "source": [
        "print(x, x)"
      ],
      "metadata": {
        "id": "OcIAAy_mkCV6"
      },
      "execution_count": null,
      "outputs": []
    },
    {
      "cell_type": "code",
      "source": [
        "print('hello world', end='!')\n",
        "print('hello world', end='!')\n",
        "print('hello world', end='!')"
      ],
      "metadata": {
        "id": "1bNLt-0Qkpcc"
      },
      "execution_count": null,
      "outputs": []
    },
    {
      "cell_type": "code",
      "source": [
        "print('hello', 'world', sep='!')\n",
        "print('010', '5044', '2903', sep='-')"
      ],
      "metadata": {
        "id": "8CEEGCjSk8d_"
      },
      "execution_count": null,
      "outputs": []
    },
    {
      "cell_type": "code",
      "source": [
        "이름 = '이호준'\n",
        "나이 = 10\n",
        "\n",
        "print('1. 제 이름은 이호준입니다. 제 나이는 10입니다.')\n",
        "print('2. 제 이름은 ', 이름, '입니다. 제 나이는 ', 나이, '입니다.', sep='')\n",
        "print('3. 제 이름은 %s입니다. 제 나이는 %d입니다.'%(이름, 나이))\n",
        "print('4. 제 이름은 {}입니다. 제 나이는 {}입니다.'.format(이름, 나이))\n",
        "print(f'4. 제 이름은 {이름}입니다. 제 나이는 {나이}입니다.')"
      ],
      "metadata": {
        "id": "_0vtWPkrlX6l"
      },
      "execution_count": null,
      "outputs": []
    },
    {
      "cell_type": "markdown",
      "source": [
        "[포멧코드](https://www.notion.so/paullabworkspace/9fd33417740f4eba8715f5c4a1ed7c7b?v=e01ecdfe2f9448dcaad68b03a38057a5)"
      ],
      "metadata": {
        "id": "PfuMr8ngmSFp"
      }
    },
    {
      "cell_type": "markdown",
      "source": [
        "## formatting"
      ],
      "metadata": {
        "id": "XR_vDYS-m4Tz"
      }
    },
    {
      "cell_type": "code",
      "source": [
        "print(f'{100 * 10}')"
      ],
      "metadata": {
        "id": "omTW7TVTm-fX"
      },
      "execution_count": null,
      "outputs": []
    },
    {
      "cell_type": "code",
      "source": [
        "# 중괄호 안에서 복잡한 연산을 하시는 것을 권하지 않습니다.\n",
        "result = 100 * 10\n",
        "print(f'{result}')"
      ],
      "metadata": {
        "id": "bJDOI64PnF99"
      },
      "execution_count": null,
      "outputs": []
    },
    {
      "cell_type": "code",
      "source": [
        "# 이런 문법은 필요에 의해 검색해 보시다 보면 익숙해집니다.\n",
        "print(f'{\"hello\":<10}')\n",
        "print(f'{\"hello\":>10}')\n",
        "print(f'{\"hello\":^10}')"
      ],
      "metadata": {
        "id": "8kv6uEcwnYkX"
      },
      "execution_count": null,
      "outputs": []
    },
    {
      "cell_type": "code",
      "source": [
        "txt = 'hello'\n",
        "i = 10\n",
        "print(f'{txt:>10}')\n",
        "print(f'{txt:>{i}}')"
      ],
      "metadata": {
        "id": "hLkrUPx2ny0Y"
      },
      "execution_count": null,
      "outputs": []
    },
    {
      "cell_type": "code",
      "source": [
        "# 이런 문법은 필요에 의해 검색해 보시다 보면 익숙해집니다.\n",
        "print(f'{\"hello\":!<10}')\n",
        "print(f'{\"hello\":!>10}')\n",
        "print(f'{\"hello\":!^10}')"
      ],
      "metadata": {
        "id": "n62hbKeNoTVV"
      },
      "execution_count": null,
      "outputs": []
    },
    {
      "cell_type": "code",
      "source": [
        "# 이런 문법은 필요에 의해 검색해 보시다 보면 익숙해집니다.\n",
        "print(f'{\"hello\":=<10}')\n",
        "print(f'{\"hello\":=>10}')\n",
        "print(f'{\"hello\":=^10}')"
      ],
      "metadata": {
        "id": "axrE4QpioXxM"
      },
      "execution_count": null,
      "outputs": []
    },
    {
      "cell_type": "code",
      "source": [
        "# 둘 다 잊으셔도 됩니다.\n",
        "# 어디에 활용되는지 궁금하다 하신 분이 있으셔서 해드린 것입니다.\n",
        "# https://tech.kakao.com/2017/09/27/kakao-blind-recruitment-round-1/\n",
        "bin(9)\n",
        "print(f'{bin(9)[2:]:0>5}')"
      ],
      "metadata": {
        "id": "5TNQyBt_ojF8"
      },
      "execution_count": null,
      "outputs": []
    },
    {
      "cell_type": "code",
      "source": [
        "bin(9 | 30)[2:].replace('1', '#').replace('0', ' ')"
      ],
      "metadata": {
        "id": "fyIvpBy9ut_f"
      },
      "execution_count": null,
      "outputs": []
    },
    {
      "cell_type": "code",
      "source": [
        "# 요정도 활용을 합니다.\n",
        "print(f'{\"start\":-^20}')"
      ],
      "metadata": {
        "id": "T7rYR1VBvC7G"
      },
      "execution_count": null,
      "outputs": []
    },
    {
      "cell_type": "code",
      "source": [
        "print(f'{0.12345:0.2f}')"
      ],
      "metadata": {
        "id": "K3L31a-cvdwN"
      },
      "execution_count": null,
      "outputs": []
    },
    {
      "cell_type": "markdown",
      "source": [
        "* 이 아래 코드는 필수는 아닙니다. 참고삼아서만 넣어드립니다."
      ],
      "metadata": {
        "id": "uyzkMXZav0so"
      }
    },
    {
      "cell_type": "code",
      "source": [
        "# 이전 방식\n",
        "print('나의 이름은 %s입니다'%('한사람'))\n",
        "print('나의 이름은 \"%s\"입니다. 나이는 %d세이고 성별은 %s입니다.'%('한사람',33,'남성'))\n",
        "print('나이는 %d세이고 성별은 %s입니다. 나의 이름은 %s입니다. '%(33,'남성','한사람'))\n",
        "print('나이는 %03d세이고 신장은 %6.2f입니다. 나의 이름은 %s입니다. '%(33,56.789,'한사람'))\n",
        "print('-' * 40)\n",
        "\n",
        "# 파이썬(Python) 3 포맷팅 방식\n",
        "print('나의 이름은 {}입니다'.format('한사람'))\n",
        "print('나의 이름은 {0}입니다. 나이는 {1}세이고 성별은 {2}입니다.'.format('한사람',33,'남성'))\n",
        "print('나이는 {1}세이고 성별은 {2}입니다. 나의 이름은 {0}입니다. '.format('한사람',33,'남성'))\n",
        "print('나이는 {age}세이고 성별은 {gender}입니다. 나의 이름은 {name}입니다. '\n",
        "         .format(name='한사람',age=33,gender='남성'))\n",
        "print('만세삼창 :  {0}!!! {0}!!! {0}!!! '.format('만세'))\n",
        "print('삼삼칠 박수 :  {0}!!! {0}!!! {1}!!! '.format('짝'*3,'짝'*7))\n",
        "print('-' * 40)\n",
        "\n",
        "# 파이썬(Python) 3.6 f-string 방식\n",
        "something = '볼펜'\n",
        "EA = 2\n",
        "one_length = 5.343\n",
        "scale = 'cm'\n",
        "\n",
        "print(f'{something} {EA}개의 길이는 {one_length*EA}{scale} 입니다.')\n",
        "print(f'{something} {EA}개의 길이는 {one_length*EA:.1f}{scale} 입니다.')"
      ],
      "metadata": {
        "id": "d1sO91etvpoy"
      },
      "execution_count": null,
      "outputs": []
    },
    {
      "cell_type": "code",
      "source": [
        "print('Python is [{:15}]'.format('good'))\n",
        "print('Python is [{:<15}]'.format('good'))\n",
        "print('Python is [{:>15}]'.format('good'))\n",
        "print('Python is [{:^15}]'.format('good'))\n",
        "print('당신의 나이는 [{:15}]세'.format(22))\n",
        "print('당신의 나이는 [{:<15}]세'.format(22))\n",
        "print('당신의 나이는 [{:>15}]세'.format(22))\n",
        "print('당신의 나이는 [{:<15}]세'.format(22))\n",
        "print('-' * 40)"
      ],
      "metadata": {
        "id": "Y-ZNxOJdwRuP"
      },
      "execution_count": null,
      "outputs": []
    },
    {
      "cell_type": "code",
      "source": [
        "char_a = '5'\n",
        "int_a = 5\n",
        "\n",
        "'''기본적으로 {} 포맷팅의 특성을 그대로 가짐'''\n",
        "print(1234567890)\n",
        "print(f'{char_a:>5}') # >는 오른쪽정렬\n",
        "print(f'{char_a:<5}') # <는 왼쪽정렬\n",
        "print(f'{char_a:^5}') # ^는 가운데정렬\n",
        "print(f'{int_a:0<5}')# <는 왼쪽정렬, 빈자리를 0으로 채울수도 있음\n",
        "print(f'{int_a:^10.2f}') # ^ 가운데 정렬하면서 float 타입지정"
      ],
      "metadata": {
        "id": "kFC3UtW_wXLj"
      },
      "execution_count": null,
      "outputs": []
    },
    {
      "cell_type": "markdown",
      "source": [
        "## int (정수)"
      ],
      "metadata": {
        "id": "4FuHS2SOwmjX"
      }
    },
    {
      "cell_type": "markdown",
      "source": [
        "* 파이썬에서는 숫자를 정수, 실수, 복소수로 나눠 표현합니다.\n",
        "* 2진수, 8진수, 16진수는 정수로 표현됩니다."
      ],
      "metadata": {
        "id": "Ko_gJdPCworV"
      }
    },
    {
      "cell_type": "code",
      "source": [
        "a = 1234567899999999999999999999999999999999999999999999999999999\n",
        "print(type(a))\n",
        "# 2.x에서는 int와 long 두 가지가 있었는데 Python3에서는 int만 있습니다! 아무리 큰 수가 담겨도 int!"
      ],
      "metadata": {
        "id": "MhK97dTUevn4"
      },
      "execution_count": null,
      "outputs": []
    },
    {
      "cell_type": "code",
      "source": [
        "a = 10**100 # 구골(googol)\n",
        "print(a)\n",
        "print(type(a))"
      ],
      "metadata": {
        "id": "OfywK4cngPB1"
      },
      "execution_count": null,
      "outputs": []
    },
    {
      "cell_type": "code",
      "source": [
        "10 # 정수\n",
        "-10 # 정수\n",
        "10.1 # 실수\n",
        "\n",
        "a = 10\n",
        "type(a)\n",
        "dir(a)"
      ],
      "metadata": {
        "id": "j1lMIQSMwynh"
      },
      "execution_count": null,
      "outputs": []
    },
    {
      "cell_type": "code",
      "source": [
        "'bit_length' # bit로 바꾸었을 때 비트의 길이\n",
        "'to_bytes' # 컴퓨터에 저장하는 바이트의 형태로 숫자를 표현"
      ],
      "metadata": {
        "id": "I_RKmj4RxBqD"
      },
      "execution_count": null,
      "outputs": []
    },
    {
      "cell_type": "code",
      "source": [
        "# 1Bit, 0 ~ 1 # bit - 1자리\n",
        "# 1Bytes = 8bit, 00000000 ~ 11111111 # 1byte - 8bit\n",
        "# 1KB (키로바이트) = 1024Bytes\n",
        "# 1MB (메가바이트) = 1024KB\n",
        "# 1GB (기가바이트) = 1024MB\n",
        "# 1TB (테라바이트) = 1024GB\n",
        "# 1PB (페타바이트) = 1024TB"
      ],
      "metadata": {
        "id": "5UtZn0RcxvAh"
      },
      "execution_count": null,
      "outputs": []
    },
    {
      "cell_type": "code",
      "source": [
        "(9).bit_length() # 1001"
      ],
      "metadata": {
        "id": "Cuc-iV-CzVBJ"
      },
      "execution_count": null,
      "outputs": []
    },
    {
      "cell_type": "code",
      "source": [
        "# 컴퓨터가 숫자를 어떻게 저장하는가?\n",
        "(2).to_bytes(1, byteorder='little', signed=True)\n",
        "(1).to_bytes(1, byteorder='little', signed=True)\n",
        "(0).to_bytes(1, byteorder='little', signed=True)\n",
        "(-1).to_bytes(1, byteorder='little', signed=True)\n",
        "(-2).to_bytes(1, byteorder='little', signed=True)"
      ],
      "metadata": {
        "id": "E5m6x8zGzuGt"
      },
      "execution_count": null,
      "outputs": []
    },
    {
      "cell_type": "code",
      "source": [
        "# 컴퓨터는 음수를 자체적으로 표현할 수 없기에 2의 보수를 사용합니다. \n",
        "# 1의 보수를 사용하게 되면 +0과 -0이 존재하게 됨으로 비트 하나를 낭비하게 됩니다. \n",
        "# 따라서 2의 보수를 사용합니다."
      ],
      "metadata": {
        "id": "0YYHT-bB0hMN"
      },
      "execution_count": null,
      "outputs": []
    },
    {
      "cell_type": "code",
      "source": [
        "# 0000 0001 # 1\n",
        "# 1111 1110 # 1의 1의 보수\n",
        "# 1111 1111 # 1의 2의 보수 => ff"
      ],
      "metadata": {
        "id": "qL8ZgRC72Up-"
      },
      "execution_count": null,
      "outputs": []
    },
    {
      "cell_type": "code",
      "source": [
        "# 진법 변환 쉽게 하는 법 : 가장 가까운 승수를 찾아 더하거나 뺍니다.\n",
        "# 10진법\n",
        "# 0 1 2 3 4 5 6 7 8 9 -> 10\n",
        "# 1324 = 1*10^3 + 3*10^2 + 2*10^1 + 4*10^0\n",
        "\n",
        "# 2진법\n",
        "# 0 1 -> 10\n",
        "# 1001 = 1*2^3 + 1*2^0 = 9\n",
        "\n",
        "# 8진법\n",
        "# 0 1 2 3 4 5 6 7 -> 10\n",
        "\n",
        "# 16진법\n",
        "# 0 1 2 3 4 5 6 7 8 9 a b c d e f -> 10"
      ],
      "metadata": {
        "id": "pie3v6Ov2uS-"
      },
      "execution_count": null,
      "outputs": []
    },
    {
      "cell_type": "code",
      "source": [
        "# color의 표현\n",
        "# 2596be\n",
        "# 000000 ~ ffffff\n",
        "# ff는 10진수로 무슨 숫자를 의미\n",
        "# 100 - 1 => ff가 됩니다. 그래서 256 - 1"
      ],
      "metadata": {
        "id": "hJ-Qs3MZ7muX"
      },
      "execution_count": null,
      "outputs": []
    },
    {
      "cell_type": "code",
      "source": [
        "a = 10\n",
        "type(a)"
      ],
      "metadata": {
        "id": "JQ-C9p_r8FWJ"
      },
      "execution_count": null,
      "outputs": []
    },
    {
      "cell_type": "code",
      "source": [
        "int('10') + int('10')"
      ],
      "metadata": {
        "id": "R1c4KnaW8M3F"
      },
      "execution_count": null,
      "outputs": []
    },
    {
      "cell_type": "code",
      "source": [
        "int('10', 2) # 2진법으로 10은?"
      ],
      "metadata": {
        "id": "_UQMFy8K8SbR"
      },
      "execution_count": null,
      "outputs": []
    },
    {
      "cell_type": "code",
      "source": [
        "int('10', 8) # 8진법으로 10은?"
      ],
      "metadata": {
        "id": "rKGPnSv58Z2I"
      },
      "execution_count": null,
      "outputs": []
    },
    {
      "cell_type": "code",
      "source": [
        "int('10', 16) # 16진법으로 10은?"
      ],
      "metadata": {
        "id": "ukJkUEpF8cVh"
      },
      "execution_count": null,
      "outputs": []
    },
    {
      "cell_type": "code",
      "source": [
        "print(0b110) # 바이너리 - 2진수\n",
        "print(0o110) # 옥타 - 8진수\n",
        "print(0x110) # 헥사 - 16진수"
      ],
      "metadata": {
        "id": "ioMm-g158f-t"
      },
      "execution_count": null,
      "outputs": []
    },
    {
      "cell_type": "code",
      "source": [
        "type(0b110)"
      ],
      "metadata": {
        "id": "wuiWS5Uo9Fho"
      },
      "execution_count": null,
      "outputs": []
    },
    {
      "cell_type": "code",
      "source": [
        "a = 10\n",
        "type(a) == int\n",
        "isinstance(a, int)"
      ],
      "metadata": {
        "id": "oFCaE7CZ89hT"
      },
      "execution_count": null,
      "outputs": []
    },
    {
      "cell_type": "markdown",
      "source": [
        "## float (실수)"
      ],
      "metadata": {
        "id": "WHtIN8oG9DTD"
      }
    },
    {
      "cell_type": "code",
      "source": [
        "a = 10.1\n",
        "\n",
        "type(a)"
      ],
      "metadata": {
        "id": "49Yqsf7h9Mr9"
      },
      "execution_count": null,
      "outputs": []
    },
    {
      "cell_type": "code",
      "source": [
        "dir(a)"
      ],
      "metadata": {
        "id": "IFSd_1Vv9QxQ"
      },
      "execution_count": null,
      "outputs": []
    },
    {
      "cell_type": "code",
      "source": [
        "a = 10\n",
        "b = 10.1\n",
        "\n",
        "a + b # 다른 일부 언어에서는 허용되지 않습니다. "
      ],
      "metadata": {
        "id": "_xpjzwvH9W0E"
      },
      "execution_count": null,
      "outputs": []
    },
    {
      "cell_type": "code",
      "source": [
        "# 부동소수점 오차(2진법으로 변환했을 때 0.1이 무한대수가 발생합니다.)\n",
        "0.1 + 0.2 # 대부분의 언어 공통입니다."
      ],
      "metadata": {
        "id": "iPOP5_j09huq"
      },
      "execution_count": null,
      "outputs": []
    },
    {
      "cell_type": "code",
      "source": [
        "a = 0.1"
      ],
      "metadata": {
        "id": "WRmNCo4R93bc"
      },
      "execution_count": null,
      "outputs": []
    },
    {
      "cell_type": "code",
      "source": [
        "# 20번 반복해보세요.\n",
        "a = a + 0.1\n",
        "a"
      ],
      "metadata": {
        "id": "5qPsROhP95mk"
      },
      "execution_count": null,
      "outputs": []
    },
    {
      "cell_type": "markdown",
      "source": [
        "* https://docs.python.org/ko/3/tutorial/floatingpoint.html\n",
        "* https://0.30000000000000004.com/ 에서 언어별 해결책을 제시한다.\n",
        "* 컴퓨터에서 부동소수점 숫자는 2진 분수로 표현되기에 무한대수가 발생한다.\n",
        "* [무한수가 발생되는 원리](https://www.notion.so/paullabworkspace/5f34f21bf9a34015b170e7afd7da9593)"
      ],
      "metadata": {
        "id": "qeW-c4rw-lqE"
      }
    },
    {
      "cell_type": "markdown",
      "source": [
        "## 오늘 배운 것 정리\n",
        "1. 단축키\n",
        "    * (필수) Ctrl(Command) + Enter : 해당 셀 실행\n",
        "    * (필수) Alt(Option) + Enter : 해당 셀 실행 + 코드 불록 하단 추가\n",
        "    * (필수) Ctrl + / : 주석\n",
        "    * (필수) Shift + Del : 한 줄 지우기\n",
        "    * (필수) Tab, Ctrl + ] : 들여쓰기\n",
        "    * (필수) Shift + Tab, Ctrl + [ : 내어쓰기\n",
        "\n",
        "2. 마크다운\n",
        "    ```\n",
        "    # hello\n",
        "    ## hello\n",
        "    ### hello\n",
        "\n",
        "    1. hello\n",
        "    2. hello\n",
        "    3. hello\n",
        "\n",
        "    * hello\n",
        "    * hello\n",
        "    * hello\n",
        "    ```\n",
        "\n",
        "3. 주석\n",
        "\n",
        "    ```python\n",
        "    #행 단위 주석입니다.\n",
        "\n",
        "    \"\"\"\n",
        "    큰 따옴표로 세번 묶거나\n",
        "    작은따옴표로 세번 묶으면\n",
        "    열단위 주석이 됩니다.\n",
        "    \"\"\"\n",
        "\n",
        "    '''\n",
        "    큰 따옴표로 세번 묶거나\n",
        "    작은따옴표로 세번 묶으면\n",
        "    열단위 주석이 됩니다.\n",
        "    '''\n",
        "    ```\n",
        "\n",
        "4. PEP8 권고사항\n",
        "    * 띄어쓰기는 4칸\n",
        "    * 한 줄에 79자 이상을 사용하지 않는다.\n",
        "\n",
        "5. 형의 종류(type, dir)\n",
        "    * 컨벤션 자료형(list, tuple, dict, set)은 나중에 진행합니다.\n",
        "    * int\n",
        "    * float\n",
        "    * bool\n",
        "    * str\n",
        "    * function\n",
        "    * bulit-in function\n",
        "\n",
        "6. 이스케이프 문자\n",
        "    * https://ko.wikipedia.org/wiki/%EC%9D%B4%EC%8A%A4%EC%BC%80%EC%9D%B4%ED%94%84_%EB%AC%B8%EC%9E%90\n",
        "    ```python\n",
        "    print('hello \\n world')\n",
        "    print('hello \\t world')\n",
        "    print('hello \\' world')\n",
        "    print('hello \\\" world')\n",
        "    print('hello \\\\ world')\n",
        "    ```\n",
        "\n",
        "7. 실무에서 자주 사용하는 타입확인 구문\n",
        "    ```python\n",
        "    type(10)\n",
        "    type(10) == int\n",
        "    type(10.1) == float\n",
        "\n",
        "    a = 10\n",
        "    isinstance(a, int)\n",
        "    isinstance(a, float)\n",
        "    ```\n",
        "\n",
        "8. 변수의 인사이트\n",
        "    ```\n",
        "    dir을 입력했을 때\n",
        "    1. __hello__와 같은 형태의 메직 메서드는 속성을 표현한다\n",
        "    2.  언더바가 없는 메서드는 해당 자료형의 편의 기능을 제공한다\n",
        "    ```\n",
        "\n",
        "9. 입력과 출력\n",
        "    ```python\n",
        "    x = input() #입력, 숫자를 입력해도 str\n",
        "    print(x) #출력\n",
        "\n",
        "    이름 = '이호준'\n",
        "    나이 = 10\n",
        "    print(f'제 이름은 {이름}입니다. 제 나이는 {나이}입니다.')\n",
        "    print(f'{100 * 10}')\n",
        "    ```\n",
        "\n",
        "\n",
        "10. int 형\n",
        "    * 2진수, 8진수, 16진수는 정수\n",
        "\n",
        "\n",
        "11. float 형\n",
        "    * 부동소수점 오차(2진법으로 변환했을 때 0.1이 무한대수가 발생합니다.)\n",
        "    0.1 + 0.2 # 대부분의 언어 공통입니다.\n",
        "    * https://docs.python.org/ko/3/tutorial/floatingpoint.html\n",
        "    * https://0.30000000000000004.com/ 에서 언어별 해결책을 제시한다."
      ],
      "metadata": {
        "id": "2pnCzgV5DMtw"
      }
    },
    {
      "cell_type": "markdown",
      "source": [
        "## str (문자열)"
      ],
      "metadata": {
        "id": "E1nDm4EOyOxg"
      }
    },
    {
      "cell_type": "markdown",
      "source": [
        "- 순서가 있는 **시퀀스 자료형**입니다.\n",
        "- 작은 따옴표(' ')나 큰 따옴표(\" \"), 삼중따옴표('''str''', \"\"\"str\"\"\")로 감싸는 것도 가능합니다. (삼중따옴표를 사용할 경우에는 줄단위의 문자열을 나타낼 수 있습니다.)\n",
        "- 작은 따옴표 안에 큰 따옴표, 큰 따옴표 안에 작은 따옴표 사용이 가능합니다.\n",
        "- 이스케이프 문자도 사용이 가능합니다.\n",
        "- 리스트, 튜플도 시퀀스 자료형입니다."
      ],
      "metadata": {
        "id": "oiTbcA4ZymFy"
      }
    },
    {
      "cell_type": "code",
      "source": [
        "s = 'paullab CEO leehojun'\n",
        "s[0] # 0은 index입니다. 이렇게 호출하는 것을 indexing이라고 합니다."
      ],
      "metadata": {
        "id": "bWpJ4e7Rymxn"
      },
      "execution_count": null,
      "outputs": []
    },
    {
      "cell_type": "code",
      "source": [
        "type(s)"
      ],
      "metadata": {
        "id": "b7Qrox7Kzw6l"
      },
      "execution_count": null,
      "outputs": []
    },
    {
      "cell_type": "code",
      "source": [
        "dir(s)"
      ],
      "metadata": {
        "id": "ovEYlXhYz5WO"
      },
      "execution_count": null,
      "outputs": []
    },
    {
      "cell_type": "code",
      "source": [
        "# 문자열의 메서드\n",
        "# 'capitalize','casefold','center','count','encode',\n",
        "# 'endswith','expandtabs','find','format','format_map',\n",
        "# 'index','isalnum','isalpha','isascii','isdecimal','isdigit',\n",
        "# 'isidentifier','islower','isnumeric','isprintable','isspace',\n",
        "# 'istitle','isupper','join','ljust','lower','lstrip',\n",
        "# 'maketrans','partition','removeprefix','removesuffix',\n",
        "# 'replace','rfind','rindex','rjust','rpartition','rsplit',\n",
        "# 'rstrip','split','splitlines','startswith','strip','swapcase',\n",
        "# 'title','translate','upper','zfill'"
      ],
      "metadata": {
        "id": "8v9ORs0wz7M6"
      },
      "execution_count": null,
      "outputs": []
    },
    {
      "cell_type": "code",
      "source": [
        "s = 'paullab CEO leehojun'\n",
        "s.lower(), s.upper() \n",
        "# 특히 사용자에게 입력을 받는 경우 lower도 많이 사용합니다."
      ],
      "metadata": {
        "id": "h3rHBF2q0ccP"
      },
      "execution_count": null,
      "outputs": []
    },
    {
      "cell_type": "code",
      "source": [
        "s = 'paullab CEO leehojun'\n",
        "s.find('C'), s.index('C')"
      ],
      "metadata": {
        "id": "J1XZeKRq0nyr"
      },
      "execution_count": null,
      "outputs": []
    },
    {
      "cell_type": "code",
      "source": [
        "# 견고한 코드란?\n",
        "# 시간이 지나도 그대로 사용할 수 있고\n",
        "# error가 예측 가능하게 나는 코드\n",
        "# 네이버에 이미지 슬라이딩 코드\n",
        "# bool(s.find('Z')) => -1은 True이기 때문에 주의가 필요합니다.\n",
        "s.find('Z')"
      ],
      "metadata": {
        "id": "ZI_2ilR71RrP"
      },
      "execution_count": null,
      "outputs": []
    },
    {
      "cell_type": "code",
      "source": [
        "# Error가 나면 Error를 주는 것이 좋을 수 있습니다.\n",
        "# Error를 안주는 언어로 JavaScript\n",
        "s.index('Z')"
      ],
      "metadata": {
        "id": "r-N9BWGI1icv"
      },
      "execution_count": null,
      "outputs": []
    },
    {
      "cell_type": "code",
      "source": [
        "s = 'paullab CEO leehojun'\n",
        "s.find('CEO')"
      ],
      "metadata": {
        "id": "_028fVhM2fcV"
      },
      "execution_count": null,
      "outputs": []
    },
    {
      "cell_type": "code",
      "source": [
        "# 별 5개\n",
        "s = 'paullab CEO leehojun'\n",
        "s.count('l')"
      ],
      "metadata": {
        "id": "tWJfrb6J2wAN"
      },
      "execution_count": null,
      "outputs": []
    },
    {
      "cell_type": "code",
      "source": [
        "str([1, 2, 3, 4, 5])"
      ],
      "metadata": {
        "id": "Q5Pdxwt721HM"
      },
      "execution_count": null,
      "outputs": []
    },
    {
      "cell_type": "code",
      "source": [
        "str([1, 2, 3, 4, 5]).count(' ')"
      ],
      "metadata": {
        "id": "EccL4X063A7i"
      },
      "execution_count": null,
      "outputs": []
    },
    {
      "cell_type": "code",
      "source": [
        "str([1, 2, 3, 4, 5]).count(',')"
      ],
      "metadata": {
        "id": "o7jBZFYA3E0R"
      },
      "execution_count": null,
      "outputs": []
    },
    {
      "cell_type": "code",
      "source": [
        "str([1, 2, 11, 4, 111]).count('1')"
      ],
      "metadata": {
        "id": "2sZCJILx3IuQ"
      },
      "execution_count": null,
      "outputs": []
    },
    {
      "cell_type": "code",
      "source": [
        "str(list(range(0, 10001))).count('8')"
      ],
      "metadata": {
        "id": "06OUri5l5dWV"
      },
      "execution_count": null,
      "outputs": []
    },
    {
      "cell_type": "markdown",
      "source": [
        "* https://codingdojang.com/scode/393?answer_mode=hide"
      ],
      "metadata": {
        "id": "TrBrUwOA3mDb"
      }
    },
    {
      "cell_type": "code",
      "source": [
        "str([1,2,3,4,5]).count(' ') \n",
        "# list는 콤마 다음에 공백이 없더라도 공백으로 인식해줍니다."
      ],
      "metadata": {
        "id": "zneiE8k43neD"
      },
      "execution_count": null,
      "outputs": []
    },
    {
      "cell_type": "code",
      "source": [
        "str([1,\n",
        "     2,\n",
        "     3,\n",
        "     4,\n",
        "     5]).count(' ')\n",
        "# list는 콤마 다음에 공백이 없더라도 공백으로 인식해줍니다."
      ],
      "metadata": {
        "id": "bMCFS2KL4pao"
      },
      "execution_count": null,
      "outputs": []
    },
    {
      "cell_type": "code",
      "source": [
        "'hello'.count('')"
      ],
      "metadata": {
        "id": "PQ9e39Of4HaA"
      },
      "execution_count": null,
      "outputs": []
    },
    {
      "cell_type": "code",
      "source": [
        "'a'.count('')"
      ],
      "metadata": {
        "id": "sb3Movhi4alU"
      },
      "execution_count": null,
      "outputs": []
    },
    {
      "cell_type": "code",
      "source": [
        "''.count('')"
      ],
      "metadata": {
        "id": "F-_Q0q9u4VwR"
      },
      "execution_count": null,
      "outputs": []
    },
    {
      "cell_type": "code",
      "source": [
        "'' + ''"
      ],
      "metadata": {
        "id": "l7wUovyB4fz3"
      },
      "execution_count": null,
      "outputs": []
    },
    {
      "cell_type": "code",
      "source": [
        "'   hello   !  '.strip('') # 공백제거 메서드"
      ],
      "metadata": {
        "id": "dbd7lYMi6Yqj",
        "colab": {
          "base_uri": "https://localhost:8080/",
          "height": 35
        },
        "outputId": "132504bf-12ad-4066-cddf-554fd2ce22b5"
      },
      "execution_count": null,
      "outputs": [
        {
          "output_type": "execute_result",
          "data": {
            "text/plain": [
              "'   hello   !  '"
            ],
            "application/vnd.google.colaboratory.intrinsic+json": {
              "type": "string"
            }
          },
          "metadata": {},
          "execution_count": 8
        }
      ]
    },
    {
      "cell_type": "code",
      "source": [
        "'   hello   !  '.rstrip()"
      ],
      "metadata": {
        "id": "WVS77H4V6mUE"
      },
      "execution_count": null,
      "outputs": []
    },
    {
      "cell_type": "code",
      "source": [
        "'   hello   !  '.lstrip()"
      ],
      "metadata": {
        "id": "CEQN_QWY6qzH"
      },
      "execution_count": null,
      "outputs": []
    },
    {
      "cell_type": "code",
      "source": [
        "# 별 5개\n",
        "'hello world hi'.replace(' ', '!')\n",
        "'hello world hi'.replace('world', 'W@O@R@L@D').upper()"
      ],
      "metadata": {
        "id": "5F8ftW7v62_v"
      },
      "execution_count": null,
      "outputs": []
    },
    {
      "cell_type": "code",
      "source": [
        "'hello world hi'.replace('world', 'W@O@R@L@D').upper().split('@')\n",
        "# 반환값이 list이기 때문에 메서드 체이닝을 하려면 \n",
        "# 이후로 list 메서드를 사용해야 합니다."
      ],
      "metadata": {
        "id": "LhlU1SoG7UQE"
      },
      "execution_count": null,
      "outputs": []
    },
    {
      "cell_type": "code",
      "source": [
        "'hello world hi'.replace(' ', '')"
      ],
      "metadata": {
        "id": "HgCloIUj7qE1"
      },
      "execution_count": null,
      "outputs": []
    },
    {
      "cell_type": "code",
      "source": [
        "data = '''  \"+ +-+ -+-\"  \n",
        "  \"++ -- +-+\"  \n",
        "  \"++-+ -+ -\"  \n",
        "  \"+ ++-+ -+\"  '''\n",
        "\n",
        "data.split('\\n')[0].replace(' ', '').replace('\"', '')\n",
        "\n",
        "# Pythonic하지 않다!\n",
        "data.split('\\n')[0].replace(' ', \n",
        "                '').replace('\"', \n",
        "                '')\n",
        "\n",
        "# Pythonic하게 하려면\n",
        "data.split('\\n')[0]\\\n",
        "                .replace(' ', '')\\\n",
        "                .replace('\"', '')\\\n",
        "                .replace('\"', '')\\\n",
        "                .replace('\"', '')\\\n",
        "                .replace('\"', '')\\\n",
        "                .replace('\"', '')\\\n",
        "                .replace('\"', '')\\\n",
        "                .replace('\"', '')\n",
        "\n",
        "# 제가 사용하는 기법\n",
        "processed_string = data.split('\\n')[0].replace(' ', '').replace('\"', '')\n",
        "processed_string.replace('\"', '').replace('\"', '')"
      ],
      "metadata": {
        "id": "LOvQCma879mP"
      },
      "execution_count": null,
      "outputs": []
    },
    {
      "cell_type": "code",
      "source": [
        "# aaaaaaaaaaaaaaaaaaaaaaaaaaaaaaaaaaaaaaaaaaaaaaaaaaaaaaaaaaaaaaaaaaaaaaaaaaaaaaaa 79자\n",
        "# 아아아아아아아아아아아아아아아아아아아아아아아아아아아아아아아아아아아아아아아아 39자"
      ],
      "metadata": {
        "id": "UzFN4lWq_b0Q"
      },
      "execution_count": null,
      "outputs": []
    },
    {
      "cell_type": "code",
      "source": [
        "data = '''  \"+ +-+ -+-\"  \n",
        "  \"++ -- +-+\"  \n",
        "  \"++-+ -+ -\"  \n",
        "  \"+ ++-+ -+\"  '''\n",
        "\n",
        "data.split('\\n')[0].replace(' ', '').replace('\"', '').replace('+', '1').replace('-', '0')\n",
        "ord('A'), chr(65) # ord는 문자를 가지고 숫자로 변경 chr은 숫자를 가지고 문자로 변경합니다.\n",
        "\n",
        "숫자 = data.split('\\n')[0].replace(' ', '').replace('\"', '').replace('+', '1').replace('-', '0')\n",
        "int(숫자, 2)\n",
        "chr(int(숫자, 2))"
      ],
      "metadata": {
        "id": "OaxoAwFoA3Ou"
      },
      "execution_count": null,
      "outputs": []
    },
    {
      "cell_type": "code",
      "source": [
        "# 별 4.5개\n",
        "'paullab CEO leehojun'.split(' ') #문자열을 쪼개어 줍니다.\n",
        "'paullab!CEO!leehojun'.split('!')\n",
        "'paullab,CEO,leehojun'.split(',')"
      ],
      "metadata": {
        "id": "CjjncWxRCDN2"
      },
      "execution_count": null,
      "outputs": []
    },
    {
      "cell_type": "code",
      "source": [
        "# 퀴즈\n",
        "'010 5044 2903' # 1번\n",
        "'010-5044-2903' # 2번\n",
        "'010 5044-2903' # 3번"
      ],
      "metadata": {
        "id": "gkhSY2pjCJGC"
      },
      "execution_count": null,
      "outputs": []
    },
    {
      "cell_type": "code",
      "source": [
        "# 원하는 결과값\n",
        "# ['010', '5044', '2903']\n",
        "# [10, 5044, 2903] # 010은 error가 나기 때문에 10으로 저장"
      ],
      "metadata": {
        "id": "cR5wOce2CPrm"
      },
      "execution_count": null,
      "outputs": []
    },
    {
      "cell_type": "code",
      "source": [
        "'010 5044 2903'.split(' ')\n",
        "'010-5044-2903'.split('-')\n",
        "'010 5044-2903'.replace(' ', '-').split('-')"
      ],
      "metadata": {
        "id": "qQkuKM8dFeRC"
      },
      "execution_count": null,
      "outputs": []
    },
    {
      "cell_type": "code",
      "source": [
        "'010 5044 2903'.split() # 공백단위가 들어가기 됩니다."
      ],
      "metadata": {
        "id": "8vKz9b_1Fv0S"
      },
      "execution_count": null,
      "outputs": []
    },
    {
      "cell_type": "code",
      "source": [
        "# '01050442903'.split('') # 빈 문자열을 넣지는 못합니다."
      ],
      "metadata": {
        "id": "VchqEmS4F2L9"
      },
      "execution_count": null,
      "outputs": []
    },
    {
      "cell_type": "code",
      "source": [
        "list(map(int,'010 5044 2903'.split(' ')))"
      ],
      "metadata": {
        "id": "OhV1Ll56GAG7"
      },
      "execution_count": null,
      "outputs": []
    },
    {
      "cell_type": "code",
      "source": [
        "int('010')"
      ],
      "metadata": {
        "id": "b7k1FI7gMO4G"
      },
      "execution_count": null,
      "outputs": []
    },
    {
      "cell_type": "code",
      "source": [
        "# print(010) # error"
      ],
      "metadata": {
        "id": "0xRg5xOPMR8g"
      },
      "execution_count": null,
      "outputs": []
    },
    {
      "cell_type": "code",
      "source": [
        "num ='010 5044-2903'.replace('-',' ').split(' ')\n",
        "[int(i) for i in num] # 리스트 컴프리헨션 사용\n",
        "list(map(int, '010 5044 2903'.split(' ')))\n",
        "\n",
        "# 2개 모두 새로운 리스트를 만드는 것입니다.\n",
        "# 원본을 변경시키지 않습니다.\n",
        "\n",
        "list(map(int, '01050442903'))"
      ],
      "metadata": {
        "id": "aSI-R1PVMcFv"
      },
      "execution_count": null,
      "outputs": []
    },
    {
      "cell_type": "code",
      "source": [
        "# 이 코드 보다는\n",
        "s = []\n",
        "for i in '010 5044-2903'.replace('-',' ').split(' '):\n",
        "    s.append(int(i))\n",
        "s\n",
        "\n",
        "# 요 코드를 추천합니다.\n",
        "[int(i) for i in num]"
      ],
      "metadata": {
        "id": "mTb4latVM_E3"
      },
      "execution_count": null,
      "outputs": []
    },
    {
      "cell_type": "code",
      "source": [
        "# 지금 진도에서 과하기 때문에 \n",
        "# 지금은 잊으셔도 됩니다.\n",
        "# 뒤에서 상세하게 다룹니다.\n",
        "def 제곱함수(x):\n",
        "    return x ** 2\n",
        "\n",
        "def 정수함수(x):\n",
        "    return int(x)\n",
        "\n",
        "list(map(제곱함수, [1, 2, 3]))\n",
        "list(map(정수함수, ['1', '2', '3']))\n",
        "list(map(int, ['1', '2', '3']))\n",
        "\n",
        "list(map(int, ['010', '5044', '2903']))\n",
        "list(map(int,'010 5044 2903'.split(' ')))"
      ],
      "metadata": {
        "id": "HmHlfOQQGKJn"
      },
      "execution_count": null,
      "outputs": []
    },
    {
      "cell_type": "code",
      "source": [
        "# 별 4.5 개\n",
        "'~'.join(['hello', 'world', 'hello'])\n",
        "'!'.join(['hello', 'world', 'hello'])\n",
        "# ''.join(['hello', 'world', 'hello'])\n",
        "# ' '.join(['hello', 'world', 'hello'])"
      ],
      "metadata": {
        "id": "BFFvaHDqHRXF",
        "colab": {
          "base_uri": "https://localhost:8080/",
          "height": 35
        },
        "outputId": "7f14903b-7957-4b03-ab6f-fb7079426f44"
      },
      "execution_count": null,
      "outputs": [
        {
          "output_type": "execute_result",
          "data": {
            "text/plain": [
              "'hello!world!hello'"
            ],
            "application/vnd.google.colaboratory.intrinsic+json": {
              "type": "string"
            }
          },
          "metadata": {},
          "execution_count": 3
        }
      ]
    },
    {
      "cell_type": "code",
      "source": [
        "'hello'.isalpha()"
      ],
      "metadata": {
        "id": "4Md6KDkQH5AB",
        "colab": {
          "base_uri": "https://localhost:8080/"
        },
        "outputId": "56c8021a-6f40-4852-c076-9e2ed17d5674"
      },
      "execution_count": null,
      "outputs": [
        {
          "output_type": "execute_result",
          "data": {
            "text/plain": [
              "True"
            ]
          },
          "metadata": {},
          "execution_count": 12
        }
      ]
    },
    {
      "cell_type": "code",
      "source": [
        "'he llo'.isalpha()"
      ],
      "metadata": {
        "id": "neHWzABWIAei",
        "colab": {
          "base_uri": "https://localhost:8080/"
        },
        "outputId": "e95f8212-70f5-4580-8e20-1a7656ee7deb"
      },
      "execution_count": null,
      "outputs": [
        {
          "output_type": "execute_result",
          "data": {
            "text/plain": [
              "False"
            ]
          },
          "metadata": {},
          "execution_count": 13
        }
      ]
    },
    {
      "cell_type": "code",
      "source": [
        "'123'.isdigit()"
      ],
      "metadata": {
        "id": "McC_9BWrIGlZ",
        "colab": {
          "base_uri": "https://localhost:8080/"
        },
        "outputId": "535d9064-f041-4642-ea2c-3d92600c3ad4"
      },
      "execution_count": null,
      "outputs": [
        {
          "output_type": "execute_result",
          "data": {
            "text/plain": [
              "True"
            ]
          },
          "metadata": {},
          "execution_count": 9
        }
      ]
    },
    {
      "cell_type": "code",
      "source": [
        "'12a3'.isdigit(), '12 3'.isdigit()"
      ],
      "metadata": {
        "id": "dhOpP3MfIJaJ",
        "colab": {
          "base_uri": "https://localhost:8080/"
        },
        "outputId": "67d162ad-1885-442c-d2c9-8bf150ceb91f"
      },
      "execution_count": null,
      "outputs": [
        {
          "output_type": "execute_result",
          "data": {
            "text/plain": [
              "(False, False)"
            ]
          },
          "metadata": {},
          "execution_count": 10
        }
      ]
    },
    {
      "cell_type": "code",
      "source": [
        "'12a3'.isalnum(), '12 3'.isalnum()"
      ],
      "metadata": {
        "id": "_sQWXeAFIUHD",
        "colab": {
          "base_uri": "https://localhost:8080/"
        },
        "outputId": "e0c1d44b-4615-4015-9eee-42330a9854c3"
      },
      "execution_count": null,
      "outputs": [
        {
          "output_type": "execute_result",
          "data": {
            "text/plain": [
              "(True, False)"
            ]
          },
          "metadata": {},
          "execution_count": 11
        }
      ]
    },
    {
      "cell_type": "code",
      "source": [
        "'안녕하세요!'.isalpha(), '안녕하세요!'.isalnum()"
      ],
      "metadata": {
        "id": "jKjJFISBIb9Q"
      },
      "execution_count": null,
      "outputs": []
    },
    {
      "cell_type": "code",
      "source": [
        "# 퀴즈\n",
        "# 숫자를 모두 더하라!\n",
        "result = 0\n",
        "for i in '123abc913sldlf':\n",
        "    # print(i.isdigit())\n",
        "    if i.isdigit():\n",
        "        result += int(i) # result = result + int(i)\n",
        "result"
      ],
      "metadata": {
        "id": "-XrpDD93Im_1"
      },
      "execution_count": null,
      "outputs": []
    },
    {
      "cell_type": "code",
      "source": [
        "result = 0\n",
        "for i in '123abc913sldlf':\n",
        "    if i.isdigit():\n",
        "        result += int(i)\n",
        "result"
      ],
      "metadata": {
        "id": "QqgISZHCJPQp"
      },
      "execution_count": null,
      "outputs": []
    },
    {
      "cell_type": "code",
      "source": [
        "'paullab CEO leehojun'.isascii()"
      ],
      "metadata": {
        "id": "FefJOIHFNbfe"
      },
      "execution_count": null,
      "outputs": []
    },
    {
      "cell_type": "code",
      "source": [
        "'paullab CEO leehojun'.rjust(30) #오른쪽 정렬\n",
        "'paullab CEO leehojun'.ljust(30) #왼쪽 정렬\n",
        "'paullab CEO leehojun'.center(30)#가운데 정렬"
      ],
      "metadata": {
        "id": "GSgKmh2EJhxy"
      },
      "execution_count": null,
      "outputs": []
    },
    {
      "cell_type": "code",
      "source": [
        "'hello'.zfill(20) # 데이터의 빈 공간을 0으로 채워줍니다."
      ],
      "metadata": {
        "id": "bxrZraemN1wc"
      },
      "execution_count": null,
      "outputs": []
    },
    {
      "cell_type": "code",
      "source": [
        "'1001'.zfill(5)\n",
        "'hello'.zfill(10).replace('0', '-')"
      ],
      "metadata": {
        "id": "tlsh_QNTOH-K"
      },
      "execution_count": null,
      "outputs": []
    },
    {
      "cell_type": "code",
      "source": [
        "규칙테이블 = str.maketrans({'\\n':'', '\\t':''})\n",
        "'paullab \\n\\n\\n CEO \\t\\t\\t leehojun'.translate(규칙테이블)"
      ],
      "metadata": {
        "id": "LZWRM2ObOhS8"
      },
      "execution_count": null,
      "outputs": []
    },
    {
      "cell_type": "code",
      "source": [
        "'paullab \\n\\n\\n CEO \\t\\t\\t leehojun'.replace('\\n', '').replace('\\t', '')"
      ],
      "metadata": {
        "id": "0-4EXBsROn-R"
      },
      "execution_count": null,
      "outputs": []
    },
    {
      "cell_type": "code",
      "source": [
        "규칙테이블 = str.maketrans('\\n\\t', '  ') # 똑같은 길이를 가지고 있어야 함\n",
        "'paullab \\n\\n\\n CEO \\t\\t\\t leehojun'.translate(규칙테이블)"
      ],
      "metadata": {
        "id": "tHgF0nkoO8L6"
      },
      "execution_count": null,
      "outputs": []
    },
    {
      "cell_type": "code",
      "source": [
        "규칙테이블 = str.maketrans('le','12')\n",
        "'paullab CEO leehojun'.translate(규칙테이블) #어떤 규칙을 정하는것"
      ],
      "metadata": {
        "id": "vRO4DK5CPF3C"
      },
      "execution_count": null,
      "outputs": []
    },
    {
      "cell_type": "markdown",
      "source": [
        "## pep"
      ],
      "metadata": {
        "id": "wqdkfJDfPP1i"
      }
    },
    {
      "cell_type": "code",
      "source": [
        "# aaaaaaaaaaaaaaaaaaaaaaaaaaaaaaaaaaaaaaaaaaaaaaaaaaaaaaaaaaaaaaaaaaaaaaaaaaaaaaaa => 80자\n",
        "# 아아아아아아아아아아아아아아아아아아아아아아아아아아아아아아아아아아아아아아아아아아 => 40자면 한글 넘어갑니다.\n",
        "# line에 딱 맞춰 들어간 것을 볼 수 있습니다. \n",
        "# 강제사항은 아닙니다.\n",
        "# 띄어쓰기 4번도 강제사항은 아닙니다.\n",
        "# pep8, pep20에 기술되어 있습니다. => pep(Python Enhancement Proposal)란 무엇인가요? 8이란 무엇인가요?\n",
        "# pep8 : Style Guide for Python Code (https://peps.python.org/pep-0008/)\n",
        "# pep20 : The Zen of Python(https://peps.python.org/pep-0020/) #이스터애그로 숨겨져 있습니다.\n",
        "# https://peps.python.org/"
      ],
      "metadata": {
        "id": "GuJRXXPsPW0N"
      },
      "execution_count": null,
      "outputs": []
    },
    {
      "cell_type": "markdown",
      "source": [
        "## cpython\n",
        "\n",
        "* 공식홈페이지에서 다운로드 받는 것이 cpython입니다.\n",
        "* https://github.com/python/cpython\n",
        "* list를 구현한 코드 : https://github.com/python/cpython/blob/main/Objects/listobject.c"
      ],
      "metadata": {
        "id": "2xoiw-BTQlRx"
      }
    },
    {
      "cell_type": "markdown",
      "source": [
        "## 인덱싱과 슬라이싱"
      ],
      "metadata": {
        "id": "zxQW-G0ASV5B"
      }
    },
    {
      "cell_type": "code",
      "source": [
        "name = 'Guido van Rossum'\n",
        "print(name[0])\n",
        "print(name[1])\n",
        "print(name[2])"
      ],
      "metadata": {
        "id": "fYaI0NEeRWmG"
      },
      "execution_count": null,
      "outputs": []
    },
    {
      "cell_type": "code",
      "source": [
        "# s[start:stop:step]\n",
        "s = 'paullab CEO leehojun'\n",
        "s[5:]\n",
        "s[:5]\n",
        "s[3:10]\n",
        "s[:]\n",
        "s[0:20:2]"
      ],
      "metadata": {
        "id": "YRcJ-FENSdag"
      },
      "execution_count": null,
      "outputs": []
    },
    {
      "cell_type": "code",
      "source": [
        "# 자주 사용되는 코드\n",
        "s = 'paullab CEO leehojun!'\n",
        "s[:] # string에서는 많이 사용하지 않지만 list에서 많이 사용합니다.\n",
        "s[:-1] # 마지막 요소만 제외하고 다 슬라이싱 합니다."
      ],
      "metadata": {
        "id": "dXZU1G-4TJGt"
      },
      "execution_count": null,
      "outputs": []
    },
    {
      "cell_type": "code",
      "source": [
        "test = [1, 2, 3, 4]\n",
        "test2 = test\n",
        "test2[0] = 1000\n",
        "test, test2"
      ],
      "metadata": {
        "id": "uuvvoUl1TdVM"
      },
      "execution_count": null,
      "outputs": []
    },
    {
      "cell_type": "code",
      "source": [
        "test = [1, 2, 3, 4]\n",
        "test2 = test[:] # 새로운 리스트를 만들어서 test2에게 줍니다.\n",
        "test2[0] = 1000\n",
        "test, test2"
      ],
      "metadata": {
        "id": "WIMsBsOoTtdu"
      },
      "execution_count": null,
      "outputs": []
    },
    {
      "cell_type": "markdown",
      "source": [
        "## 문자열의 연산"
      ],
      "metadata": {
        "id": "SE9464pnUoRy"
      }
    },
    {
      "cell_type": "code",
      "source": [
        "s = 'hello world'\n",
        "dir(s)\n",
        "s + s\n",
        "s * 3"
      ],
      "metadata": {
        "id": "ESuIHzC8UYtB"
      },
      "execution_count": null,
      "outputs": []
    },
    {
      "cell_type": "markdown",
      "source": [
        "## 형변환"
      ],
      "metadata": {
        "id": "wvm0O7jOUuCu"
      }
    },
    {
      "cell_type": "markdown",
      "source": [
        "* 형변환 : type을 변경하는 것입니다."
      ],
      "metadata": {
        "id": "p6cWnOkZWHnr"
      }
    },
    {
      "cell_type": "code",
      "source": [
        "x = int(input())\n",
        "x + x # but 알파벳 입력하면 error!"
      ],
      "metadata": {
        "id": "b8L-GGjmUyGK"
      },
      "execution_count": null,
      "outputs": []
    },
    {
      "cell_type": "code",
      "source": [
        "x = input()\n",
        "if x.isdigit():\n",
        "    x = int(x) # but 알파벳 입력하면 error!\n",
        "x + x"
      ],
      "metadata": {
        "id": "hKYuteAhU6mv"
      },
      "execution_count": null,
      "outputs": []
    },
    {
      "cell_type": "code",
      "source": [
        "# int('abc') # error\n",
        "int(10.1) # 버림\n",
        "int('10') # 형변환 가능\n",
        "# int('10.1') # 형변환 불가능"
      ],
      "metadata": {
        "id": "ohS3HFvwVKd8"
      },
      "execution_count": null,
      "outputs": []
    },
    {
      "cell_type": "code",
      "source": [
        "float('10') # 형변환 가능\n",
        "float('10.1') # 형변환 가능"
      ],
      "metadata": {
        "id": "K6fUrM16Vqdn"
      },
      "execution_count": null,
      "outputs": []
    },
    {
      "cell_type": "code",
      "source": [
        "int('10a') # 되는 언어가 있어서 보여드린 것입니다.\n",
        "# Python에서는 허용하지 않습니다."
      ],
      "metadata": {
        "id": "ZLNfzYkOVyRW"
      },
      "execution_count": null,
      "outputs": []
    },
    {
      "cell_type": "code",
      "source": [
        "def hello():\n",
        "    pass\n",
        "\n",
        "str(type)\n",
        "str(hello)\n",
        "\n",
        "str('123')\n",
        "str(True)\n",
        "str(None)\n",
        "str([1, 2, 3])\n",
        "str({1, 2, 3})\n",
        "str({'one':1, 'two':2})"
      ],
      "metadata": {
        "id": "a9iGS1JFWLx1"
      },
      "execution_count": null,
      "outputs": []
    },
    {
      "cell_type": "code",
      "source": [
        "# 별 5개\n",
        "# bool 형으로 형변환 하는 것\n",
        "if True:\n",
        "    print('hi')\n",
        "\n",
        "if 'hello':\n",
        "    print('hi')\n",
        "\n",
        "# 정말 많이 사용하는 코드\n",
        "# l = [1, 2, 3]\n",
        "# while l:\n",
        "#     print(l.pop())\n",
        "\n",
        "l = [1, 2, 3]\n",
        "\n",
        "print(l.pop())\n",
        "l\n",
        "\n",
        "bool('') # 빈 문자열을 제외하고 모두 True\n",
        "bool('a')\n",
        "bool('False') # 문자열 False이기 때문에 True\n",
        "bool(0) # 0을 제외하고 모두 True\n",
        "bool(-1)\n",
        "bool(100)\n",
        "bool(None) # None은 비어있음을 명시해주는 키워드, False\n",
        "bool([]) # 컨벤션 자료형은 비어있으면 False입니다.\n",
        "bool({})"
      ],
      "metadata": {
        "id": "3V-MyX9KW3qT",
        "colab": {
          "base_uri": "https://localhost:8080/"
        },
        "outputId": "3c523a47-e9c8-4d7d-b42f-da52b33d2c74"
      },
      "execution_count": null,
      "outputs": [
        {
          "output_type": "stream",
          "name": "stdout",
          "text": [
            "hi\n",
            "hi\n",
            "3\n"
          ]
        },
        {
          "output_type": "execute_result",
          "data": {
            "text/plain": [
              "False"
            ]
          },
          "metadata": {},
          "execution_count": 17
        }
      ]
    },
    {
      "cell_type": "code",
      "source": [
        "# list로 형변환\n",
        "s = '10'\n",
        "l = list(s)\n",
        "l"
      ],
      "metadata": {
        "id": "5QL1EB6zphC0"
      },
      "execution_count": null,
      "outputs": []
    },
    {
      "cell_type": "code",
      "source": [
        "s = 'leehojun'\n",
        "l = list(s)\n",
        "l\n"
      ],
      "metadata": {
        "id": "0BVdlmK_pp3G"
      },
      "execution_count": null,
      "outputs": []
    },
    {
      "cell_type": "code",
      "source": [
        "# map('함수', '반복자')\n",
        "# Python program to demonstrate working\n",
        "# of map.\n",
        " \n",
        "# Return double of n\n",
        "def addition(n):\n",
        "    return n + n\n",
        " \n",
        "# We double all numbers using map()\n",
        "numbers = (1, 2, 3, 4)\n",
        "result = map(addition, numbers)\n",
        "print(list(map(addition, result)))"
      ],
      "metadata": {
        "id": "xVBhIjsKcwq0"
      },
      "execution_count": null,
      "outputs": []
    },
    {
      "cell_type": "code",
      "source": [
        "# tuple로 형변환\n",
        "s = 'leehojun'\n",
        "l = tuple(s)\n",
        "l"
      ],
      "metadata": {
        "id": "pX2dv4E3pvqS"
      },
      "execution_count": null,
      "outputs": []
    },
    {
      "cell_type": "code",
      "source": [
        "# dict\n",
        "# name = 'leehojun' # error\n",
        "# dict(name)\n",
        "\n",
        "s = [('name','leehojun'), ('age',10)]\n",
        "d = dict(s)\n",
        "d"
      ],
      "metadata": {
        "id": "ugVTT0Fmp3cX"
      },
      "execution_count": null,
      "outputs": []
    },
    {
      "cell_type": "code",
      "source": [
        "list = [1, 2, 3, 4]\n",
        "tuple = (1, 2, 3, 4)\n",
        "set = {1, 2, 3}\n",
        "dict = {'a': 1, 'b': 2, 'c':3}"
      ],
      "metadata": {
        "id": "QZRcvDOMgW5v"
      },
      "execution_count": null,
      "outputs": []
    },
    {
      "cell_type": "code",
      "source": [
        "# set(집합)으로 형변환\n",
        "name = 'leehojun'\n",
        "set(name)\n",
        "age = 30\n",
        "print(f\"나이는[age]이름은{name}\")"
      ],
      "metadata": {
        "id": "z1TN86-KqNMo"
      },
      "execution_count": null,
      "outputs": []
    },
    {
      "cell_type": "code",
      "source": [
        "len('hello world') # __len__\n",
        "len([1, 2, 3, 4, 5, 6, 70])"
      ],
      "metadata": {
        "id": "cg1IqW9eqcSx"
      },
      "execution_count": null,
      "outputs": []
    },
    {
      "cell_type": "markdown",
      "source": [
        "## 문제풀이"
      ],
      "metadata": {
        "id": "WZMJ_b6lryGx"
      }
    },
    {
      "cell_type": "code",
      "source": [
        "# 1번의 오답(아래처럼 변수를 선언하지 않도록 주의해주세요.)\n",
        "\n",
        "#1번\n",
        "# print = 100\n",
        "\n",
        "#2번\n",
        "# 10 = a\n",
        "\n",
        "#4번\n",
        "# 100k = 10000"
      ],
      "metadata": {
        "id": "F7ZMC2Yorz6T"
      },
      "execution_count": null,
      "outputs": []
    },
    {
      "cell_type": "code",
      "source": [
        "# 2번\n",
        "user_input = input('문자를 입력해주세요!')\n",
        "print(user_input * 2)"
      ],
      "metadata": {
        "id": "IVBU1tpnsP45"
      },
      "execution_count": null,
      "outputs": []
    },
    {
      "cell_type": "code",
      "source": [
        "print(input('문자를 입력해주세요!') * 2)"
      ],
      "metadata": {
        "id": "kK1zBFvxs1PX"
      },
      "execution_count": null,
      "outputs": []
    },
    {
      "cell_type": "code",
      "source": [
        "# 3번\n",
        "num = 1234567890\n",
        "list(str(num))\n",
        "list(str(num))[3]"
      ],
      "metadata": {
        "id": "NjYn5LEpsY8N"
      },
      "execution_count": null,
      "outputs": []
    },
    {
      "cell_type": "markdown",
      "source": [
        "## 산술연산"
      ],
      "metadata": {
        "id": "3fizKaOysxzY"
      }
    },
    {
      "cell_type": "code",
      "source": [
        "a = 10\n",
        "b = 3\n",
        "\n",
        "print(f'10 + 3 == {a + b}')\n",
        "print(f'10 - 3 == {a - b}')\n",
        "print(f'10 / 3 == {a / b}')\n",
        "print(f'10 // 3 == {a // b}') # 몫만 나옵니다.(정수만요!)\n",
        "print(f'10 * 3 == {a * b}')\n",
        "print(f'10 ** 3 == {a ** b}')\n",
        "print(f'10 % 3 == {a % b}') # 나머지"
      ],
      "metadata": {
        "id": "GkwfpEO4s9Y1"
      },
      "execution_count": null,
      "outputs": []
    },
    {
      "cell_type": "code",
      "source": [
        "# 연산자 우선순위는 and, or, 4칙연산, 제곱 정도만 아셔도 \n",
        "# 코딩하는데 큰 무리가 없습니다.\n",
        "# (모르시면 읽는데 어려움이 생기기도 합니다.)\n",
        "\n",
        "print(3 ** 2 * 3)\n",
        "print(3 * 3 ** 2) # 왜 81이 아니지?\n",
        "# 곱하기 보다 제곱이 우선순위가 더 높습니다.\n",
        "print(3 + 3 * 2) # 3 + 3부터 먼저 하지 않습니다."
      ],
      "metadata": {
        "id": "f_ca-2M3tynC"
      },
      "execution_count": null,
      "outputs": []
    },
    {
      "cell_type": "code",
      "source": [
        "a = 10\n",
        "b = 3\n",
        "\n",
        "print(f'10 > 3 == {a > b}')\n",
        "print(f'10 >= 3 == {a >= b}')\n",
        "print(f'10 < 3 == {a < b}')\n",
        "print(f'10 <= 3 == {a <= b}')\n",
        "print(f'10 == 3 == {a == b}')\n",
        "print(f'10 != 3 == {a != b}')"
      ],
      "metadata": {
        "id": "O4on8PEUu6SI"
      },
      "execution_count": null,
      "outputs": []
    },
    {
      "cell_type": "markdown",
      "source": [
        "## 논리연산"
      ],
      "metadata": {
        "id": "0SQhxPJvvQvW"
      }
    },
    {
      "cell_type": "code",
      "source": [
        "# and 는 곱\n",
        "# or 는 합\n",
        "# not은 반대\n",
        "# True 1\n",
        "# False 0\n",
        "# 중요한 포인트는 저렇게 했을 때 언제 True가 되는지 정리하는 것\n",
        "\n",
        "print(True and False)\n",
        "print(True or False)\n",
        "print(True or True)\n",
        "\n",
        "if True and False:\n",
        "    print('hello')\n",
        "\n",
        "if 10 > 3 and 8 % 3 == 0:\n",
        "    print('hello')\n",
        "\n",
        "# and는 언제 True가 되나요?\n",
        "# 모두 True일 때만 True\n",
        "# or는 언제 True가 되나요?\n",
        "# 둘 중에 하나라도 참이라면 True"
      ],
      "metadata": {
        "id": "XODmtx6SvSfW"
      },
      "execution_count": null,
      "outputs": []
    },
    {
      "cell_type": "code",
      "source": [
        "# https://codingdojang.com/scode/350?answer_mode=hide\n",
        "for i in range(101):\n",
        "    if i % 3 == 0 and i % 5 == 0:\n",
        "        print(i)"
      ],
      "metadata": {
        "id": "JM5xR3TZwoW3"
      },
      "execution_count": null,
      "outputs": []
    },
    {
      "cell_type": "code",
      "source": [
        "for i in range(101):\n",
        "    if i % 3 == 0 or i % 5 == 0:\n",
        "        print(i)"
      ],
      "metadata": {
        "id": "ka79qcZ3xO20"
      },
      "execution_count": null,
      "outputs": []
    },
    {
      "cell_type": "code",
      "source": [
        "result = 0\n",
        "for i in range(101):\n",
        "    if i % 3 == 0:\n",
        "        result += i # result = result + i\n",
        "    if i % 5 == 0:\n",
        "        result += i\n",
        "    if i % 15 == 0:\n",
        "        result -= i\n",
        "print(result)"
      ],
      "metadata": {
        "id": "bYAYR-FLxeHo"
      },
      "execution_count": null,
      "outputs": []
    },
    {
      "cell_type": "code",
      "source": [
        "result = 0\n",
        "for i in range(101):\n",
        "    if i % 3 == 0 or i % 5 == 0:\n",
        "        result += i\n",
        "result"
      ],
      "metadata": {
        "id": "YWveReaZyLT9"
      },
      "execution_count": null,
      "outputs": []
    },
    {
      "cell_type": "code",
      "source": [
        "not True"
      ],
      "metadata": {
        "id": "HgGle7OFyeGC"
      },
      "execution_count": null,
      "outputs": []
    },
    {
      "cell_type": "code",
      "source": [
        "not False"
      ],
      "metadata": {
        "id": "hLkwFVkaygQG"
      },
      "execution_count": null,
      "outputs": []
    },
    {
      "cell_type": "code",
      "source": [
        "# python 입장에서 보는 코드\n",
        "# False and ????? => 물음표에 무엇이 나오든 False\n",
        "# 그래서 Python도 저 물음표를 보지 않습니다.\n",
        "def solution():\n",
        "    1/0\n",
        "\n",
        "# if False and solution():\n",
        "#     print('hello')"
      ],
      "metadata": {
        "id": "bSXIECNByno-"
      },
      "execution_count": null,
      "outputs": []
    },
    {
      "cell_type": "code",
      "source": [
        "# True or ?????  => 물음표에 무엇이 나오든 True\n",
        "# 그래서 Python도 저 물음표를 보지 않습니다.\n",
        "def solution():\n",
        "    1/0\n",
        "\n",
        "if True or solution():\n",
        "    print('hello')"
      ],
      "metadata": {
        "id": "Oc4YaEts1yJS"
      },
      "execution_count": null,
      "outputs": []
    },
    {
      "cell_type": "code",
      "source": [
        "# 단락 평가(컴퓨터가 어디까지 보는지 판단해서 활용)\n",
        "username = '' # 사용자가 아무것도 입력하지 않았을 경우\n",
        "username = username or 'licat'\n",
        "username\n"
      ],
      "metadata": {
        "id": "uxV3ZZPU2Alj"
      },
      "execution_count": null,
      "outputs": []
    },
    {
      "cell_type": "code",
      "source": [
        "username = 'leehojun' # 사용자가 이름을 입력했을 경우\n",
        "username ='licat' or username\n",
        "username"
      ],
      "metadata": {
        "id": "SnTi6bKg2aaL"
      },
      "execution_count": null,
      "outputs": []
    },
    {
      "cell_type": "code",
      "source": [
        "# and와 or의 우선순위(and가 더 높습니다.)\n",
        "for i in range(21):\n",
        "    if i % 3 == 0 and i % 5 == 0 or i % 2 == 0:\n",
        "        print(i)\n",
        "\n",
        "for i in range(21):\n",
        "    if (i % 3 == 0 and i % 5 == 0) or i % 2 == 0:\n",
        "        print(i)"
      ],
      "metadata": {
        "id": "NV_9iBOI2qd8"
      },
      "execution_count": null,
      "outputs": []
    },
    {
      "cell_type": "code",
      "source": [
        "# 아래는 출력되는 값이 다릅니다! 우선순위가 낮은 or가 먼저 나왔기 때문입니다.\n",
        "# 결론 : 헷갈리시면 괄호를 사용해주세요!\n",
        "for i in range(21):\n",
        "    if (i % 3 == 0 or i % 5 == 0) and i % 2 == 0:\n",
        "        print(i)\n",
        "\n",
        "for i in range(21):\n",
        "    if i % 3 == 0 or i % 5 == 0 and i % 2 == 0:\n",
        "        print(i)"
      ],
      "metadata": {
        "id": "g7YSDp1B3ASE"
      },
      "execution_count": null,
      "outputs": []
    },
    {
      "cell_type": "markdown",
      "source": [
        "## 비트연산 (중요도 하)"
      ],
      "metadata": {
        "id": "u76LB8tS4DmX"
      }
    },
    {
      "cell_type": "code",
      "source": [
        "# and(곱하기)\n",
        "# 1001 == 9\n",
        "# 0010 == 2\n",
        "# ----\n",
        "# 0000"
      ],
      "metadata": {
        "id": "V1huJIf54Fyr"
      },
      "execution_count": null,
      "outputs": []
    },
    {
      "cell_type": "code",
      "source": [
        "9 & 2"
      ],
      "metadata": {
        "id": "IsB1qHf54ml4"
      },
      "execution_count": null,
      "outputs": []
    },
    {
      "cell_type": "code",
      "source": [
        "# and(곱하기)\n",
        "# 1001 == 9\n",
        "# 1000 == 8\n",
        "# ----\n",
        "# 1000"
      ],
      "metadata": {
        "id": "sGHH0TFy4ziy"
      },
      "execution_count": null,
      "outputs": []
    },
    {
      "cell_type": "code",
      "source": [
        "9 & 8"
      ],
      "metadata": {
        "id": "w-dvlv7x4rak"
      },
      "execution_count": null,
      "outputs": []
    },
    {
      "cell_type": "code",
      "source": [
        "# or(더하기, 대신 자리올림이 되진 않습니다.)\n",
        "# 1001 == 9\n",
        "# 0011 == 3\n",
        "# ----\n",
        "# 1011\n",
        "\n",
        "9 | 3"
      ],
      "metadata": {
        "id": "-N8ra5u15f0w"
      },
      "execution_count": null,
      "outputs": []
    },
    {
      "cell_type": "code",
      "source": [
        "# xor(같을 경우 0, 다를경우 1)\n",
        "# 1001 == 9\n",
        "# 0011 == 3\n",
        "# ----\n",
        "# 1010\n",
        "9 ^ 3"
      ],
      "metadata": {
        "id": "vlXlPPNO52WZ"
      },
      "execution_count": null,
      "outputs": []
    },
    {
      "cell_type": "code",
      "source": [
        "~9 # 2보수를 취하는 것입니다.(9에게 +1한 다음에 -를 취하시면 됩니다.)\n",
        "~-7 # 2보수를 취하는 것입니다.(7에게 +1한 다음에 -를 취하시면 됩니다.)"
      ],
      "metadata": {
        "id": "FyLxf6MO6MQL"
      },
      "execution_count": null,
      "outputs": []
    },
    {
      "cell_type": "code",
      "source": [
        "3 << 2 \n",
        "# 3을 2진수로 표현하면 11인데 2칸을 왼쪽으로 미는 것입니다.\n",
        "# 1100"
      ],
      "metadata": {
        "id": "zVnM1Tc76gr7"
      },
      "execution_count": null,
      "outputs": []
    },
    {
      "cell_type": "code",
      "source": [
        "7 >> 2"
      ],
      "metadata": {
        "id": "HhcDMOIt7jrm"
      },
      "execution_count": null,
      "outputs": []
    },
    {
      "cell_type": "markdown",
      "source": [
        "## 디스코드 단축키"
      ],
      "metadata": {
        "id": "s_Rleu857Ae7"
      }
    },
    {
      "cell_type": "markdown",
      "source": [
        "* `:ok`"
      ],
      "metadata": {
        "id": "cTxtLYkQ7Cmt"
      }
    },
    {
      "cell_type": "markdown",
      "source": [
        "## 할당연산"
      ],
      "metadata": {
        "id": "pby2ogMp72SI"
      }
    },
    {
      "cell_type": "code",
      "source": [
        "# a = 10\n",
        "# a = a + 10\n",
        "a = + 10 # 이렇게 a를 지우면 양수를 표현하는 10만 남아요.\n",
        "a"
      ],
      "metadata": {
        "id": "bBFEVmG374Y9"
      },
      "execution_count": null,
      "outputs": []
    },
    {
      "cell_type": "code",
      "source": [
        "a = 10\n",
        "a += 10 # a = a + 10\n",
        "a"
      ],
      "metadata": {
        "id": "5IQUOuRz8Q4V"
      },
      "execution_count": null,
      "outputs": []
    },
    {
      "cell_type": "code",
      "source": [
        "a = 10\n",
        "a //= 10 # 산술연산 모두 됩니다.\n",
        "a"
      ],
      "metadata": {
        "id": "rb3Y9e2F89cY"
      },
      "execution_count": null,
      "outputs": []
    },
    {
      "cell_type": "code",
      "source": [
        "# Python에서 특이하게 ++a, ++b, a++, b++가 없습니다."
      ],
      "metadata": {
        "id": "IUypUATl9QiE"
      },
      "execution_count": null,
      "outputs": []
    },
    {
      "cell_type": "markdown",
      "source": [
        "## 식별연산자"
      ],
      "metadata": {
        "id": "hbJ-LWJE9ikg"
      }
    },
    {
      "cell_type": "code",
      "source": [
        "# 앞으로 아래 2개를 활용해서 Python에 \n",
        "# 컨벤션 자료형이 어떻게 구성이되는지 확인해볼겁니다.\n",
        "# id()\n",
        "# is"
      ],
      "metadata": {
        "id": "5EtyP2zy9akA"
      },
      "execution_count": null,
      "outputs": []
    },
    {
      "cell_type": "code",
      "source": [
        "a = 256\n",
        "b = 256\n",
        "a is b"
      ],
      "metadata": {
        "id": "x5aEKYFG90Zl"
      },
      "execution_count": null,
      "outputs": []
    },
    {
      "cell_type": "code",
      "source": [
        "a = 999\n",
        "b = 999\n",
        "a is b"
      ],
      "metadata": {
        "id": "UYYf4Ehd9vSq"
      },
      "execution_count": null,
      "outputs": []
    },
    {
      "cell_type": "code",
      "source": [
        "a = [1, 2, 3]\n",
        "b = [1, 2, 3]\n",
        "a is b"
      ],
      "metadata": {
        "id": "IqVa7m7-94hB"
      },
      "execution_count": null,
      "outputs": []
    },
    {
      "cell_type": "code",
      "source": [
        "a[0] = 100\n",
        "a, b"
      ],
      "metadata": {
        "id": "obOrHsZ2-jj4"
      },
      "execution_count": null,
      "outputs": []
    },
    {
      "cell_type": "code",
      "source": [
        "a = [1, 2, 3]\n",
        "b = [1, 2, 3]\n",
        "a == b # Python에 등호는 type과 value를 봅니다."
      ],
      "metadata": {
        "id": "EjSHcTyR9__D"
      },
      "execution_count": null,
      "outputs": []
    },
    {
      "cell_type": "code",
      "source": [
        "# is는 주소값을 비교합니다.\n",
        "id(a) == id(b) # 이게 False면 is도 False입니다."
      ],
      "metadata": {
        "id": "2sct10LR_Nw9"
      },
      "execution_count": null,
      "outputs": []
    },
    {
      "cell_type": "code",
      "source": [
        "a = [1, 2, 3]\n",
        "b = [1, 2, 3]\n",
        "\n",
        "id(a) #5152"
      ],
      "metadata": {
        "id": "ZMIKk8pTLtKv"
      },
      "execution_count": null,
      "outputs": []
    },
    {
      "cell_type": "code",
      "source": [
        "id(b) #9280"
      ],
      "metadata": {
        "id": "WtAjjAeBLyKv"
      },
      "execution_count": null,
      "outputs": []
    },
    {
      "cell_type": "code",
      "source": [
        "a == b # 값이 같은 것과 메모리에 같은 공간에 저장되어 있다는 얘기는 다른 얘기입니다!"
      ],
      "metadata": {
        "id": "_YAakir3MDZh"
      },
      "execution_count": null,
      "outputs": []
    },
    {
      "cell_type": "markdown",
      "source": [
        "## not의 위치"
      ],
      "metadata": {
        "id": "YmXL__Ru-yuP"
      }
    },
    {
      "cell_type": "code",
      "source": [
        "a = 10\n",
        "b = 100\n",
        "a is not b\n",
        "# a not is b # error"
      ],
      "metadata": {
        "id": "Y1DCLQNS-x8b"
      },
      "execution_count": null,
      "outputs": []
    },
    {
      "cell_type": "code",
      "source": [
        "a = 10\n",
        "b = [10, 20, 30]\n",
        "a not in b"
      ],
      "metadata": {
        "id": "xC2a1krp-_fw"
      },
      "execution_count": null,
      "outputs": []
    },
    {
      "cell_type": "markdown",
      "source": [
        "## 멤버연산"
      ],
      "metadata": {
        "id": "pZ6qv8ic_gkV"
      }
    },
    {
      "cell_type": "code",
      "source": [
        "'a' in 'helalo world'\n",
        "'a' in 'hello world'\n",
        "'a' in ['a', 'b']\n",
        "'a' in {'a':10, 'b':20}\n",
        "# 10 in {'a':10, 'b':20} # dict안에있는 value값이 있는지 확인하고 싶으면\n",
        "10 in {'a':10, 'b':20}.values()\n",
        "10 in {10, 20, 30}"
      ],
      "metadata": {
        "id": "zK1XBzYg_ig-"
      },
      "execution_count": null,
      "outputs": []
    },
    {
      "cell_type": "code",
      "source": [
        "'a' not in ['aa', 'bb']"
      ],
      "metadata": {
        "id": "Z2PHJzUIAAlJ"
      },
      "execution_count": null,
      "outputs": []
    },
    {
      "cell_type": "code",
      "source": [
        "10 in [10, 20, 30]\n",
        "[10] in [10, 20, 30]\n",
        "[10] in [[10], 20, 30]\n",
        "[10, 20] in [10, 20, 30]\n",
        "[10, 20] in [[10, 20], 30]\n",
        "set([10, 20]).issubset(set([10, 20, 30]))\n",
        "{10, 20}.issubset({10, 20, 30, 40})"
      ],
      "metadata": {
        "id": "T9HoZ75bDc9b"
      },
      "execution_count": null,
      "outputs": []
    },
    {
      "cell_type": "markdown",
      "source": [
        "## 연습문제"
      ],
      "metadata": {
        "id": "lm3tKaruD9L7"
      }
    },
    {
      "cell_type": "code",
      "source": [
        "#1번\n",
        "a = 100\n",
        "print((a > 100) and (a < 200))\n",
        "print((a > 100) or (a < 200))\n",
        "print((a >= 100) and (a <= 200))\n",
        "print((a >= 100) or (a <= 200))"
      ],
      "metadata": {
        "id": "nGI77iHUD-5x"
      },
      "execution_count": null,
      "outputs": []
    },
    {
      "cell_type": "code",
      "source": [
        "#2번\n",
        "b = 25\n",
        "(b % 2 == 0) and (b % 5 == 0)"
      ],
      "metadata": {
        "id": "Ao3ZteV4EF7I"
      },
      "execution_count": null,
      "outputs": []
    },
    {
      "cell_type": "code",
      "source": [
        "#3번\n",
        "c = 1000\n",
        "c / 100\n",
        "c // 100"
      ],
      "metadata": {
        "id": "EmvLHS3vEGdz"
      },
      "execution_count": null,
      "outputs": []
    },
    {
      "cell_type": "code",
      "source": [
        "#4번\n",
        "# 그리디 알고리즘(욕심쟁이 알고리즘)\n",
        "남은금액 = int(input())\n",
        "\n",
        "오천원 = 남은금액 // 5000\n",
        "# 남은금액 = 남은금액 % 5000\n",
        "남은금액 = 남은금액 - (5000 * 오천원)\n",
        "\n",
        "천원 = 남은금액 // 1000\n",
        "남은금액 = 남은금액 % 1000\n",
        "\n",
        "오백원 = 남은금액 // 500\n",
        "남은금액 = 남은금액 % 500\n",
        "\n",
        "백원 = 남은금액 // 100\n",
        "남은금액 = 남은금액 % 100\n",
        "\n",
        "print(오천원, 천원, 오백원, 백원)"
      ],
      "metadata": {
        "id": "iyH-8ygWEG30"
      },
      "execution_count": null,
      "outputs": []
    },
    {
      "cell_type": "markdown",
      "source": [
        "## 오늘 배운 것 정리\n",
        "\n",
        "1. str\n",
        "    - 순서가 있는 **시퀀스 자료형**입니다.\n",
        "    - 작은 따옴표(' ')나 큰 따옴표(\" \"), 삼중따옴표('''str''', \"\"\"str\"\"\")로 감싸는 것도 가능합니다. (삼중따옴표를 사용할 경우에는 줄단위의 문자열을 나타낼 수 있습니다.)\n",
        "    - 작은 따옴표 안에 큰 따옴표, 큰 따옴표 안에 작은 따옴표 사용이 가능합니다.\n",
        "    - 이스케이프 문자도 사용이 가능합니다.\n",
        "    - 리스트, 튜플도 시퀀스 자료형입니다.\n",
        "    - 메서드\n",
        "        - lower\n",
        "        - index, find\n",
        "        - count\n",
        "        - strip\n",
        "        - replace\n",
        "        - split, join\n",
        "        - isdigit\n",
        "2. 슬라이싱\n",
        "    - 시퀀스형 자료형을 자를 수 있습니다.\n",
        "    - 형태\n",
        "    ```\n",
        "    # s[start:stop:step]\n",
        "    s = 'paullab CEO leehojun'\n",
        "    s[5:]\n",
        "    s[:5]\n",
        "    s[3:10]\n",
        "    s[:]\n",
        "    s[0:20:2]\n",
        "    # 자주 사용되는 코드\n",
        "    s = 'paullab CEO leehojun!'\n",
        "    s[:] # string에서는 많이 사용하지 않지만 list에서 많이 사용합니다.\n",
        "    s[:-1] # 마지막 요소만 제외하고 다 슬라이싱 합니다.\n",
        "    ```\n",
        "\n",
        "3. 형변환\n",
        "    - 형변환 : type을 변경하는 것입니다.\n",
        "    - int, float, str 등 자료형에 이름으로 형태를 변경할 수 있습니다.\n",
        "    - 그 중에서도 bool이 매우 중요합니다.\n",
        "    ```\n",
        "    # 별 5개\n",
        "    # bool 형으로 형변환 하는 것\n",
        "    if True:\n",
        "        print('hi')\n",
        "\n",
        "    if 'hello':\n",
        "        print('hi')\n",
        "\n",
        "    # 정말 많이 사용하는 코드\n",
        "    l = [1, 2, 3]\n",
        "    while l:\n",
        "        print(l.pop())\n",
        "\n",
        "    bool('') # 빈 문자열을 제외하고 모두 True\n",
        "    bool('a')\n",
        "    bool('False') # 문자열 False이기 때문에 True\n",
        "    bool(0) # 0을 제외하고 모두 True\n",
        "    bool(-1)\n",
        "    bool(100)\n",
        "    bool(None) # None은 비어있음을 명시해주는 키워드, False\n",
        "    bool([]) # 컨벤션 자료형은 비어있으면 False입니다.\n",
        "    bool({})\n",
        "    ```\n",
        "\n",
        "4. 산술연산\n",
        "    ```\n",
        "    a = 10\n",
        "    b = 3\n",
        "\n",
        "    print(f'10 + 3 == {a + b}')\n",
        "    print(f'10 - 3 == {a - b}')\n",
        "    print(f'10 / 3 == {a / b}')\n",
        "    print(f'10 // 3 == {a // b}') # 몫만 나옵니다.(정수만요!)\n",
        "    print(f'10 * 3 == {a * b}')\n",
        "    print(f'10 ** 3 == {a ** b}')\n",
        "    print(f'10 % 3 == {a % b}') # 나머지\n",
        "    ```\n",
        "\n",
        "5. 논리연산\n",
        "    ```\n",
        "    # and 는 곱\n",
        "    # or 는 합\n",
        "    # not은 반대\n",
        "    # True 1\n",
        "    # False 0\n",
        "    # 중요한 포인트는 저렇게 했을 때 언제 True가 되는지 정리하는 것\n",
        "\n",
        "    print(True and False)\n",
        "    print(True or False)\n",
        "    print(True or True)\n",
        "\n",
        "    # https://codingdojang.com/scode/350?answer_mode=hide\n",
        "    for i in range(101):\n",
        "        if i % 3 == 0 and i % 5 == 0:\n",
        "            print(i)\n",
        "    ```\n",
        "\n",
        "6. 할당연산\n",
        "    ```\n",
        "    a = 10\n",
        "    a += 10 # a = a + 10\n",
        "    a //= 2\n",
        "    a\n",
        "    ```\n",
        "\n",
        "7. is, in\n",
        "    1. is\n",
        "        ```\n",
        "        a = [1, 2, 3]\n",
        "        b = [1, 2, 3]\n",
        "\n",
        "        id(a), id(b)\n",
        "        a == b # 값이 같은 것과 메모리에 같은 공간에 저장되어 있다는 얘기는 다른 얘기입니다!\n",
        "        ```\n",
        "    2. in\n",
        "        ```\n",
        "        'a' in 'helalo world'\n",
        "        'a' in 'hello world'\n",
        "        'a' in ['a', 'b']\n",
        "        'a' in {'a':10, 'b':20}\n",
        "        # 10 in {'a':10, 'b':20} # dict안에있는 value값이 있는지 확인하고 싶으면\n",
        "        10 in {'a':10, 'b':20}.values()\n",
        "        10 in {10, 20, 30}\n",
        "        ```"
      ],
      "metadata": {
        "id": "T7k7mpDLUggj"
      }
    },
    {
      "cell_type": "code",
      "source": [
        "!jupyter nbconvert --to markdown a.ipynb"
      ],
      "metadata": {
        "id": "6yqzPbOgUsuC"
      },
      "execution_count": null,
      "outputs": []
    },
    {
      "cell_type": "code",
      "source": [
        "ord('가') # 유니코드에서 해당 텍스트 값을 읽어옴, "
      ],
      "metadata": {
        "id": "iwJXnRvAjkqE"
      },
      "execution_count": null,
      "outputs": []
    },
    {
      "cell_type": "markdown",
      "source": [
        "## 5월 4일 시작"
      ],
      "metadata": {
        "id": "rB6e5VUX8HkF"
      }
    },
    {
      "cell_type": "markdown",
      "source": [
        "##함수"
      ],
      "metadata": {
        "id": "R6ucWikT8MAv"
      }
    },
    {
      "cell_type": "code",
      "source": [
        "# 1. 코드를 재사용 할 수 있으며, 실수를 줄일 수 있습니다.\n",
        "# 2. 코드의 구조를 한 눈에 파악할 수 있습니다.\n",
        "# 3. 직관적으로 알아볼 수 있게 짜야한다."
      ],
      "metadata": {
        "id": "mcPGssQM8Jge"
      },
      "execution_count": null,
      "outputs": []
    },
    {
      "cell_type": "code",
      "source": [
        "# 파선아실 (파라미터는 선언할 때, 아규먼트는 실제)\n",
        "def function(x, y): # x,y는 파라미터 변수가 됨\n",
        "    z = x + y\n",
        "    return z\n",
        "print(f'function(5, 7) = {function(5, 7)}') # 5와 7은 아규먼트"
      ],
      "metadata": {
        "id": "lcxfAHkd-mwU"
      },
      "execution_count": null,
      "outputs": []
    },
    {
      "cell_type": "code",
      "source": [
        "# 파선아실 (파라미터는 선언할 때, 아규먼트는 실제)\n",
        "def function(x, y): # x,y는 파라미터 변수가 됨\n",
        "    z = x + y\n",
        "print(f'function(5, 7) = {function(5, 7)}') # 5와 7은 아규먼트"
      ],
      "metadata": {
        "colab": {
          "base_uri": "https://localhost:8080/"
        },
        "id": "KG3m4vSN_xxw",
        "outputId": "344918bf-fd1f-49ea-8d38-8fdaa22b383e"
      },
      "execution_count": null,
      "outputs": [
        {
          "output_type": "stream",
          "name": "stdout",
          "text": [
            "function(5, 7) = 12\n"
          ]
        }
      ]
    },
    {
      "cell_type": "code",
      "source": [
        "# 파선아실 (파라미터는 선언할 때, 아규먼트는 실제)\n",
        "def function(x, y): # x,y는 파라미터 변수가 됨\n",
        "    z = x + y\n",
        "    return None\n",
        "print(f'function(5, 7) = {function(5, 7)}') # 5와 7은 아규먼트"
      ],
      "metadata": {
        "id": "U66ndIr0_zBy"
      },
      "execution_count": null,
      "outputs": []
    },
    {
      "cell_type": "code",
      "source": [
        "# 파선아실 (파라미터는 선언할 때, 아규먼트는 실제)\n",
        "def function(x, y): # x,y는 파라미터 변수가 됨\n",
        "    z = x + y\n",
        "    return\n",
        "print(f'function(5, 7) = {function(5, 7)}') # 5와 7은 아규먼트"
      ],
      "metadata": {
        "id": "J_tjV2p5_1CW"
      },
      "execution_count": null,
      "outputs": []
    },
    {
      "cell_type": "code",
      "source": [
        "def hello():\n",
        "    print('1')\n",
        "    print('2')\n",
        "    print('3')\n",
        "print(hello())"
      ],
      "metadata": {
        "colab": {
          "base_uri": "https://localhost:8080/"
        },
        "id": "aguru0WY-RIU",
        "outputId": "5af2c4dd-0130-4115-af39-93601524523e"
      },
      "execution_count": null,
      "outputs": [
        {
          "output_type": "stream",
          "name": "stdout",
          "text": [
            "1\n",
            "2\n",
            "3\n",
            "None\n"
          ]
        }
      ]
    },
    {
      "cell_type": "code",
      "source": [
        "# 함수 연습문제 1\n",
        "def one():\n",
        "    print('one1')\n",
        "    print('one2')\n",
        "    print('one3')\n",
        "    return 100\n",
        "\n",
        "def two():\n",
        "    print('two1')\n",
        "    print('two2')\n",
        "    one()\n",
        "    return \n",
        "\n",
        "print(two())"
      ],
      "metadata": {
        "colab": {
          "base_uri": "https://localhost:8080/"
        },
        "id": "UI7uXhgCAhw4",
        "outputId": "1e7c8558-b056-45e2-b9b1-0af9ace70d9b"
      },
      "execution_count": null,
      "outputs": [
        {
          "output_type": "stream",
          "name": "stdout",
          "text": [
            "two1\n",
            "two2\n",
            "one1\n",
            "one2\n",
            "one3\n",
            "None\n"
          ]
        }
      ]
    },
    {
      "cell_type": "code",
      "source": [
        "# 함수 연습문제 2\n",
        "def one():\n",
        "    print('one1')\n",
        "    print('one2')\n",
        "    print('one3')\n",
        "    return 100\n",
        "\n",
        "def two():\n",
        "    print('two1')\n",
        "    print('two2')\n",
        "    x = one()\n",
        "    return x + x\n",
        "\n",
        "print(two())"
      ],
      "metadata": {
        "colab": {
          "base_uri": "https://localhost:8080/"
        },
        "id": "ib5opqHkBcDu",
        "outputId": "0dced061-3937-477e-8897-c599d95d04ac"
      },
      "execution_count": null,
      "outputs": [
        {
          "output_type": "stream",
          "name": "stdout",
          "text": [
            "two1\n",
            "two2\n",
            "one1\n",
            "one2\n",
            "one3\n",
            "200\n"
          ]
        }
      ]
    },
    {
      "cell_type": "code",
      "source": [
        "# 함수 연습문제 3\n",
        "\n",
        "def one(a, b):\n",
        "    print('one1')\n",
        "    print('one2')\n",
        "    print('one3')\n",
        "    return a + b\n",
        "\n",
        "def two(x):\n",
        "    y = 100\n",
        "    print('two1')\n",
        "    print('two2')\n",
        "    x = one(x, y)\n",
        "    return x + x\n",
        "\n",
        "print(two(10))"
      ],
      "metadata": {
        "colab": {
          "base_uri": "https://localhost:8080/"
        },
        "id": "axBGAd1ECRMA",
        "outputId": "f7a45a32-fa64-4135-b73c-0942b192d379"
      },
      "execution_count": null,
      "outputs": [
        {
          "output_type": "stream",
          "name": "stdout",
          "text": [
            "two1\n",
            "two2\n",
            "one1\n",
            "one2\n",
            "one3\n",
            "220\n"
          ]
        }
      ]
    },
    {
      "cell_type": "code",
      "source": [
        "# 함수 연습문제 4\n",
        "\n",
        "def one():\n",
        "    print('one')\n",
        "    return 10\n",
        "\n",
        "def two():\n",
        "    print('two')\n",
        "    return 10\n",
        "\n",
        "def three():\n",
        "    print('three')\n",
        "    return 10\n",
        "\n",
        "a = one()\n",
        "b = two()\n",
        "c = three()\n",
        "print(a + b)\n",
        "print(a + b + c)\n"
      ],
      "metadata": {
        "colab": {
          "base_uri": "https://localhost:8080/"
        },
        "id": "YGS48urTECKV",
        "outputId": "159326b4-4220-45e4-a33e-c328857a510d"
      },
      "execution_count": null,
      "outputs": [
        {
          "output_type": "stream",
          "name": "stdout",
          "text": [
            "one\n",
            "two\n",
            "three\n",
            "20\n",
            "30\n"
          ]
        }
      ]
    },
    {
      "cell_type": "code",
      "source": [
        "# 함수란 무엇일까요?\n",
        "# 함수의 이름은 메모리 상에 코드 블럭을 가리키는 변수입니다\n",
        "\n",
        "gony = print\n",
        "gony('hello') # 소괄호는 그 함수 블록을 실행시키는 명령어가 됩니다."
      ],
      "metadata": {
        "colab": {
          "base_uri": "https://localhost:8080/"
        },
        "id": "vkkvIAVhJa9m",
        "outputId": "d46b3479-49d4-4604-879a-2434548f7123"
      },
      "execution_count": null,
      "outputs": [
        {
          "output_type": "stream",
          "name": "stdout",
          "text": [
            "hello\n"
          ]
        }
      ]
    },
    {
      "cell_type": "code",
      "source": [
        "id(gony), id(print)"
      ],
      "metadata": {
        "colab": {
          "base_uri": "https://localhost:8080/"
        },
        "id": "LIeyRN6TJdNh",
        "outputId": "0fe6a92d-28ff-40ec-aa18-51dee4d379f5"
      },
      "execution_count": null,
      "outputs": [
        {
          "output_type": "execute_result",
          "data": {
            "text/plain": [
              "(140477953365296, 140477953365296)"
            ]
          },
          "metadata": {},
          "execution_count": 10
        }
      ]
    },
    {
      "cell_type": "code",
      "source": [
        "l = [gony, print, gony, print]\n",
        "gony('hello world')\n",
        "l[0]('hello world')"
      ],
      "metadata": {
        "id": "9fdoViMdJhRZ"
      },
      "execution_count": null,
      "outputs": []
    },
    {
      "cell_type": "code",
      "source": [
        "def hello(a):\n",
        "    a('hello')\n",
        "    a('hello')\n",
        "    a('hello')\n",
        "\n",
        "print(hello(print))"
      ],
      "metadata": {
        "id": "omTnvRqpJ4pc"
      },
      "execution_count": null,
      "outputs": []
    },
    {
      "cell_type": "code",
      "source": [
        "def hello():\n",
        "    def custom_sum(a, b):\n",
        "        return a + b\n",
        "    return custom_sum\n",
        "\n",
        "c = hello()\n",
        "c(10, 100)"
      ],
      "metadata": {
        "colab": {
          "base_uri": "https://localhost:8080/"
        },
        "id": "NBr804XhKXqQ",
        "outputId": "5cd09d4d-d900-405f-cf0f-8258bb6428a8"
      },
      "execution_count": null,
      "outputs": [
        {
          "output_type": "execute_result",
          "data": {
            "text/plain": [
              "110"
            ]
          },
          "metadata": {},
          "execution_count": 11
        }
      ]
    },
    {
      "cell_type": "code",
      "source": [
        "def hello(a):\n",
        "    return a\n",
        "\n",
        "c = hello(print)\n",
        "c(10, 100)"
      ],
      "metadata": {
        "colab": {
          "base_uri": "https://localhost:8080/"
        },
        "id": "dwFv4PUxK9yS",
        "outputId": "4b03a0fc-7f18-4435-b1d8-75fac3c6658c"
      },
      "execution_count": null,
      "outputs": [
        {
          "output_type": "stream",
          "name": "stdout",
          "text": [
            "[10, 100]\n"
          ]
        }
      ]
    },
    {
      "cell_type": "code",
      "source": [],
      "metadata": {
        "id": "LXbT7EFvML3T"
      },
      "execution_count": null,
      "outputs": []
    },
    {
      "cell_type": "markdown",
      "source": [
        "![image.png](data:image/png;base64,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)"
      ],
      "metadata": {
        "id": "1QIdc2oyMNBo"
      }
    },
    {
      "cell_type": "markdown",
      "source": [
        "## 함수의 기본 기능"
      ],
      "metadata": {
        "id": "nxknpTrLMd5d"
      }
    },
    {
      "cell_type": "code",
      "source": [
        "# return을 빨리 만나게 해주세요.\n",
        "# early return\n",
        "# 조건이 부합하지 않으면 바로 return을 하도록 하는 코딩 패턴\n",
        "# 이렇게 작성함으로써, 가독성이 좋은 코드\n",
        "def custom_sum(x, y):\n",
        "    if type(x) != int or type(y) != int:\n",
        "        return '연산할 수 없습니다.'\n",
        "    z = x + y # 100줄이라 가정\n",
        "    return z\n",
        "print(custom_sum(5, '가나다'))"
      ],
      "metadata": {
        "colab": {
          "base_uri": "https://localhost:8080/"
        },
        "id": "97o2Dwy1MfwQ",
        "outputId": "8d68a28d-923d-464e-e58d-0999dea93aba"
      },
      "execution_count": null,
      "outputs": [
        {
          "output_type": "stream",
          "name": "stdout",
          "text": [
            "연산할 수 없습니다.\n"
          ]
        }
      ]
    },
    {
      "cell_type": "code",
      "source": [
        "# 함수 안에 함수와 함수 안에 변수는 밖에서 호출이 안됩니다.\n",
        "# 아래것이 만약 실행되었다면 위 어딘가에서 two와 x가 정의되어 있는 것 입니다.\n",
        "\n",
        "def one():\n",
        "    def two():\n",
        "        print('hello1')\n",
        "    def three():\n",
        "        print('hello2')\n",
        "    two()\n",
        "    three()\n",
        "    x = 1000\n",
        "    return 100\n",
        "\n",
        "x = one()\n",
        "print(x)\n",
        "two()\n",
        "\n",
        "# hello1\n",
        "# hello2\n",
        "# x = 1000\n",
        "# one() = 100\n",
        "# 100\n",
        "# hello1"
      ],
      "metadata": {
        "id": "6w2bI82ZQXMl"
      },
      "execution_count": null,
      "outputs": []
    },
    {
      "cell_type": "code",
      "source": [
        "# 함수 안에 함수와 함수 안에 변수를 해봤으니\n",
        "# 이번에는 함수 밖에 함수와 함수 밖에 변수를 해보도록 하겠습니다.\n",
        "\n",
        "def test():\n",
        "    print('test')\n",
        "\n",
        "def one():\n",
        "    test()\n",
        "\n",
        "def two():\n",
        "    test()\n",
        "\n",
        "one()\n",
        "two()\n",
        "test()\n"
      ],
      "metadata": {
        "colab": {
          "base_uri": "https://localhost:8080/"
        },
        "id": "LtaUltLER0Q0",
        "outputId": "965258d0-96c8-49ac-cb02-71319d89be01"
      },
      "execution_count": null,
      "outputs": [
        {
          "output_type": "stream",
          "name": "stdout",
          "text": [
            "test\n",
            "test\n",
            "test\n"
          ]
        }
      ]
    },
    {
      "cell_type": "code",
      "source": [
        "#이렇게 하시면 error가 납니다. 밖에 있는 변수는 수정이 안됩니다.\n",
        "test = 10\n",
        "\n",
        "def one():\n",
        "    test = 20\n",
        "    return test\n",
        "\n",
        "    \n",
        "print(test)\n",
        "print(one())\n",
        "print(test)\n"
      ],
      "metadata": {
        "colab": {
          "base_uri": "https://localhost:8080/"
        },
        "id": "tQ_LsOqjS5Kq",
        "outputId": "8a39bc0a-71f7-4009-a6f3-e1bfcdcab7fa"
      },
      "execution_count": null,
      "outputs": [
        {
          "output_type": "stream",
          "name": "stdout",
          "text": [
            "10\n",
            "20\n",
            "10\n"
          ]
        }
      ]
    },
    {
      "cell_type": "markdown",
      "source": [
        "#지역 변수와 전역 변수"
      ],
      "metadata": {
        "id": "UT3JHWCxS_VT"
      }
    },
    {
      "cell_type": "code",
      "source": [
        "# 전역변수 접근은 가능하지만 수정이 되진 않습니다.\n",
        "a = 100\n",
        "def f():\n",
        "    a = a + 1\n",
        "f()"
      ],
      "metadata": {
        "id": "lNLP8HuYTBDJ"
      },
      "execution_count": null,
      "outputs": []
    },
    {
      "cell_type": "code",
      "source": [
        "# 전역변수를 함수 내부에서 수정이 되게 하는 코드입니다.\n",
        "# 권하지 않습니다.\n",
        "\n",
        "a = 100\n",
        "def f():\n",
        "    global a \n",
        "    a = a + 1\n",
        "f()\n",
        "print(a)"
      ],
      "metadata": {
        "colab": {
          "base_uri": "https://localhost:8080/"
        },
        "id": "_0-JTEH2XNho",
        "outputId": "f74aee48-5ef9-45d0-f4a4-1b39e4e8c790"
      },
      "execution_count": null,
      "outputs": [
        {
          "output_type": "stream",
          "name": "stdout",
          "text": [
            "100\n"
          ]
        }
      ]
    },
    {
      "cell_type": "code",
      "source": [
        "# 정해진 루트 외에 다른 루트로 해당 값을 수정하려고 하지 마세요요\n",
        "a = 100\n",
        "def f(x):\n",
        "    x = x + 1\n",
        "    return x\n",
        "a = f(a)\n",
        "print(a)"
      ],
      "metadata": {
        "colab": {
          "base_uri": "https://localhost:8080/"
        },
        "id": "9ODRLSV0XtSq",
        "outputId": "46e986b5-425f-48dc-baac-67a42db31ef1"
      },
      "execution_count": null,
      "outputs": [
        {
          "output_type": "stream",
          "name": "stdout",
          "text": [
            "101\n"
          ]
        }
      ]
    },
    {
      "cell_type": "code",
      "source": [
        "# 순수 함수\n",
        "def f(x):\n",
        "    return x + x + 100\n",
        "f(10)\n",
        "f(20) # 아규먼트 값에 따라 다르지만 \n",
        "# 아규먼트에 2배해서 100이 더해진 다는 사실은 변하지 않음"
      ],
      "metadata": {
        "colab": {
          "base_uri": "https://localhost:8080/"
        },
        "id": "V87xOmVbX0kl",
        "outputId": "6d211d51-2bca-4df1-a163-719fe1f20b30"
      },
      "execution_count": null,
      "outputs": [
        {
          "output_type": "execute_result",
          "data": {
            "text/plain": [
              "120"
            ]
          },
          "metadata": {},
          "execution_count": 16
        }
      ]
    },
    {
      "cell_type": "code",
      "source": [
        "test = 100\n",
        "def f(x):\n",
        "    return x + x + 100 + test\n",
        "f(10)\n",
        "\n",
        "# 아규먼트 값에 따라 다르지만 \n",
        "# 아규먼트에 2배해서 100이 더해진 다는 사실은 변하지 않음\n",
        "# 그렇지 않습니다. test값이 다른 곳에서 조작이 되면\n",
        "# 더해지는 값이 200이 안될 수도 있죠.\n",
        "# 예측이 불가하게 되는 것!"
      ],
      "metadata": {
        "colab": {
          "base_uri": "https://localhost:8080/"
        },
        "id": "XfXoi1S5YUAf",
        "outputId": "bbb7a0b6-afe2-42c7-d20e-8d5d69d10c22"
      },
      "execution_count": null,
      "outputs": [
        {
          "output_type": "execute_result",
          "data": {
            "text/plain": [
              "220"
            ]
          },
          "metadata": {},
          "execution_count": 17
        }
      ]
    },
    {
      "cell_type": "code",
      "source": [
        "# 지역변수와 전역변수 이어서\n",
        "# 전역변수 : 전역에서 접근할 수 있는 변수\n",
        "# 지역변수 : 함수 내에서만 접근할 수 있는 변수"
      ],
      "metadata": {
        "id": "7bEsYwUyY1pS"
      },
      "execution_count": null,
      "outputs": []
    },
    {
      "cell_type": "code",
      "source": [
        "a = 100\n",
        "def one():\n",
        "    a = 10\n",
        "    print(a)\n",
        "\n",
        "one()\n",
        "print(a)"
      ],
      "metadata": {
        "id": "T3dUkxwBZKh5"
      },
      "execution_count": null,
      "outputs": []
    },
    {
      "cell_type": "code",
      "source": [
        "# 어려우신분들은 패스\n",
        "# 자신의 공간에 변수가 선언되어 있지 않으면\n",
        "# 전역까지 찾아 올라갑니다. 전역에도 없으면 error\n",
        "\n",
        "a = 100\n",
        "def one():\n",
        "    # a = 10\n",
        "    def two():\n",
        "        def three():\n",
        "            a = 1000\n",
        "            print(a)\n",
        "        three()\n",
        "        print(a)\n",
        "    two()\n",
        "    print(a)\n",
        "\n",
        "one()\n",
        "print(a)\n",
        "\n",
        "# 1000\n",
        "# 10\n",
        "# 10\n",
        "# 100"
      ],
      "metadata": {
        "colab": {
          "base_uri": "https://localhost:8080/"
        },
        "id": "ybEzLdmoZ8Dq",
        "outputId": "676d8762-c7bf-49ec-c121-cd55f925f27a"
      },
      "execution_count": null,
      "outputs": [
        {
          "output_type": "stream",
          "name": "stdout",
          "text": [
            "1000\n",
            "100\n",
            "100\n",
            "100\n"
          ]
        }
      ]
    },
    {
      "cell_type": "code",
      "source": [
        "# inner 가 outer에 변수를 건드리고 싶은데\n",
        "# inner 안에서는 x에 수정권한이 전혀 없습니다.\n",
        "x = 100\n",
        "def outer():\n",
        "    x = 1\n",
        "    def inner():\n",
        "        # nonlocal x\n",
        "        # x += 1\n",
        "        print(x+1)\n",
        "    inner()\n",
        "    print(x)\n",
        "\n",
        "outer()\n",
        "print(x)"
      ],
      "metadata": {
        "colab": {
          "base_uri": "https://localhost:8080/"
        },
        "id": "skgiGiCFaO1M",
        "outputId": "fcbfab27-aba7-4486-d442-7e5710489920"
      },
      "execution_count": null,
      "outputs": [
        {
          "output_type": "stream",
          "name": "stdout",
          "text": [
            "2\n",
            "1\n",
            "100\n"
          ]
        }
      ]
    },
    {
      "cell_type": "code",
      "source": [
        "x = 100\n",
        "def outer():\n",
        "    x = 1\n",
        "    def inner():\n",
        "        global x\n",
        "        x += 1\n",
        "        print(x)\n",
        "    inner()\n",
        "    print(x)\n",
        "\n",
        "outer()\n",
        "print(x)"
      ],
      "metadata": {
        "id": "6thlGE0Yb5aW"
      },
      "execution_count": null,
      "outputs": []
    },
    {
      "cell_type": "markdown",
      "source": [
        "#재귀함수"
      ],
      "metadata": {
        "id": "b86ehlHgcfeh"
      }
    },
    {
      "cell_type": "markdown",
      "source": [
        "* 내가 나를 호출하는 것입니다.\n",
        "* 재귀 <-> for문은ㅇ 대부분 호환이 가능합니다.\n",
        "* 반복문 사용하시기를 권합니다.\n",
        "* 어렵고 효율도 안좋아요!\n",
        "* 필수적으로 사용하는 곳이 있습니다"
      ],
      "metadata": {
        "id": "qLFLuMYHckDn"
      }
    },
    {
      "cell_type": "code",
      "source": [
        "#sys.setrecursionlimit -> 제한을 늘릴 수 있음\n",
        "def 숫자출력():\n",
        "    print(1)\n",
        "    return 숫자출력()\n",
        "숫자출력()"
      ],
      "metadata": {
        "id": "kfHMkjD9dibn"
      },
      "execution_count": null,
      "outputs": []
    },
    {
      "cell_type": "code",
      "source": [
        "# for로 펙토리얼\n",
        "# 5! = 5*4*3*2*1\n",
        "\n",
        "result = 1\n",
        "\n",
        "for i in range(1, 6):\n",
        "    result *= i\n",
        "\n",
        "result"
      ],
      "metadata": {
        "colab": {
          "base_uri": "https://localhost:8080/"
        },
        "id": "YxUwa0IMd2Up",
        "outputId": "d7f7e90d-3c51-4497-ca9f-2bfd8e26ca74"
      },
      "execution_count": null,
      "outputs": [
        {
          "output_type": "execute_result",
          "data": {
            "text/plain": [
              "120"
            ]
          },
          "metadata": {},
          "execution_count": 36
        }
      ]
    },
    {
      "cell_type": "code",
      "source": [
        "# 재귀로 팩토리얼\n",
        "\n",
        "def f(n):\n",
        "    if n <= 1:\n",
        "        return 1\n",
        "    else:\n",
        "        return n * f(n-1)\n",
        "\n",
        "\n",
        "f(5)\n",
        "\n",
        "'''\n",
        "f(5)  5 * f(4)\n",
        "f(4)  4 * f(3)\n",
        "f(3)  3 * f(2)\n",
        "f(2)  2 * f(1)\n",
        "f(1)  1\n",
        "'''"
      ],
      "metadata": {
        "colab": {
          "base_uri": "https://localhost:8080/"
        },
        "id": "a49-RilIeQzL",
        "outputId": "70a91337-5809-45fe-ffb0-af4c274699c2"
      },
      "execution_count": null,
      "outputs": [
        {
          "output_type": "execute_result",
          "data": {
            "text/plain": [
              "120"
            ]
          },
          "metadata": {},
          "execution_count": 38
        }
      ]
    },
    {
      "cell_type": "code",
      "source": [
        "# for로 문자열 거꾸로 출력하기\n",
        "s = 'hello' # [::-1] 슬라이싱\n",
        "result = ''\n",
        "\n",
        "for i in s:\n",
        "    result = i + result\n",
        "\n",
        "result\n",
        "'''\n",
        "result = 'h' + ''\n",
        "result = 'e' + 'h'\n",
        "result = 'l' + 'eh'\n",
        "result = 'l' + 'leh'\n",
        "result = 'l' + 'lleh'\n",
        "result = 'o' + 'olleh'\n",
        "'''\n",
        "\n",
        "# 실무에서는 이렇게 거꾸로 만들지 않습니다.\n",
        "# 슬라이싱이 일반 for문보다 8배 빠릅니다.\n",
        "# s[::-1] 이렇게 쓰시면 됩니다."
      ],
      "metadata": {
        "id": "vcciVPmDfgeE"
      },
      "execution_count": null,
      "outputs": []
    },
    {
      "cell_type": "code",
      "source": [
        "def reverse(s):\n",
        "    if len(s) == 1:\n",
        "        return s\n",
        "    else:\n",
        "        return reverse(s[1:]) + s[0]\n",
        "\n",
        "reverse('hello')\n",
        "\n",
        "'''\n",
        "reverse('hello') reverse('ello') + 'h' == 'olle' + 'h'\n",
        "reverse('ello')  reverse('llo') + 'e'  == 'llo' + 'e'\n",
        "reverse('llo')   reverse('lo') + 'l'   == 'ol' + 'l'\n",
        "reverse('lo')    reverse('o') + 'l'    == 'o' + 1\n",
        "reverse('o')     o\n",
        "'''"
      ],
      "metadata": {
        "colab": {
          "base_uri": "https://localhost:8080/",
          "height": 53
        },
        "id": "LIKZt2M-gndv",
        "outputId": "dc7a7e0c-5159-4cab-c6c9-8ccb99ce41e2"
      },
      "execution_count": null,
      "outputs": [
        {
          "output_type": "execute_result",
          "data": {
            "text/plain": [
              "\"\\nreverse('hello') reverse('ello') + 'h' == 'olle' + 'h'\\nreverse('ello')  reverse('llo') + 'e'  == 'llo' + 'e'\\nreverse('llo')   reverse('lo') + 'l'   == 'ol' + 'l'\\nreverse('lo')    reverse('o') + 'l'    == 'o' + 1\\nreverse('o')     o\\n\""
            ],
            "application/vnd.google.colaboratory.intrinsic+json": {
              "type": "string"
            }
          },
          "metadata": {},
          "execution_count": 40
        }
      ]
    },
    {
      "cell_type": "code",
      "source": [
        "# 피보나치\n",
        "# 재귀가 얼마나 비효율적인지 보여드리기 위해서 진행\n",
        "# 1 1 2 3 5 8 13 21\n",
        "\n",
        "curr = 1\n",
        "next = 1\n",
        "for i in range(1, 5):\n",
        "    curr, next= next, curr + next\n",
        "    \n",
        "next"
      ],
      "metadata": {
        "colab": {
          "base_uri": "https://localhost:8080/"
        },
        "id": "W0g77-Qz0GCr",
        "outputId": "66b14492-11b9-47dc-9a4f-f1bef9736d5c"
      },
      "execution_count": null,
      "outputs": [
        {
          "output_type": "execute_result",
          "data": {
            "text/plain": [
              "8"
            ]
          },
          "metadata": {},
          "execution_count": 42
        }
      ]
    },
    {
      "cell_type": "code",
      "source": [
        "# 피보나치 재귀\n",
        "\n",
        "def f(n):\n",
        "    if n == 1 or n == 2:\n",
        "        return 1\n",
        "    return f(n-1) + f(n-2)\n",
        "\n",
        "1, 1, f(3), f(4), f(5), f(6)"
      ],
      "metadata": {
        "colab": {
          "base_uri": "https://localhost:8080/"
        },
        "id": "-lmgynwS1lS1",
        "outputId": "bbb9ea83-01e9-41db-e5df-bcd81d7a261b"
      },
      "execution_count": null,
      "outputs": [
        {
          "output_type": "execute_result",
          "data": {
            "text/plain": [
              "(1, 1, 2, 3, 5, 8)"
            ]
          },
          "metadata": {},
          "execution_count": 45
        }
      ]
    },
    {
      "cell_type": "code",
      "source": [
        "# 재귀에 비효율을 이렇게 해결할 수는 있다를 보여드리기 위함\n",
        "# but 가능 하면 for를 사용하자\n",
        "\n",
        "from functools import lru_cache\n",
        "\n",
        "@lru_cache(maxsize=None)\n",
        "def fib(num):\n",
        "    if num == 0:\n",
        "        return 0\n",
        "    if num == 1 or num == 2:\n",
        "        return 1\n",
        "    else:\n",
        "        return fib(num-1) + fib(num-2)\n",
        "\n",
        "fib(40)"
      ],
      "metadata": {
        "colab": {
          "base_uri": "https://localhost:8080/"
        },
        "id": "RXSlnv_Z2Yfx",
        "outputId": "9b44796f-1bb3-4e62-bbd4-77be0f86eeba"
      },
      "execution_count": null,
      "outputs": [
        {
          "output_type": "execute_result",
          "data": {
            "text/plain": [
              "102334155"
            ]
          },
          "metadata": {},
          "execution_count": 47
        }
      ]
    },
    {
      "cell_type": "markdown",
      "source": [
        "## 데코레이터"
      ],
      "metadata": {
        "id": "4-nJbrj135gK"
      }
    },
    {
      "cell_type": "markdown",
      "source": [
        "## 클로저, 팩토리 함수"
      ],
      "metadata": {
        "id": "j9kftvUF36-L"
      }
    },
    {
      "cell_type": "code",
      "source": [
        "# 연습문제 1\n",
        "\n",
        "a = 'pithon'\n",
        "\n",
        "def 함수1():\n",
        "    def 함수2():\n",
        "        print('love')\n",
        "        \n",
        "    print('I')\n",
        "    함수2()\n",
        "    return \"python\"\n",
        "\t\n",
        "\n",
        "a = 함수1()\n",
        "print(a)\n",
        "\n",
        "# I\n",
        "# love\n",
        "# python"
      ],
      "metadata": {
        "colab": {
          "base_uri": "https://localhost:8080/"
        },
        "id": "m9M_uY0-38xr",
        "outputId": "19940832-0c69-4e65-ab50-9b445673b54e"
      },
      "execution_count": null,
      "outputs": [
        {
          "output_type": "stream",
          "name": "stdout",
          "text": [
            "I\n",
            "love\n",
            "python\n"
          ]
        }
      ]
    },
    {
      "cell_type": "code",
      "source": [
        "# 연습문제 2\n",
        "\n",
        "def plus(num1, num2):\n",
        "\treturn num1 + num2\n",
        "\n",
        "def minus(num1, num2):\n",
        "\treturn num1 - num2\n",
        "\n",
        "def multiply(num1, num2):\n",
        "\treturn num1 * num2\n",
        "\n",
        "def divide(num1, num2):\n",
        "\treturn num1 / num2\n",
        "\n",
        "print(f'plus : {plus(10, 5)}')\n",
        "print(f'minus : {minus(10, 5)}')\n",
        "print(f'multiply : {multiply(10, 5)}')\n",
        "print(f'divide : {divide(10, 5)}')"
      ],
      "metadata": {
        "colab": {
          "base_uri": "https://localhost:8080/"
        },
        "id": "qFllL4Sz4K5Y",
        "outputId": "6f2786b8-d23d-4560-82d4-864b79393781"
      },
      "execution_count": null,
      "outputs": [
        {
          "output_type": "stream",
          "name": "stdout",
          "text": [
            "plus : 15\n",
            "minus : 5\n",
            "multiply : 50\n",
            "divide : 2.0\n"
          ]
        }
      ]
    },
    {
      "cell_type": "code",
      "source": [
        "plus = lambda num1, num2 : num1 + num2\n",
        "minus = lambda num1, num2 : num1 - num2\n",
        "multiply = lambda num1, num2 : num1 / num2\n",
        "divide = lambda num1, num2 : num1 * num2\n",
        "\n",
        "print(f'plus : {plus(10, 5)}')\n",
        "print(f'minus : {minus(10, 5)}')\n",
        "print(f'multiply : {multiply(10, 5)}')\n",
        "print(f'divide : {divide(10, 5)}')"
      ],
      "metadata": {
        "id": "1hhTCPuzA0Yc"
      },
      "execution_count": null,
      "outputs": []
    },
    {
      "cell_type": "code",
      "source": [
        "# 실력이 있으신 분은 견고한 코드가 될 수 있도록 해주셔야 합니다.\n",
        "def plus(num1, num2):\n",
        "    try:\n",
        "        return num1 + num2\n",
        "    except:\n",
        "        return float('inf')\n",
        "\n",
        "# 테스트 주도 개발\n",
        "print(f\"plus : {plus(10, 5)}\")\n",
        "print(f\"plus : {plus(10, '5')}\")\n",
        "print(f\"plus : {plus('10', 5)}\")\n",
        "print(f\"plus : {plus('10', '5')}\")\n",
        "print(f\"plus : {plus(10, 'a')}\")\n",
        "print(f\"plus : {plus(10, True)}\")\n",
        "print(f\"plus : {plus(False, 5)}\")\n",
        "print(f\"plus : {plus(10, 10.1)}\")"
      ],
      "metadata": {
        "colab": {
          "base_uri": "https://localhost:8080/"
        },
        "id": "8fizegk88duQ",
        "outputId": "6dbe7bbd-a24f-4d60-a715-6b89290c3c53"
      },
      "execution_count": null,
      "outputs": [
        {
          "output_type": "stream",
          "name": "stdout",
          "text": [
            "plus : 15\n",
            "plus : inf\n",
            "plus : inf\n",
            "plus : 105\n",
            "plus : inf\n",
            "plus : 11\n",
            "plus : 5\n",
            "plus : 20.1\n"
          ]
        }
      ]
    },
    {
      "cell_type": "code",
      "source": [
        "# 실력이 있으신 분은 견고한 코드가 될 수 있도록 해주셔야 합니다.\n",
        "def plus(num1, num2):\n",
        "    if type(num1) == int and type(num2) == int:\n",
        "        return num1 + num2\n",
        "    return float('inf')\n",
        "\n",
        "# 테스트 주도 개발\n",
        "print(f\"plus : {plus(10, 5)}\")\n",
        "print(f\"plus : {plus(10, '5')}\")\n",
        "print(f\"plus : {plus('10', 5)}\")\n",
        "print(f\"plus : {plus('10', '5')}\")\n",
        "print(f\"plus : {plus(10, 'a')}\")\n",
        "print(f\"plus : {plus(10, True)}\")\n",
        "print(f\"plus : {plus(False, 5)}\")\n",
        "print(f\"plus : {plus(10, 10.1)}\")"
      ],
      "metadata": {
        "id": "U_O8xEJcBGXg"
      },
      "execution_count": null,
      "outputs": []
    },
    {
      "cell_type": "code",
      "source": [
        "#연습문제 39자\n",
        "\n",
        "# x의 n제곱을 구하는 함수를 만들어주세요.\n",
        "# 재귀함수를 이용하여 만들어야하며, x은 0이 아닙니다. (x, n > 1)\n",
        "\n",
        "\n",
        "# 피보나치 재귀\n",
        "\n",
        "def f(n):\n",
        "    if x > 1 and n > 1:\n",
        "    return x^n"
      ],
      "metadata": {
        "id": "4TB4LHJo4Nz-"
      },
      "execution_count": null,
      "outputs": []
    },
    {
      "cell_type": "code",
      "source": [
        "x = 3\n",
        "def 제곱(n):\n",
        "    if n == 0:\n",
        "        return 1\n",
        "    return x * 제곱(n-1)\n",
        "\n",
        "제곱(3)\n",
        "제곱(4)"
      ],
      "metadata": {
        "colab": {
          "base_uri": "https://localhost:8080/"
        },
        "id": "I8c9N_uYBM55",
        "outputId": "cb98a006-1ca2-4797-9fae-2885a542ef35"
      },
      "execution_count": null,
      "outputs": [
        {
          "output_type": "execute_result",
          "data": {
            "text/plain": [
              "81"
            ]
          },
          "metadata": {},
          "execution_count": 51
        }
      ]
    },
    {
      "cell_type": "code",
      "source": [
        "x = 3\n",
        "def 제곱(x, n):\n",
        "    if n == 0:\n",
        "        return 1\n",
        "    return x * 제곱(x, n-1)\n",
        "\n",
        "제곱(3, 3)\n",
        "제곱(4 ,4)"
      ],
      "metadata": {
        "colab": {
          "base_uri": "https://localhost:8080/"
        },
        "id": "_z8F7DpeBcYF",
        "outputId": "b14f767c-4e5a-4d6b-acfc-11ea81fb63aa"
      },
      "execution_count": null,
      "outputs": [
        {
          "output_type": "execute_result",
          "data": {
            "text/plain": [
              "256"
            ]
          },
          "metadata": {},
          "execution_count": 53
        }
      ]
    },
    {
      "cell_type": "code",
      "source": [
        "def my_pow(num1, num2):\n",
        "    if num2 == 0:\n",
        "        return 1\n",
        "    if num2 == 1:\n",
        "        return num1\n",
        "    if num2 % 2 == 0:\n",
        "        half = my_pow(num1, num2 // 2)\n",
        "        return half * half\n",
        "    else:\n",
        "        half = my_pow(num1, num2 // 2)\n",
        "        return half * half * num"
      ],
      "metadata": {
        "id": "7c5MXRYjB0xp"
      },
      "execution_count": null,
      "outputs": []
    },
    {
      "cell_type": "code",
      "source": [
        "# 재귀함수 아님\n",
        "# 팩토리 함수, 클로저라고도 합니다.\n",
        "def 제곱(x):\n",
        "    def 승수(y):\n",
        "        return x ** y\n",
        "    return 승수\n",
        "\n",
        "제곱3 = 제곱(3) # 제곱3 = 승수\n",
        "제곱3(4)"
      ],
      "metadata": {
        "colab": {
          "base_uri": "https://localhost:8080/"
        },
        "id": "xebSeYz5DVsR",
        "outputId": "4390c997-9b5e-4688-8490-7e6bb14d8851"
      },
      "execution_count": null,
      "outputs": [
        {
          "output_type": "execute_result",
          "data": {
            "text/plain": [
              "81"
            ]
          },
          "metadata": {},
          "execution_count": 55
        }
      ]
    },
    {
      "cell_type": "markdown",
      "source": [
        "## 리스트"
      ],
      "metadata": {
        "id": "9q_1hhS9EhpI"
      }
    },
    {
      "cell_type": "markdown",
      "source": [
        "* 순서를 가진 데이터들의 집합(Sequence)\n",
        "* 리스트는 값의 변경이 가능하다\n",
        "* 리스트 안에 리스트로 다차원의 리스트를 만드는 것도 가능\n",
        "* 리스트 안에 다른 object(딕셔너리, 셋, 튜플)를를 넣는 것이 가능합니다"
      ],
      "metadata": {
        "id": "TeZemfkgFU4K"
      }
    },
    {
      "cell_type": "code",
      "source": [
        "l = [1000, 2000, 3000, 1000, 2000, 3000]\n",
        "id(l[0]), id(l[3])"
      ],
      "metadata": {
        "colab": {
          "base_uri": "https://localhost:8080/"
        },
        "id": "XYD9BXz7EdBu",
        "outputId": "a5f5d3a9-f96d-471b-f31f-e8abaecd3051"
      },
      "execution_count": null,
      "outputs": [
        {
          "output_type": "execute_result",
          "data": {
            "text/plain": [
              "(140479862304912, 140479862304912)"
            ]
          },
          "metadata": {},
          "execution_count": 57
        }
      ]
    },
    {
      "cell_type": "code",
      "source": [
        "# 컨벤션 자료형(딕셔너리, 튜플, 셋, 리스트)에서는\n",
        "# 메모리 효율을 위해\n",
        "# 같은 값이 있을 경우 같은 id를 가리키게 설계되어 있음"
      ],
      "metadata": {
        "id": "IfUW5NJmF8zr"
      },
      "execution_count": null,
      "outputs": []
    },
    {
      "cell_type": "code",
      "source": [
        "l = [10, 20, 30, 40]\n",
        "l[0] = 1000\n",
        "l"
      ],
      "metadata": {
        "colab": {
          "base_uri": "https://localhost:8080/"
        },
        "id": "kDVwPXZGGHUa",
        "outputId": "c1afc232-8039-468c-d3d1-1bd3f80dddc4"
      },
      "execution_count": null,
      "outputs": [
        {
          "output_type": "execute_result",
          "data": {
            "text/plain": [
              "[1000, 20, 30, 40]"
            ]
          },
          "metadata": {},
          "execution_count": 60
        }
      ]
    },
    {
      "cell_type": "code",
      "source": [
        "s = 'hello world'\n",
        "s[0] = 'k' # error\n",
        "s"
      ],
      "metadata": {
        "id": "cGEiTgP3GNnF"
      },
      "execution_count": null,
      "outputs": []
    },
    {
      "cell_type": "code",
      "source": [
        "data = [[1, 2, 3], [4, 5, 6], [7, 8, 9]]"
      ],
      "metadata": {
        "id": "8g6knDkTGiSO"
      },
      "execution_count": null,
      "outputs": []
    },
    {
      "cell_type": "code",
      "source": [
        "data[0]"
      ],
      "metadata": {
        "colab": {
          "base_uri": "https://localhost:8080/"
        },
        "id": "2PLVkRsuG4wZ",
        "outputId": "61b48a29-b16d-4116-de29-2bb879d5274e"
      },
      "execution_count": null,
      "outputs": [
        {
          "output_type": "execute_result",
          "data": {
            "text/plain": [
              "[1, 2, 3]"
            ]
          },
          "metadata": {},
          "execution_count": 66
        }
      ]
    },
    {
      "cell_type": "code",
      "source": [
        "data[0][0]"
      ],
      "metadata": {
        "colab": {
          "base_uri": "https://localhost:8080/"
        },
        "id": "XlBK-5aMG520",
        "outputId": "1e111412-5587-4c7a-994a-225362aa5678"
      },
      "execution_count": null,
      "outputs": [
        {
          "output_type": "execute_result",
          "data": {
            "text/plain": [
              "1"
            ]
          },
          "metadata": {},
          "execution_count": 68
        }
      ]
    },
    {
      "cell_type": "code",
      "source": [
        "data = [[1, 2, 3], [4, 5, 6], [7, 8, 9]]\n",
        "\n",
        "data[0][0] *= 2\n",
        "data[0][1] *= 2\n",
        "data[0][2] *= 2\n",
        "data[1][0] *= 2\n",
        "data[1][1] *= 2\n",
        "data[1][2] *= 2\n",
        "data[2][0] *= 2\n",
        "data[2][1] *= 2\n",
        "data[2][2] *= 2\n",
        "data"
      ],
      "metadata": {
        "colab": {
          "base_uri": "https://localhost:8080/"
        },
        "id": "IoIxjeL4G-LE",
        "outputId": "4a70a6cb-f6a1-46ef-8879-d9d6c015c6e9"
      },
      "execution_count": null,
      "outputs": [
        {
          "output_type": "execute_result",
          "data": {
            "text/plain": [
              "[[2, 4, 6], [8, 10, 12], [14, 16, 18]]"
            ]
          },
          "metadata": {},
          "execution_count": 76
        }
      ]
    },
    {
      "cell_type": "code",
      "source": [
        "data = [[1, 2, 3], [4, 5, 6], [7, 8, 9]]\n",
        "\n",
        "for i in range(3):\n",
        "    for j in range(3):\n",
        "        data[i][j] *= 2\n",
        "        data[i][j] *= 2\n",
        "        data[i][j] *= 2\n",
        "\n",
        "data"
      ],
      "metadata": {
        "colab": {
          "base_uri": "https://localhost:8080/"
        },
        "id": "-cuAOwOGHaIU",
        "outputId": "42337df5-d17e-45ef-852b-677d7d9723ea"
      },
      "execution_count": null,
      "outputs": [
        {
          "output_type": "execute_result",
          "data": {
            "text/plain": [
              "[[8, 16, 24], [32, 40, 48], [56, 64, 72]]"
            ]
          },
          "metadata": {},
          "execution_count": 79
        }
      ]
    },
    {
      "cell_type": "code",
      "source": [
        "'''\n",
        "3       == 스칼라\n",
        "[3, 4]  == 벡터\n",
        "[[1, 2, 3], [4, 5, 6], [7, 8, 9]] == 매트릭스 행렬\n",
        "[[[1, 2, 3]], [[4, 5, 6]], [[7, 8, 9]]] == 텐서(다차원, 3차원 이상)\n",
        "\n",
        "인공지능 중 유명한 라이브러리  => 텐서플로우\n",
        "'''"
      ],
      "metadata": {
        "id": "1WxeKNpbH5fi"
      },
      "execution_count": null,
      "outputs": []
    },
    {
      "cell_type": "code",
      "source": [
        "# 리스트에서 주의해야 하는 연산!\n",
        "x = [10] * 3\n",
        "x"
      ],
      "metadata": {
        "colab": {
          "base_uri": "https://localhost:8080/"
        },
        "id": "HpjDKTKkIq4S",
        "outputId": "088badf1-0611-41d6-9143-ac68d2a2cc91"
      },
      "execution_count": null,
      "outputs": [
        {
          "output_type": "execute_result",
          "data": {
            "text/plain": [
              "[10, 10, 10]"
            ]
          },
          "metadata": {},
          "execution_count": 82
        }
      ]
    },
    {
      "cell_type": "code",
      "source": [
        "x[0] = 100\n",
        "x"
      ],
      "metadata": {
        "colab": {
          "base_uri": "https://localhost:8080/"
        },
        "id": "hB1253GaI2D8",
        "outputId": "0d88f065-b3d7-4e58-d61c-2d3500d7b202"
      },
      "execution_count": null,
      "outputs": [
        {
          "output_type": "execute_result",
          "data": {
            "text/plain": [
              "[100, 10, 10]"
            ]
          },
          "metadata": {},
          "execution_count": 84
        }
      ]
    },
    {
      "cell_type": "code",
      "source": [
        "x = [[10] * 2] * 3\n",
        "x"
      ],
      "metadata": {
        "colab": {
          "base_uri": "https://localhost:8080/"
        },
        "id": "hNfWblLcI4hW",
        "outputId": "2d51d52b-14d7-4811-8373-979817ab6048"
      },
      "execution_count": null,
      "outputs": [
        {
          "output_type": "execute_result",
          "data": {
            "text/plain": [
              "[[10, 10], [10, 10], [10, 10]]"
            ]
          },
          "metadata": {},
          "execution_count": 88
        }
      ]
    },
    {
      "cell_type": "code",
      "source": [
        "x[0][0] = 100\n",
        "x"
      ],
      "metadata": {
        "colab": {
          "base_uri": "https://localhost:8080/"
        },
        "id": "M1aSUotKJEj-",
        "outputId": "6ad80027-c0da-4638-dc6a-f14de7c992cd"
      },
      "execution_count": null,
      "outputs": [
        {
          "output_type": "execute_result",
          "data": {
            "text/plain": [
              "[[100, 10], [100, 10], [100, 10]]"
            ]
          },
          "metadata": {},
          "execution_count": 89
        }
      ]
    },
    {
      "cell_type": "code",
      "source": [
        "x = [[[10] * 3] * 3] * 4\n",
        "x[0][0][0] = 1000\n",
        "x"
      ],
      "metadata": {
        "colab": {
          "base_uri": "https://localhost:8080/"
        },
        "id": "o70g_2AlJOcP",
        "outputId": "f8a201df-5473-4a59-f812-256958a64ce2"
      },
      "execution_count": null,
      "outputs": [
        {
          "output_type": "execute_result",
          "data": {
            "text/plain": [
              "[[[1000, 10, 10], [1000, 10, 10], [1000, 10, 10]],\n",
              " [[1000, 10, 10], [1000, 10, 10], [1000, 10, 10]],\n",
              " [[1000, 10, 10], [1000, 10, 10], [1000, 10, 10]],\n",
              " [[1000, 10, 10], [1000, 10, 10], [1000, 10, 10]]]"
            ]
          },
          "metadata": {},
          "execution_count": 91
        }
      ]
    },
    {
      "cell_type": "code",
      "source": [
        "id(x[0][0]), id(x[0][1])\n",
        "id(x[0][0]) == id(x[0][1])\n",
        "id(x[0][0]) != id(x[0][1])"
      ],
      "metadata": {
        "colab": {
          "base_uri": "https://localhost:8080/"
        },
        "id": "LyRTiC5fJ2SR",
        "outputId": "fa1acbf1-f00b-4061-c913-9cce59906f43"
      },
      "execution_count": null,
      "outputs": [
        {
          "output_type": "execute_result",
          "data": {
            "text/plain": [
              "(140479859874432, 140479859874432)"
            ]
          },
          "metadata": {},
          "execution_count": 92
        }
      ]
    },
    {
      "cell_type": "code",
      "source": [
        "# [1, 2, 3] + [1, 2, 3] # 많이 사용함함"
      ],
      "metadata": {
        "colab": {
          "base_uri": "https://localhost:8080/"
        },
        "id": "Bt2SpkptM9Sj",
        "outputId": "90fce69b-ea45-40dd-84f3-0e6a10662032"
      },
      "execution_count": null,
      "outputs": [
        {
          "output_type": "execute_result",
          "data": {
            "text/plain": [
              "list"
            ]
          },
          "metadata": {},
          "execution_count": 33
        }
      ]
    },
    {
      "cell_type": "code",
      "source": [
        "l = [10, 20, 30]\n",
        "type(l), dir(l), help(l)"
      ],
      "metadata": {
        "colab": {
          "base_uri": "https://localhost:8080/"
        },
        "id": "QSokl1udKDSy",
        "outputId": "27ce78c2-de6c-4b7e-878d-0fb327fe1dba"
      },
      "execution_count": null,
      "outputs": [
        {
          "output_type": "stream",
          "name": "stdout",
          "text": [
            "Help on list object:\n",
            "\n",
            "class list(object)\n",
            " |  list(iterable=(), /)\n",
            " |  \n",
            " |  Built-in mutable sequence.\n",
            " |  \n",
            " |  If no argument is given, the constructor creates a new empty list.\n",
            " |  The argument must be an iterable if specified.\n",
            " |  \n",
            " |  Methods defined here:\n",
            " |  \n",
            " |  __add__(self, value, /)\n",
            " |      Return self+value.\n",
            " |  \n",
            " |  __contains__(self, key, /)\n",
            " |      Return key in self.\n",
            " |  \n",
            " |  __delitem__(self, key, /)\n",
            " |      Delete self[key].\n",
            " |  \n",
            " |  __eq__(self, value, /)\n",
            " |      Return self==value.\n",
            " |  \n",
            " |  __ge__(self, value, /)\n",
            " |      Return self>=value.\n",
            " |  \n",
            " |  __getattribute__(self, name, /)\n",
            " |      Return getattr(self, name).\n",
            " |  \n",
            " |  __getitem__(...)\n",
            " |      x.__getitem__(y) <==> x[y]\n",
            " |  \n",
            " |  __gt__(self, value, /)\n",
            " |      Return self>value.\n",
            " |  \n",
            " |  __iadd__(self, value, /)\n",
            " |      Implement self+=value.\n",
            " |  \n",
            " |  __imul__(self, value, /)\n",
            " |      Implement self*=value.\n",
            " |  \n",
            " |  __init__(self, /, *args, **kwargs)\n",
            " |      Initialize self.  See help(type(self)) for accurate signature.\n",
            " |  \n",
            " |  __iter__(self, /)\n",
            " |      Implement iter(self).\n",
            " |  \n",
            " |  __le__(self, value, /)\n",
            " |      Return self<=value.\n",
            " |  \n",
            " |  __len__(self, /)\n",
            " |      Return len(self).\n",
            " |  \n",
            " |  __lt__(self, value, /)\n",
            " |      Return self<value.\n",
            " |  \n",
            " |  __mul__(self, value, /)\n",
            " |      Return self*value.\n",
            " |  \n",
            " |  __ne__(self, value, /)\n",
            " |      Return self!=value.\n",
            " |  \n",
            " |  __repr__(self, /)\n",
            " |      Return repr(self).\n",
            " |  \n",
            " |  __reversed__(self, /)\n",
            " |      Return a reverse iterator over the list.\n",
            " |  \n",
            " |  __rmul__(self, value, /)\n",
            " |      Return value*self.\n",
            " |  \n",
            " |  __setitem__(self, key, value, /)\n",
            " |      Set self[key] to value.\n",
            " |  \n",
            " |  __sizeof__(self, /)\n",
            " |      Return the size of the list in memory, in bytes.\n",
            " |  \n",
            " |  append(self, object, /)\n",
            " |      Append object to the end of the list.\n",
            " |  \n",
            " |  clear(self, /)\n",
            " |      Remove all items from list.\n",
            " |  \n",
            " |  copy(self, /)\n",
            " |      Return a shallow copy of the list.\n",
            " |  \n",
            " |  count(self, value, /)\n",
            " |      Return number of occurrences of value.\n",
            " |  \n",
            " |  extend(self, iterable, /)\n",
            " |      Extend list by appending elements from the iterable.\n",
            " |  \n",
            " |  index(self, value, start=0, stop=9223372036854775807, /)\n",
            " |      Return first index of value.\n",
            " |      \n",
            " |      Raises ValueError if the value is not present.\n",
            " |  \n",
            " |  insert(self, index, object, /)\n",
            " |      Insert object before index.\n",
            " |  \n",
            " |  pop(self, index=-1, /)\n",
            " |      Remove and return item at index (default last).\n",
            " |      \n",
            " |      Raises IndexError if list is empty or index is out of range.\n",
            " |  \n",
            " |  remove(self, value, /)\n",
            " |      Remove first occurrence of value.\n",
            " |      \n",
            " |      Raises ValueError if the value is not present.\n",
            " |  \n",
            " |  reverse(self, /)\n",
            " |      Reverse *IN PLACE*.\n",
            " |  \n",
            " |  sort(self, /, *, key=None, reverse=False)\n",
            " |      Sort the list in ascending order and return None.\n",
            " |      \n",
            " |      The sort is in-place (i.e. the list itself is modified) and stable (i.e. the\n",
            " |      order of two equal elements is maintained).\n",
            " |      \n",
            " |      If a key function is given, apply it once to each list item and sort them,\n",
            " |      ascending or descending, according to their function values.\n",
            " |      \n",
            " |      The reverse flag can be set to sort in descending order.\n",
            " |  \n",
            " |  ----------------------------------------------------------------------\n",
            " |  Class methods defined here:\n",
            " |  \n",
            " |  __class_getitem__(...) from builtins.type\n",
            " |      See PEP 585\n",
            " |  \n",
            " |  ----------------------------------------------------------------------\n",
            " |  Static methods defined here:\n",
            " |  \n",
            " |  __new__(*args, **kwargs) from builtins.type\n",
            " |      Create and return a new object.  See help(type) for accurate signature.\n",
            " |  \n",
            " |  ----------------------------------------------------------------------\n",
            " |  Data and other attributes defined here:\n",
            " |  \n",
            " |  __hash__ = None\n",
            "\n"
          ]
        },
        {
          "output_type": "execute_result",
          "data": {
            "text/plain": [
              "(list,\n",
              " ['__add__',\n",
              "  '__class__',\n",
              "  '__class_getitem__',\n",
              "  '__contains__',\n",
              "  '__delattr__',\n",
              "  '__delitem__',\n",
              "  '__dir__',\n",
              "  '__doc__',\n",
              "  '__eq__',\n",
              "  '__format__',\n",
              "  '__ge__',\n",
              "  '__getattribute__',\n",
              "  '__getitem__',\n",
              "  '__gt__',\n",
              "  '__hash__',\n",
              "  '__iadd__',\n",
              "  '__imul__',\n",
              "  '__init__',\n",
              "  '__init_subclass__',\n",
              "  '__iter__',\n",
              "  '__le__',\n",
              "  '__len__',\n",
              "  '__lt__',\n",
              "  '__mul__',\n",
              "  '__ne__',\n",
              "  '__new__',\n",
              "  '__reduce__',\n",
              "  '__reduce_ex__',\n",
              "  '__repr__',\n",
              "  '__reversed__',\n",
              "  '__rmul__',\n",
              "  '__setattr__',\n",
              "  '__setitem__',\n",
              "  '__sizeof__',\n",
              "  '__str__',\n",
              "  '__subclasshook__',\n",
              "  'append',\n",
              "  'clear',\n",
              "  'copy',\n",
              "  'count',\n",
              "  'extend',\n",
              "  'index',\n",
              "  'insert',\n",
              "  'pop',\n",
              "  'remove',\n",
              "  'reverse',\n",
              "  'sort'],\n",
              " None)"
            ]
          },
          "metadata": {},
          "execution_count": 96
        }
      ]
    },
    {
      "cell_type": "markdown",
      "source": [
        "## 리스트의 메서드"
      ],
      "metadata": {
        "id": "DjAyJpfWNQsa"
      }
    },
    {
      "cell_type": "code",
      "source": [
        "# 'append', 'clear', 'copy', 'count', 'extend', 'index', \n",
        "# 'insert', 'pop', 'remove', 'reverse', 'sort'"
      ],
      "metadata": {
        "id": "hCMsFzjVNPIt"
      },
      "execution_count": null,
      "outputs": []
    },
    {
      "cell_type": "code",
      "source": [
        "l = [1, 2, 3]\n",
        "l.append(4)\n",
        "l"
      ],
      "metadata": {
        "colab": {
          "base_uri": "https://localhost:8080/"
        },
        "id": "tMNOO85FNiGx",
        "outputId": "16f1d542-3d5a-4c8c-9ea1-d1ad1925c75b"
      },
      "execution_count": null,
      "outputs": [
        {
          "output_type": "execute_result",
          "data": {
            "text/plain": [
              "[1, 2, 3, 4]"
            ]
          },
          "metadata": {},
          "execution_count": 98
        }
      ]
    },
    {
      "cell_type": "code",
      "source": [
        "l = [1, 2, 3]\n",
        "l.append([1, 2, 3])\n",
        "l"
      ],
      "metadata": {
        "colab": {
          "base_uri": "https://localhost:8080/"
        },
        "id": "l55kRFFINpc7",
        "outputId": "00da5aee-e479-48fb-c531-4f5fec3f5aa1"
      },
      "execution_count": null,
      "outputs": [
        {
          "output_type": "execute_result",
          "data": {
            "text/plain": [
              "[1, 2, 3, [1, 2, 3]]"
            ]
          },
          "metadata": {},
          "execution_count": 99
        }
      ]
    },
    {
      "cell_type": "code",
      "source": [
        "l = [1, 2, 3]\n",
        "l.extend('hello') #error\n",
        "l"
      ],
      "metadata": {
        "colab": {
          "base_uri": "https://localhost:8080/"
        },
        "id": "8PeEcjxYNuKK",
        "outputId": "11f6d055-8450-44f7-e33d-1ede13db1a62"
      },
      "execution_count": null,
      "outputs": [
        {
          "output_type": "execute_result",
          "data": {
            "text/plain": [
              "[1, 2, 3, 'a']"
            ]
          },
          "metadata": {},
          "execution_count": 37
        }
      ]
    },
    {
      "cell_type": "code",
      "source": [
        "l = [1, 2, 3]\n",
        "l.extend([1, 2, 3])\n",
        "l"
      ],
      "metadata": {
        "colab": {
          "base_uri": "https://localhost:8080/"
        },
        "id": "8NIWABq_N2-i",
        "outputId": "c6bc4cdd-09e8-4711-a593-a568908a0204"
      },
      "execution_count": null,
      "outputs": [
        {
          "output_type": "execute_result",
          "data": {
            "text/plain": [
              "[1, 2, 3, 1, 2, 3]"
            ]
          },
          "metadata": {},
          "execution_count": 101
        }
      ]
    },
    {
      "cell_type": "code",
      "source": [
        "l = [1, 2, 3]\n",
        "l.extend({'one':10, 'two':20})\n",
        "l\n",
        "a = {'one':10, 'two':20}\n",
        "a['one']"
      ],
      "metadata": {
        "colab": {
          "base_uri": "https://localhost:8080/"
        },
        "id": "mW8T-8lWOT_T",
        "outputId": "05526def-c58d-40ba-f246-37f355fea121"
      },
      "execution_count": null,
      "outputs": [
        {
          "output_type": "execute_result",
          "data": {
            "text/plain": [
              "10"
            ]
          },
          "metadata": {},
          "execution_count": 40
        }
      ]
    },
    {
      "cell_type": "code",
      "source": [
        "l = [1, 2, 3]\n",
        "l.extend({10, 20, 30, 30})\n",
        "l"
      ],
      "metadata": {
        "colab": {
          "base_uri": "https://localhost:8080/"
        },
        "id": "W2fhEvX8Ob6-",
        "outputId": "263affe7-f045-43ef-f5f6-bc3b8d2af8cf"
      },
      "execution_count": null,
      "outputs": [
        {
          "output_type": "execute_result",
          "data": {
            "text/plain": [
              "[1, 2, 3, 10, 20, 30]"
            ]
          },
          "metadata": {},
          "execution_count": 41
        }
      ]
    },
    {
      "cell_type": "code",
      "source": [
        "l = [1, 2, 3]\n",
        "l.extend([1, 2, 3])\n",
        "l"
      ],
      "metadata": {
        "colab": {
          "base_uri": "https://localhost:8080/"
        },
        "id": "QqtzRnmiOjZh",
        "outputId": "5c1eca0d-a73b-4114-8c9b-5926696a3f4d"
      },
      "execution_count": null,
      "outputs": [
        {
          "output_type": "execute_result",
          "data": {
            "text/plain": [
              "[1, 2, 3, 1, 2, 3]"
            ]
          },
          "metadata": {},
          "execution_count": 107
        }
      ]
    },
    {
      "cell_type": "code",
      "source": [
        "l = [10, 20, 30]\n",
        "l.clear()\n",
        "l"
      ],
      "metadata": {
        "colab": {
          "base_uri": "https://localhost:8080/"
        },
        "id": "tBtC8sF2Oyao",
        "outputId": "5d126c1b-082f-41f3-8a0f-22ba42f62dfa"
      },
      "execution_count": null,
      "outputs": [
        {
          "output_type": "execute_result",
          "data": {
            "text/plain": [
              "[]"
            ]
          },
          "metadata": {},
          "execution_count": 108
        }
      ]
    },
    {
      "cell_type": "code",
      "source": [
        "인천과일가게 = [['바나나', 1000], ['수박', 2000], ['딸기', 3000]]\n",
        "서울과일가게 = 인천과일가게\n",
        "서울과일가게[0] = ['바나나', 2000]\n",
        "서울과일가게, 인천과일가게"
      ],
      "metadata": {
        "colab": {
          "base_uri": "https://localhost:8080/"
        },
        "id": "LlmC8coVPB7J",
        "outputId": "55038315-d278-43bb-b883-ee8d7721d45e"
      },
      "execution_count": null,
      "outputs": [
        {
          "output_type": "execute_result",
          "data": {
            "text/plain": [
              "([['바나나', 2000], ['수박', 2000], ['딸기', 3000]],\n",
              " [['바나나', 2000], ['수박', 2000], ['딸기', 3000]])"
            ]
          },
          "metadata": {},
          "execution_count": 110
        }
      ]
    },
    {
      "cell_type": "code",
      "source": [
        "#이 이상의 내용은 뒤에 얕은 복사와 깊은 복사에서 알아봅니다다\n",
        "\n",
        "인천과일가게 = [['바나나', 1000], ['수박', 2000], ['딸기', 3000]]\n",
        "서울과일가게 = 인천과일가게.copy() # 얕은 복사 인천과일가게[:] 로 대부분 사용용\n",
        "# 서울과일가게[0] = ['바나나', 2000]\n",
        "id(서울과일가게[0]), id(인천과일가게[0])\n",
        "id(서울과일가게[0][0]), id(인천과일가게[0][0])\n",
        "서울과일가게[0][1] = 3000\n",
        "서울과일가게, 인천과일가게"
      ],
      "metadata": {
        "colab": {
          "base_uri": "https://localhost:8080/"
        },
        "id": "YusK8DJxPrmu",
        "outputId": "707cfc98-fe7c-416f-ac26-25674f1ea438"
      },
      "execution_count": null,
      "outputs": [
        {
          "output_type": "execute_result",
          "data": {
            "text/plain": [
              "([['바나나', 3000], ['수박', 2000], ['딸기', 3000]],\n",
              " [['바나나', 3000], ['수박', 2000], ['딸기', 3000]])"
            ]
          },
          "metadata": {},
          "execution_count": 122
        }
      ]
    },
    {
      "cell_type": "code",
      "source": [
        "s = 'hello world'\n",
        "s[:5]"
      ],
      "metadata": {
        "colab": {
          "base_uri": "https://localhost:8080/",
          "height": 35
        },
        "id": "5C5ZXAb4QRkd",
        "outputId": "80dde1c1-d2c8-4988-c129-90126c30bc8c"
      },
      "execution_count": null,
      "outputs": [
        {
          "output_type": "execute_result",
          "data": {
            "text/plain": [
              "'hello'"
            ],
            "application/vnd.google.colaboratory.intrinsic+json": {
              "type": "string"
            }
          },
          "metadata": {},
          "execution_count": 113
        }
      ]
    },
    {
      "cell_type": "code",
      "source": [
        "l = [10, 20, 30, 40, 50]\n",
        "l[:3]\n",
        "ll = l[:]\n",
        "ll"
      ],
      "metadata": {
        "colab": {
          "base_uri": "https://localhost:8080/"
        },
        "id": "9TDEbiFdQU1n",
        "outputId": "1c275375-05f9-4b11-bffc-df163317d6a5"
      },
      "execution_count": null,
      "outputs": [
        {
          "output_type": "execute_result",
          "data": {
            "text/plain": [
              "[10, 20, 30, 40, 50]"
            ]
          },
          "metadata": {},
          "execution_count": 117
        }
      ]
    },
    {
      "cell_type": "code",
      "source": [
        "id(l), id(ll)"
      ],
      "metadata": {
        "colab": {
          "base_uri": "https://localhost:8080/"
        },
        "id": "djF7ivSwQgYS",
        "outputId": "38c42ede-adc4-4c56-a009-f0776459ffa2"
      },
      "execution_count": null,
      "outputs": [
        {
          "output_type": "execute_result",
          "data": {
            "text/plain": [
              "(140479859882368, 140479860062592)"
            ]
          },
          "metadata": {},
          "execution_count": 118
        }
      ]
    },
    {
      "cell_type": "code",
      "source": [
        "l = [1, 2, 3]\n",
        "ll = l[:]\n",
        "l[0] = 1000\n",
        "l, ll"
      ],
      "metadata": {
        "colab": {
          "base_uri": "https://localhost:8080/"
        },
        "id": "tWqCnHYiRf0F",
        "outputId": "b97cd505-8f60-4918-c00e-b92c21789565"
      },
      "execution_count": null,
      "outputs": [
        {
          "output_type": "execute_result",
          "data": {
            "text/plain": [
              "([1000, 2, 3], [1, 2, 3])"
            ]
          },
          "metadata": {},
          "execution_count": 123
        }
      ]
    },
    {
      "cell_type": "code",
      "source": [
        "l = [1, 2, 3, 1, 1, 1, 2, 3, 2, 3, 1, 1]\n",
        "l.count(1)"
      ],
      "metadata": {
        "colab": {
          "base_uri": "https://localhost:8080/"
        },
        "id": "mJCMrMB-R_zc",
        "outputId": "b3a73749-02b0-4931-9bb3-6a257a351b55"
      },
      "execution_count": null,
      "outputs": [
        {
          "output_type": "execute_result",
          "data": {
            "text/plain": [
              "6"
            ]
          },
          "metadata": {},
          "execution_count": 125
        }
      ]
    },
    {
      "cell_type": "code",
      "source": [
        "a = [10, 1, 1, 11, 2, 23, 12]\n",
        "a.index(11) # find가 없음\n",
        "a[:a.index(11)]"
      ],
      "metadata": {
        "colab": {
          "base_uri": "https://localhost:8080/"
        },
        "id": "gGkEeunUSRlf",
        "outputId": "728debde-05d0-4075-fe8e-f9fd5ba10ee3"
      },
      "execution_count": null,
      "outputs": [
        {
          "output_type": "execute_result",
          "data": {
            "text/plain": [
              "3"
            ]
          },
          "metadata": {},
          "execution_count": 42
        }
      ]
    },
    {
      "cell_type": "code",
      "source": [
        "a = [10, 20, 30]\n",
        "a.insert(2, 1000) # insert는 값을 지우지는 않습니다다\n",
        "a"
      ],
      "metadata": {
        "colab": {
          "base_uri": "https://localhost:8080/"
        },
        "id": "WhjiGTiNTSE0",
        "outputId": "0a897ee4-e23b-4b2f-c4f7-b60b2a7eb5b9"
      },
      "execution_count": null,
      "outputs": [
        {
          "output_type": "execute_result",
          "data": {
            "text/plain": [
              "[10, 20, 1000, 30]"
            ]
          },
          "metadata": {},
          "execution_count": 129
        }
      ]
    },
    {
      "cell_type": "code",
      "source": [
        "# 별 5개\n",
        "l = [10, 20, 30, 40, 50] # 많이 사용합니다다\n",
        "l.pop()"
      ],
      "metadata": {
        "colab": {
          "base_uri": "https://localhost:8080/"
        },
        "id": "zoCGpIeoTqrR",
        "outputId": "fbbae03d-788a-44d5-97a2-a210634704a6"
      },
      "execution_count": null,
      "outputs": [
        {
          "output_type": "execute_result",
          "data": {
            "text/plain": [
              "50"
            ]
          },
          "metadata": {},
          "execution_count": 131
        }
      ]
    },
    {
      "cell_type": "code",
      "source": [
        "# append : 맨 뒤에 추가\n",
        "# pop : 맨 뒤에서 값을 뽑아내고, index가 들어갈 경우 index에서 뽑습니다.\n",
        "# insert : index에 값을 삽입하고 원래있던 값을 뒤로 밀어냅니다."
      ],
      "metadata": {
        "id": "FCtrN7bFT7PY"
      },
      "execution_count": null,
      "outputs": []
    },
    {
      "cell_type": "code",
      "source": [
        "l = [10, 20, 30, 40, 50]\n",
        "l.remove(20) # 예를 들어 for를 돌면서 remove를 하지 않기 바랍니다.\n",
        "l"
      ],
      "metadata": {
        "colab": {
          "base_uri": "https://localhost:8080/"
        },
        "id": "Xe60uBI4URWt",
        "outputId": "572abac7-9b54-4b42-98fd-c2f34ca64a8d"
      },
      "execution_count": null,
      "outputs": [
        {
          "output_type": "execute_result",
          "data": {
            "text/plain": [
              "[10, 30, 40, 50]"
            ]
          },
          "metadata": {},
          "execution_count": 137
        }
      ]
    },
    {
      "cell_type": "code",
      "source": [
        "l = [20, 20, 20, 20, 20]\n",
        "for i in range(len(l)):\n",
        "    print(len(l)) # len가 계속 변하기 때문에 의도치 않은 에러가 날 수 있어요\n",
        "    l.remove(20)\n",
        "\n",
        "# 무한 반복입니다."
      ],
      "metadata": {
        "colab": {
          "base_uri": "https://localhost:8080/"
        },
        "id": "ySEUlbd-U-02",
        "outputId": "5face680-55ae-43b8-c925-149d93e57fc3"
      },
      "execution_count": null,
      "outputs": [
        {
          "output_type": "stream",
          "name": "stdout",
          "text": [
            "5\n",
            "4\n",
            "3\n",
            "2\n",
            "1\n"
          ]
        }
      ]
    },
    {
      "cell_type": "code",
      "source": [
        "# 5월 4일 시작\n",
        "\n",
        "l = [10, 20, 30, 40, 50, 20, 20, 20]\n",
        "for i in range(l.count(20)): #range(4)\n",
        "    l.remove(20)\n",
        "l"
      ],
      "metadata": {
        "id": "g-939wDWFfJZ"
      },
      "execution_count": null,
      "outputs": []
    },
    {
      "cell_type": "code",
      "source": [
        "# 실무에서 어떤 값을 전부 없에거나\n",
        "# 어떤 값을 전부 찾는 것\n",
        "def f(x):\n",
        "    return x != 20\n",
        "\n",
        "# True인 것만 반환해줍니다.\n",
        "list(filter(f, [10, 20, 30 ,40, 50, 20, 20, 20]))"
      ],
      "metadata": {
        "colab": {
          "base_uri": "https://localhost:8080/"
        },
        "id": "ceJAmZQRF4Q8",
        "outputId": "caa42b81-822f-4d2f-eb5b-7d6087a8c5da"
      },
      "execution_count": null,
      "outputs": [
        {
          "output_type": "execute_result",
          "data": {
            "text/plain": [
              "[10, 30, 40, 50]"
            ]
          },
          "metadata": {},
          "execution_count": 21
        }
      ]
    },
    {
      "cell_type": "code",
      "source": [
        "filter(f, [10, 20, 30 ,40, 50, 20, 20, 20])"
      ],
      "metadata": {
        "colab": {
          "base_uri": "https://localhost:8080/"
        },
        "id": "uoo_UWz7Gvhf",
        "outputId": "8a2d0611-666f-4fc9-929e-ca76e2179580"
      },
      "execution_count": null,
      "outputs": [
        {
          "output_type": "execute_result",
          "data": {
            "text/plain": [
              "<filter at 0x7f5842f23f10>"
            ]
          },
          "metadata": {},
          "execution_count": 12
        }
      ]
    },
    {
      "cell_type": "code",
      "source": [
        "range(100) # 시작값과 종료값만 가지고 있음 ? 메모리공간을 효율적으로 사용하기 위함일까?"
      ],
      "metadata": {
        "colab": {
          "base_uri": "https://localhost:8080/"
        },
        "id": "PIDDj8UwGyhm",
        "outputId": "df1e9787-2a55-483c-968f-b61091098f29"
      },
      "execution_count": null,
      "outputs": [
        {
          "output_type": "execute_result",
          "data": {
            "text/plain": [
              "range(0, 100)"
            ]
          },
          "metadata": {},
          "execution_count": 13
        }
      ]
    },
    {
      "cell_type": "code",
      "source": [
        "for i in filter(f, [10, 20, 30 ,40, 50, 20, 20, 20]):\n",
        "    print(i)"
      ],
      "metadata": {
        "colab": {
          "base_uri": "https://localhost:8080/"
        },
        "id": "BwujfHT4G4LH",
        "outputId": "c62ac185-fa1b-4ace-96da-d4046180dd0a"
      },
      "execution_count": null,
      "outputs": [
        {
          "output_type": "stream",
          "name": "stdout",
          "text": [
            "10\n",
            "30\n",
            "40\n",
            "50\n"
          ]
        }
      ]
    },
    {
      "cell_type": "code",
      "source": [
        "list(filter(lambda x:x!=20, [10, 20, 30, 40, 50, 20, 20, 20]))\n",
        "\n",
        "#lambda 파라미터:기능"
      ],
      "metadata": {
        "colab": {
          "base_uri": "https://localhost:8080/"
        },
        "id": "EMA1VwJPHcU1",
        "outputId": "a026569a-3f6d-4650-a51b-b600f309546e"
      },
      "execution_count": null,
      "outputs": [
        {
          "output_type": "execute_result",
          "data": {
            "text/plain": [
              "[10, 30, 40, 50]"
            ]
          },
          "metadata": {},
          "execution_count": 16
        }
      ]
    },
    {
      "cell_type": "code",
      "source": [
        "l = [20, 20, 20, 20]\n",
        "for i in l:\n",
        "    print(len(l))\n",
        "    l.append(20)"
      ],
      "metadata": {
        "id": "Ew88reK_VaSd"
      },
      "execution_count": null,
      "outputs": []
    },
    {
      "cell_type": "code",
      "source": [
        "l = [5, 6, 4, 3, 8, 9, 1]\n",
        "l.reverse() # 역 정렬이 아니고 역순이며. 원본을 만집니다.\n",
        "l\n"
      ],
      "metadata": {
        "colab": {
          "base_uri": "https://localhost:8080/"
        },
        "id": "0O4qafLuV3WC",
        "outputId": "a1bf7442-2e81-4ec5-9ac6-fb8acefc5bc6"
      },
      "execution_count": null,
      "outputs": [
        {
          "output_type": "execute_result",
          "data": {
            "text/plain": [
              "[1, 9, 8, 3, 4, 6, 5]"
            ]
          },
          "metadata": {},
          "execution_count": 142
        }
      ]
    },
    {
      "cell_type": "code",
      "source": [
        "l = [5, 6, 4, 3, 8, 9, 1]\n",
        "print(list(reversed(l))) # 역 정렬이 아니고 역순이며 원본을 만지지 않습니다.\n",
        "print(l)"
      ],
      "metadata": {
        "colab": {
          "base_uri": "https://localhost:8080/"
        },
        "id": "ppshj18hWNoF",
        "outputId": "0e25b462-5797-48f1-a5ee-ed721f916b09"
      },
      "execution_count": null,
      "outputs": [
        {
          "output_type": "stream",
          "name": "stdout",
          "text": [
            "[1, 9, 8, 3, 4, 6, 5]\n",
            "[5, 6, 4, 3, 8, 9, 1]\n"
          ]
        }
      ]
    },
    {
      "cell_type": "code",
      "source": [
        "# l.reverse() : 리스트의 메서드 이며, return None입니다! 역순, 원본을 만집니다\n",
        "# reversed() : 빌트인펑션이며, return 역순 입니다! 원본을 만지지 않습니다."
      ],
      "metadata": {
        "id": "XHH2HOCmWiKU"
      },
      "execution_count": null,
      "outputs": []
    },
    {
      "cell_type": "code",
      "source": [
        "ㅣ = [5, 6, 4, 3, 8, 9, 1]\n",
        "print(l.reverse())\n",
        "l"
      ],
      "metadata": {
        "colab": {
          "base_uri": "https://localhost:8080/"
        },
        "id": "J0jxvrLxW0Ld",
        "outputId": "e824468b-859a-4387-9948-87991cbe040c"
      },
      "execution_count": null,
      "outputs": [
        {
          "output_type": "stream",
          "name": "stdout",
          "text": [
            "None\n"
          ]
        },
        {
          "output_type": "execute_result",
          "data": {
            "text/plain": [
              "[5, 6, 4, 3, 8, 9, 1]"
            ]
          },
          "metadata": {},
          "execution_count": 146
        }
      ]
    },
    {
      "cell_type": "code",
      "source": [
        "print(list(reversed(l)))\n",
        "print(l)"
      ],
      "metadata": {
        "colab": {
          "base_uri": "https://localhost:8080/"
        },
        "id": "Ixl2MJNuW7aJ",
        "outputId": "ab7f9cb6-f944-4012-e5e4-e20aff2e5fbb"
      },
      "execution_count": null,
      "outputs": [
        {
          "output_type": "stream",
          "name": "stdout",
          "text": [
            "[1, 9, 8, 3, 4, 6, 5]\n",
            "[5, 6, 4, 3, 8, 9, 1]\n"
          ]
        }
      ]
    },
    {
      "cell_type": "code",
      "source": [
        "print(type(range(10)))"
      ],
      "metadata": {
        "colab": {
          "base_uri": "https://localhost:8080/"
        },
        "id": "zmTMg7sVXdG_",
        "outputId": "a33a690c-a5c5-4734-96ed-862cd47f92cb"
      },
      "execution_count": null,
      "outputs": [
        {
          "output_type": "stream",
          "name": "stdout",
          "text": [
            "<class 'range'>\n"
          ]
        }
      ]
    },
    {
      "cell_type": "code",
      "source": [
        "# 메서드는 대상.메서드종류()\n",
        "# 빌트인함수는 함수명()\n",
        "# 서로 작성양식?으로 구분하시면 됩니다"
      ],
      "metadata": {
        "id": "idja-JI7aum0"
      },
      "execution_count": null,
      "outputs": []
    },
    {
      "cell_type": "markdown",
      "source": [
        "## sort"
      ],
      "metadata": {
        "id": "D4F4rw9BHywu"
      }
    },
    {
      "cell_type": "code",
      "source": [
        "l = [1, 5, 4, 2, 8, 5, 10, 9, 2, 3]\n",
        "l.sort() #  원본을 만집니다. why? .을 찍어서..? 괄호가 있는건 함수. 변수명뒤에 함수가 있으면 무조건 함수다 but 클래스도있긴함... 클래스안에 함수를 메서드 라고함\n",
        "#반환값은 None 입니다.\n",
        "l"
      ],
      "metadata": {
        "colab": {
          "base_uri": "https://localhost:8080/"
        },
        "id": "7rEb6qWGH5sA",
        "outputId": "7ec18f35-17b5-454b-9d10-ee67284a7dd9"
      },
      "execution_count": null,
      "outputs": [
        {
          "output_type": "execute_result",
          "data": {
            "text/plain": [
              "[1, 2, 2, 3, 4, 5, 5, 8, 9, 10]"
            ]
          },
          "metadata": {},
          "execution_count": 18
        }
      ]
    },
    {
      "cell_type": "code",
      "source": [
        "sorted([1, 5, 4, 2, 8, 5, 10, 9, 2, 3])\n",
        "print(sorted([1, 5, 4, 2, 8, 5, 10, 9, 2, 3]))\n",
        "# 원본을 만지지 않고, 반환값은 정렬된 값 why? . 이 없어서..!?\n",
        "print(l)  # 위에서 원본 l 을 만져서 그런듯"
      ],
      "metadata": {
        "colab": {
          "base_uri": "https://localhost:8080/"
        },
        "id": "CEU4sF99Ie2z",
        "outputId": "c9ae993f-6530-4b87-d78b-f23bab188430"
      },
      "execution_count": null,
      "outputs": [
        {
          "output_type": "stream",
          "name": "stdout",
          "text": [
            "[1, 2, 2, 3, 4, 5, 5, 8, 9, 10]\n",
            "[1, 2, 2, 3, 4, 5, 5, 8, 9, 10]\n"
          ]
        }
      ]
    },
    {
      "cell_type": "code",
      "source": [
        "# 이렇게 실무에서 진행하진 않습니다\n",
        "l = [1, 5, 4, 2, 8, 5, 10, 9, 2, 3]\n",
        "l.sort()\n",
        "l.reverse()\n",
        "l"
      ],
      "metadata": {
        "colab": {
          "base_uri": "https://localhost:8080/"
        },
        "id": "OMNPUv3kI0w1",
        "outputId": "480ee770-a5fc-47c9-c2a1-08648fdb527d"
      },
      "execution_count": null,
      "outputs": [
        {
          "output_type": "execute_result",
          "data": {
            "text/plain": [
              "[10, 9, 8, 5, 5, 4, 3, 2, 2, 1]"
            ]
          },
          "metadata": {},
          "execution_count": 21
        }
      ]
    },
    {
      "cell_type": "code",
      "source": [
        "# 이렇게 많이 사용 합니다.\n",
        "l = [1, 5, 4, 2, 8, 5, 10, 9, 2, 3]\n",
        "l.sort(reverse=True) # 내림차순\n",
        "l"
      ],
      "metadata": {
        "colab": {
          "base_uri": "https://localhost:8080/"
        },
        "id": "FNjb7zn7I909",
        "outputId": "12ba5334-b895-4242-8f2f-953adda07252"
      },
      "execution_count": null,
      "outputs": [
        {
          "output_type": "execute_result",
          "data": {
            "text/plain": [
              "[10, 9, 8, 5, 5, 4, 3, 2, 2, 1]"
            ]
          },
          "metadata": {},
          "execution_count": 30
        }
      ]
    },
    {
      "cell_type": "code",
      "source": [
        "l = [1, 5, 4, 2, 8, 5, 10, 9, 2, 3]\n",
        "sorted(l, reverse=True) # 내림차순\n"
      ],
      "metadata": {
        "colab": {
          "base_uri": "https://localhost:8080/"
        },
        "id": "kCHWqKT_JJV9",
        "outputId": "601c5210-a09f-4b76-c3e0-3792a1c0a556"
      },
      "execution_count": null,
      "outputs": [
        {
          "output_type": "execute_result",
          "data": {
            "text/plain": [
              "[10, 9, 8, 5, 5, 4, 3, 2, 2, 1]"
            ]
          },
          "metadata": {},
          "execution_count": 32
        }
      ]
    },
    {
      "cell_type": "code",
      "source": [
        "l = [[1, 10, 'gony'], \n",
        "     [20, 30, 'hojun'], \n",
        "     [10, 20, 'weniv'], \n",
        "     [1, 2, 'likelion'], \n",
        "     [55, 11, 'sun']]\n",
        "\n",
        "# 1. 글자 수 대로 정렬해주세요.\n",
        "def f(x):\n",
        "    return len(x[2])\n",
        "print(sorted(l, key=f, reverse=False))\n",
        "print(sorted(l, key=lambda x:len(x[2]), reverse=False))\n",
        "\n",
        "# 2. 맨 앞에 위치한 숫자대로 정렬해주세요.\n",
        "def f2(x):\n",
        "    return x[0]\n",
        "\n",
        "#print(sorted(l))\n",
        "print(sorted(l, key=f2,))\n",
        "print(sorted(l, key=lambda x:x[0], reverse = False ))\n",
        "# print(sorted(l, key=lambda x:x[0]))\n",
        "\n",
        "# 3. 중앙에 위치한 값대로 정렬해주세요.\n",
        "\n",
        "def f2(x):\n",
        "    return x[1]\n",
        "\n",
        "#print(sorted(l))\n",
        "print(sorted(l, key=f2,))\n",
        "print(sorted(l, key=lambda x:x[1], reverse = False ))\n",
        "# print(sorted(l, key=lambda x:x[1]))\n",
        "\n",
        "l = [[1, 10, 32], \n",
        "     [20, 30, 11], \n",
        "     [10, 20, 22], \n",
        "     [1, 2, 13], \n",
        "     [55, 11, 44]]\n",
        "\n",
        "\n",
        "# 4. 3개의 전체 합이 작은 순서대로 출력해주세요.\n",
        "\n",
        "def f4(x):\n",
        "    return x[0] + x[1] + x[2] # 전체 sum과 같음 x[0] + x[1] + x[2] 요렇게 적어도 됨\n",
        "\n",
        "def f5(x):\n",
        "    return sum(x)\n",
        "\n",
        "print(sorted(l, key=f4))\n",
        "print(sorted(l, key=f5))\n",
        "print(sorted(l, key=lambda x: sum(x)))\n",
        "print(sorted(l, key=f4))\n",
        "\n",
        "#암기해!\n",
        "\n",
        "#print(sorted(l))\n",
        "print(sorted(l, key=f2,))\n",
        "print(sorted(l, key=lambda x:x[1], reverse = False ))\n",
        "# print(sorted(l, key=lambda x:x[1]))\n"
      ],
      "metadata": {
        "id": "2J4XCDH7JdFI"
      },
      "execution_count": null,
      "outputs": []
    },
    {
      "cell_type": "code",
      "source": [
        "l = [[1, 10, 'gony'], \n",
        "     [20, 30, 'hojun'], \n",
        "     [10, 20, 'weniv!'], \n",
        "     [1, 2, 'hello world'], \n",
        "     [55, 11, 'sun']]\n",
        "\n",
        "# 1. 글자 수 대로 정렬해주세요.\n",
        "def f(x):\n",
        "    return len(x[2])\n",
        "\n",
        "print(sorted(l, key=f, reverse=False))\n",
        "print(sorted(l, key=lambda x:len(x[2]), reverse=False))\n",
        "\n",
        "# 2. 맨 앞에 위치한 숫자대로 정렬해주세요.\n",
        "def f2(x):\n",
        "    return x[0]\n",
        "\n",
        "print(sorted(l))\n",
        "print(sorted(l, key=f2))\n",
        "print(sorted(l, key=lambda x:x[0]))\n",
        "\n",
        "# 3. 중앙에 위치한 값대로 정렬해주세요.\n",
        "\n",
        "def f3(x):\n",
        "    return x[1]\n",
        "\n",
        "print(sorted(l))\n",
        "print(sorted(l, key=f3))\n",
        "print(sorted(l, key=lambda x:x[1]))\n",
        "\n",
        "l = [[1, 10, 32], \n",
        "     [20, 30, 11], \n",
        "     [10, 20, 22], \n",
        "     [1, 2, 13], \n",
        "     [55, 11, 44]]\n",
        "\n",
        "\n",
        "# 4. 3개의 전체 합이 작은 순서대로 출력해주세요.\n",
        "\n",
        "def f4(x):\n",
        "    return x[0] + x[1] + x[2]\n",
        "\n",
        "def f5(x):\n",
        "    return sum(x)\n",
        "\n",
        "print(sorted(l, key=f4))\n",
        "print(sorted(l, key=f5))\n",
        "print(sorted(l, key=lambda x: sum(x)))\n",
        "print(sorted(l, key=sum))"
      ],
      "metadata": {
        "id": "LdGKrKgNNgS5"
      },
      "execution_count": null,
      "outputs": []
    },
    {
      "cell_type": "code",
      "source": [
        "#\n",
        "#\n",
        "\n",
        "point = [1, 3, 4, 8, 13, 17, 20]\n",
        "point[1:]\n",
        "\n",
        "[1, 3, 4, 8, 13, 17, 20]\n",
        "[3, 4, 8, 13, 17, 20]"
      ],
      "metadata": {
        "colab": {
          "base_uri": "https://localhost:8080/"
        },
        "id": "14BVW_z2OFmQ",
        "outputId": "6fb93f15-7cbb-410e-d7ac-a54169575bf7"
      },
      "execution_count": null,
      "outputs": [
        {
          "output_type": "execute_result",
          "data": {
            "text/plain": [
              "[3, 4, 8, 13, 17, 20]"
            ]
          },
          "metadata": {},
          "execution_count": 36
        }
      ]
    },
    {
      "cell_type": "code",
      "source": [
        "list(zip('hello', 'world'))"
      ],
      "metadata": {
        "colab": {
          "base_uri": "https://localhost:8080/"
        },
        "id": "UQduAoAjOaAR",
        "outputId": "14bb9164-ec71-4778-df02-76968016a602"
      },
      "execution_count": null,
      "outputs": [
        {
          "output_type": "execute_result",
          "data": {
            "text/plain": [
              "[('h', 'w'), ('e', 'o'), ('l', 'r'), ('l', 'l'), ('o', 'd')]"
            ]
          },
          "metadata": {},
          "execution_count": 39
        }
      ]
    },
    {
      "cell_type": "code",
      "source": [
        "# https://codingdojang.com/scode/408?answer_mode=hide\n",
        "# 좌표 평면 문제가 나오면 차원 축소나 차원 확대가 가능한 문제인지 확인\n",
        "\n",
        "point = [1, 3, 4, 8, 13, 17, 20]\n",
        "point[1:]\n",
        "\n",
        "[1, 3, 4, 8, 13, 17, 20]\n",
        "[3, 4, 8, 13, 17, 20]"
      ],
      "metadata": {
        "id": "PUEjOPYsPEhB",
        "colab": {
          "base_uri": "https://localhost:8080/"
        },
        "outputId": "ba2e3543-ebb1-4c36-f4e8-86fdf253a2ca"
      },
      "execution_count": null,
      "outputs": [
        {
          "output_type": "execute_result",
          "data": {
            "text/plain": [
              "[3, 4, 8, 13, 17, 20]"
            ]
          },
          "metadata": {},
          "execution_count": 42
        }
      ]
    },
    {
      "cell_type": "code",
      "source": [
        "# list(zip(point, point[1:]))\n",
        "\n",
        "# 다음 문제를 풀어보세요\n",
        "\n",
        "def f(x):\n",
        "    return x[1] - x[0]\n",
        "\n",
        "sorted(zip(point, point[1:]), key=f)[0]"
      ],
      "metadata": {
        "colab": {
          "base_uri": "https://localhost:8080/"
        },
        "id": "8k7diEwYOnUz",
        "outputId": "1593e1ed-c48a-4c73-a784-58c1fbbe8e2b"
      },
      "execution_count": null,
      "outputs": [
        {
          "output_type": "execute_result",
          "data": {
            "text/plain": [
              "(3, 4)"
            ]
          },
          "metadata": {},
          "execution_count": 47
        }
      ]
    },
    {
      "cell_type": "code",
      "source": [
        "def f(x):\n",
        "    return x[1] - x[0]\n",
        "\n",
        "sorted(zip(point, point[1:]), key=lambda x:x[1] - x[0])[0]"
      ],
      "metadata": {
        "colab": {
          "base_uri": "https://localhost:8080/"
        },
        "id": "j9P3HzHxR8ux",
        "outputId": "39e174cd-539c-48e8-ec03-9f19e1ee9d5d"
      },
      "execution_count": null,
      "outputs": [
        {
          "output_type": "execute_result",
          "data": {
            "text/plain": [
              "(3, 4)"
            ]
          },
          "metadata": {},
          "execution_count": 49
        }
      ]
    },
    {
      "cell_type": "code",
      "source": [
        "# https://school.programmers.co.kr/learn/courses/30/lessons/120835\n",
        "# 응급도\n",
        "# [3, 76, 24]\n",
        "# 우선순위\n",
        "# [3, 1, 2]\n",
        "\n",
        "l = [3, 76, 24]\n",
        "정렬된값 = sorted(l, reverse=True)\n",
        "정렬된값 # [76, 24, 3]\n",
        "# 우리가 원하는 값 [2, 0, 1]\n",
        "\n",
        "결과값 = [\n",
        "            정렬된값.index(l[0]), \n",
        "            정렬된값.index(l[1]), \n",
        "            정렬된값.index(l[2])\n",
        "        ]\n",
        "결과값"
      ],
      "metadata": {
        "colab": {
          "base_uri": "https://localhost:8080/"
        },
        "id": "4ozC5lrvTyRW",
        "outputId": "d38e57cf-b841-49cd-e2cf-74a65b2112ce"
      },
      "execution_count": null,
      "outputs": [
        {
          "output_type": "execute_result",
          "data": {
            "text/plain": [
              "[2, 0, 1]"
            ]
          },
          "metadata": {},
          "execution_count": 48
        }
      ]
    },
    {
      "cell_type": "markdown",
      "source": [
        "#깊은 복사와 얕은 복사"
      ],
      "metadata": {
        "id": "mRlHmGedP-wZ"
      }
    },
    {
      "cell_type": "code",
      "source": [
        "# 아무런 복사도 이뤄지지 않은 상태\n",
        "l = [[1000, 2000, 3000], [4000, 5000, 6000]]\n",
        "ll = l\n",
        "ll[0][0] = 10\n",
        "l, ll"
      ],
      "metadata": {
        "colab": {
          "base_uri": "https://localhost:8080/"
        },
        "id": "bD70z_FWWOkG",
        "outputId": "daa7775d-42c3-4d0d-8034-b538e49b9c62"
      },
      "execution_count": null,
      "outputs": [
        {
          "output_type": "execute_result",
          "data": {
            "text/plain": [
              "([[10, 2000, 3000], [4000, 5000, 6000]],\n",
              " [[10, 2000, 3000], [4000, 5000, 6000]])"
            ]
          },
          "metadata": {},
          "execution_count": 49
        }
      ]
    },
    {
      "cell_type": "code",
      "source": [
        "l = [1000, 2000, 3000, 1000, 1000, 1000]\n",
        "id(l[0]), id(l[3]), id(l[4]), id(l[5])"
      ],
      "metadata": {
        "colab": {
          "base_uri": "https://localhost:8080/"
        },
        "id": "6yW4TgnIYNaa",
        "outputId": "79a63c63-05b0-48e5-bdcd-b8784cf6ba89"
      },
      "execution_count": null,
      "outputs": [
        {
          "output_type": "execute_result",
          "data": {
            "text/plain": [
              "(140016297572464, 140016297572464, 140016297572464, 140016297572464)"
            ]
          },
          "metadata": {},
          "execution_count": 62
        }
      ]
    },
    {
      "cell_type": "code",
      "source": [
        "for i, j, k in [[10, 20, [1, 2]], [30, 40, [3, 4]], [50, 60, [5, 6]]]:\n",
        "    print(i, j, k)"
      ],
      "metadata": {
        "colab": {
          "base_uri": "https://localhost:8080/"
        },
        "id": "dhWZJjetcY0z",
        "outputId": "996bb8ab-ae2a-46b2-d32e-0e74a9608205"
      },
      "execution_count": null,
      "outputs": [
        {
          "output_type": "stream",
          "name": "stdout",
          "text": [
            "10 20 [1, 2]\n",
            "30 40 [3, 4]\n",
            "50 60 [5, 6]\n"
          ]
        }
      ]
    },
    {
      "cell_type": "code",
      "source": [
        "my_name = \"홍길동\"\n",
        "\n",
        "print(\"안녕하세요.\",  my_name + \"입니다\")"
      ],
      "metadata": {
        "colab": {
          "base_uri": "https://localhost:8080/"
        },
        "id": "kQ0sWXxUhq4T",
        "outputId": "33c61a92-bf62-4eb4-c131-8f85e668c8c6"
      },
      "execution_count": null,
      "outputs": [
        {
          "output_type": "stream",
          "name": "stdout",
          "text": [
            "안녕하세요. 홍길동 입니다\n"
          ]
        }
      ]
    },
    {
      "cell_type": "code",
      "source": [
        "def f(x):\n",
        "    return d[x]\n",
        "\n",
        "for i in d:\n",
        "    print(f(i))"
      ],
      "metadata": {
        "colab": {
          "base_uri": "https://localhost:8080/"
        },
        "id": "DqJzZswYgO7-",
        "outputId": "1219cd1a-d731-4df9-ee0e-cec8bc181b25"
      },
      "execution_count": null,
      "outputs": [
        {
          "output_type": "stream",
          "name": "stdout",
          "text": [
            "10\n",
            "20\n",
            "31\n",
            "11\n"
          ]
        }
      ]
    },
    {
      "cell_type": "code",
      "source": [
        "# 얕은 복사 = copy or f[:] 슬라이싱싱\n",
        "l = [1000, 2000, 3000, 4000, 5000, 6000]\n",
        "ll = l.copy()\n",
        "ll[0] = 10\n",
        "l, ll"
      ],
      "metadata": {
        "id": "ugjxutc9Wxpc",
        "outputId": "de7f2d8f-679b-4031-de44-26e4b487f57a",
        "colab": {
          "base_uri": "https://localhost:8080/"
        }
      },
      "execution_count": null,
      "outputs": [
        {
          "output_type": "execute_result",
          "data": {
            "text/plain": [
              "([1000, 2000, 3000, 4000, 5000, 6000], [10, 2000, 3000, 4000, 5000, 6000])"
            ]
          },
          "metadata": {},
          "execution_count": 79
        }
      ]
    },
    {
      "cell_type": "code",
      "source": [
        "# 얕은 복사\n",
        "l = [1000, 2000, 3000, 4000, 5000, 6000]\n",
        "ll = l.copy()\n",
        "id(l[0]), id(ll[0]) # 같은 값이 나오니까 같은 객체를 가리키고 있다?"
      ],
      "metadata": {
        "colab": {
          "base_uri": "https://localhost:8080/"
        },
        "id": "7gRC6nd9X2rS",
        "outputId": "62247c7f-6cb8-4e71-bb36-916a89d91948"
      },
      "execution_count": null,
      "outputs": [
        {
          "output_type": "execute_result",
          "data": {
            "text/plain": [
              "(139907313112368, 139907313112368)"
            ]
          },
          "metadata": {},
          "execution_count": 52
        }
      ]
    },
    {
      "cell_type": "code",
      "source": [
        "# 얕은 복사\n",
        "l = [1000, 2000, 3000, 4000, 5000, 6000]\n",
        "ll = l.copy()\n",
        "id(l), id(ll) # 같은 값이 나오니까 같은 객체를 가리키고 있다?"
      ],
      "metadata": {
        "id": "SqupeGK_W333",
        "outputId": "dd70c719-e840-4edd-d856-d6be9a21e35b",
        "colab": {
          "base_uri": "https://localhost:8080/"
        }
      },
      "execution_count": null,
      "outputs": [
        {
          "output_type": "execute_result",
          "data": {
            "text/plain": [
              "(139908161482944, 139907313009408)"
            ]
          },
          "metadata": {},
          "execution_count": 53
        }
      ]
    },
    {
      "cell_type": "code",
      "source": [
        "# 얕은 복사\n",
        "l = [[1, 2, 3], [4, 5, 6]]\n",
        "ll = l.copy()\n",
        "ll[0][0] = 10\n",
        "l, ll\n",
        "\n"
      ],
      "metadata": {
        "colab": {
          "base_uri": "https://localhost:8080/"
        },
        "id": "VlSWUEHoYkT5",
        "outputId": "ea149e38-a623-4832-a29c-d9e49a6f00f9"
      },
      "execution_count": null,
      "outputs": [
        {
          "output_type": "execute_result",
          "data": {
            "text/plain": [
              "([[10, 2, 3], [4, 5, 6]], [[10, 2, 3], [4, 5, 6]])"
            ]
          },
          "metadata": {},
          "execution_count": 64
        }
      ]
    },
    {
      "cell_type": "code",
      "source": [
        "id(l[0]), id(ll[0])\n",
        "# 얕은복사는 원 뎁스만 복사한다 l[0]\n",
        "# 깊은복사는 끝까지 다"
      ],
      "metadata": {
        "colab": {
          "base_uri": "https://localhost:8080/"
        },
        "id": "7BFtO6PsYrVc",
        "outputId": "1dea6277-6827-4e2d-bba1-e2bfb13a1088"
      },
      "execution_count": null,
      "outputs": [
        {
          "output_type": "execute_result",
          "data": {
            "text/plain": [
              "(140016295551232, 140016295551232)"
            ]
          },
          "metadata": {},
          "execution_count": 67
        }
      ]
    },
    {
      "cell_type": "code",
      "source": [
        "# 얕은 복사\n",
        "l = [[1, 2, 3], [4, 5, 6]]\n",
        "ll = l.copy()\n",
        "ll[0] = 100\n",
        "l, ll"
      ],
      "metadata": {
        "colab": {
          "base_uri": "https://localhost:8080/"
        },
        "id": "8MgHPzlhY3dv",
        "outputId": "82d5af8b-c46d-42db-e0af-887b7f19d7f4"
      },
      "execution_count": null,
      "outputs": [
        {
          "output_type": "execute_result",
          "data": {
            "text/plain": [
              "([[1, 2, 3], [4, 5, 6]], [100, [4, 5, 6]])"
            ]
          },
          "metadata": {},
          "execution_count": 68
        }
      ]
    },
    {
      "cell_type": "markdown",
      "source": [
        "*l = ll == 복제(같은 id값을 가리킴)\n",
        "\n",
        "*l = l.copy == 1차원 요소값만 복제\n",
        "\n",
        "*예를 들어 l[0] 을 바꿀 경우 ll은 변하지 않지만,\n",
        "\n",
        "*l[0][0] 을 바꿀 경우 ll 도 변함 (2차원 요소값은 같은 id이기 때문)\n",
        "\n",
        "*l = l.copy.deepcopy() 는 전체 복사라서 어떤 차원의 값을 변경해도 다른 리스트에 영향을 주지 않음"
      ],
      "metadata": {
        "id": "aYjrHDE3zYBX"
      }
    },
    {
      "cell_type": "code",
      "source": [],
      "metadata": {
        "id": "lGlc7JJHzgp6"
      },
      "execution_count": null,
      "outputs": []
    },
    {
      "cell_type": "code",
      "source": [
        "# 깊은 복사\n",
        "import copy\n",
        "\n",
        "l = [[1000, 2000, 3000], [4000, 5000, 6000]]\n",
        "ll = copy.deepcopy(l)\n",
        "ll[0][0] = 10\n",
        "l, ll\n",
        "\n"
      ],
      "metadata": {
        "colab": {
          "base_uri": "https://localhost:8080/"
        },
        "id": "c_GC3_W-ZCQB",
        "outputId": "793671dc-b1fe-42c6-e3ea-37807dd24afa"
      },
      "execution_count": null,
      "outputs": [
        {
          "output_type": "execute_result",
          "data": {
            "text/plain": [
              "([[1000, 2000, 3000], [4000, 5000, 6000]],\n",
              " [[10, 2000, 3000], [4000, 5000, 6000]])"
            ]
          },
          "metadata": {},
          "execution_count": 61
        }
      ]
    },
    {
      "cell_type": "code",
      "source": [
        "# id(l), id(ll)\n",
        "# id(l[0]), id(ll[0])\n",
        "# id(l[0][0]), id(ll[0][0])"
      ],
      "metadata": {
        "colab": {
          "base_uri": "https://localhost:8080/"
        },
        "id": "gzXoOgqnZd8P",
        "outputId": "6cbd2739-b599-466d-9fd9-6ca4f8477200"
      },
      "execution_count": null,
      "outputs": [
        {
          "output_type": "execute_result",
          "data": {
            "text/plain": [
              "(139907313110416, 139908561011216)"
            ]
          },
          "metadata": {},
          "execution_count": 64
        }
      ]
    },
    {
      "cell_type": "code",
      "source": [
        "# 깊은 복사\n",
        "import copy\n",
        "\n",
        "l = [[1, 2, [4, 5, 6]]\n",
        "ll = copy.deepcopy(l)\n",
        "ll[0][0] = 10"
      ],
      "metadata": {
        "id": "fqkzRt0SZrh4"
      },
      "execution_count": null,
      "outputs": []
    },
    {
      "cell_type": "markdown",
      "source": [
        "* 얕은 복사는 1 계층만 복사합니다.\n",
        "* 깊은 복사는 n 계층까지 모두 복사합니다."
      ],
      "metadata": {
        "id": "N0kZXyDuaJf4"
      }
    },
    {
      "cell_type": "markdown",
      "source": [
        "* 나를 이해시키는 단 하나의 코드는 반드시 존재한다."
      ],
      "metadata": {
        "id": "PFglCItrai12"
      }
    },
    {
      "cell_type": "code",
      "source": [
        "# 얕은 복사\n",
        "l = [[1, 2, 3], [4, 5, 6]]\n",
        "ll = l[:]\n",
        "l[0] = 100  #l[0][0] 이어야함\n",
        "l, ll"
      ],
      "metadata": {
        "colab": {
          "base_uri": "https://localhost:8080/"
        },
        "id": "hO-vUd9Ma4og",
        "outputId": "e539505b-a408-430d-fa33-1f1a5dfa4216"
      },
      "execution_count": null,
      "outputs": [
        {
          "output_type": "execute_result",
          "data": {
            "text/plain": [
              "([100, [4, 5, 6]], [[1, 2, 3], [4, 5, 6]])"
            ]
          },
          "metadata": {},
          "execution_count": 72
        }
      ]
    },
    {
      "cell_type": "code",
      "source": [
        "# 얕은 복사\n",
        "l = [[1, 2, 3], [4, 5, 6]]\n",
        "ll = l[:] # l.copy를 써도 마찬가지 입니다.\n",
        "l[0][0] = 100  \n",
        "l, ll"
      ],
      "metadata": {
        "colab": {
          "base_uri": "https://localhost:8080/"
        },
        "id": "pifti_pMbWRV",
        "outputId": "a78b6a88-1937-4b6b-d3e4-7ea1ae2982b0"
      },
      "execution_count": null,
      "outputs": [
        {
          "output_type": "execute_result",
          "data": {
            "text/plain": [
              "([[100, 2, 3], [4, 5, 6]], [[100, 2, 3], [4, 5, 6]])"
            ]
          },
          "metadata": {},
          "execution_count": 74
        }
      ]
    },
    {
      "cell_type": "code",
      "source": [
        "# 얕은 복사\n",
        "# 리스트 컴프리헨션은 안배운 내용이니 keep해두시고\n",
        "# for문 배운다음에 다시 오셔서 복습해라\n",
        "\n",
        "l = [[1, 2, 3], [4, 5, 6]]\n",
        "ll = [i for i in l] # [[1, 2, 3], [4, 5, 6]]\n",
        "l[0][0] = 100  \n",
        "l, ll"
      ],
      "metadata": {
        "colab": {
          "base_uri": "https://localhost:8080/"
        },
        "id": "iARE-o2mbcJL",
        "outputId": "8164af6a-f4fb-425f-85ae-1e0219ea0bc2"
      },
      "execution_count": null,
      "outputs": [
        {
          "output_type": "execute_result",
          "data": {
            "text/plain": [
              "([[100, 2, 3], [4, 5, 6]], [[100, 2, 3], [4, 5, 6]])"
            ]
          },
          "metadata": {},
          "execution_count": 75
        }
      ]
    },
    {
      "cell_type": "code",
      "source": [
        "# 1단계 깊은 복사\n",
        "# 리스트 컴프리헨션은 안배운 내용이니 keep해두시고\n",
        "# for문 배운다음에 다시 오셔서 복습해라\n",
        "\n",
        "l = [[1, 2, 3], [4, 5, 6]]\n",
        "ll = [i[:] for i in l] # 얕은복사가 깊은복사가됨..?\n",
        "l[0][0] = 100  \n",
        "l, ll"
      ],
      "metadata": {
        "colab": {
          "base_uri": "https://localhost:8080/"
        },
        "id": "1s3Way7VbwOW",
        "outputId": "5de70f26-05e1-4528-c7b9-40f1f8fea921"
      },
      "execution_count": null,
      "outputs": [
        {
          "output_type": "execute_result",
          "data": {
            "text/plain": [
              "([[100, 2, 3], [4, 5, 6]], [[1, 2, 3], [4, 5, 6]])"
            ]
          },
          "metadata": {},
          "execution_count": 76
        }
      ]
    },
    {
      "cell_type": "markdown",
      "source": [
        "# 다차원 리스트"
      ],
      "metadata": {
        "id": "1rNiwo6RcceY"
      }
    },
    {
      "cell_type": "code",
      "source": [
        "a = [[1, 2, 3],\n",
        "     [11, 22, 33], \n",
        "     ['gony', 20, 30]]\n",
        "\n",
        "# 문제: jun만 뽑아주세요\n",
        "\n",
        "a[2][0][:2]\n",
        "# print(a[2][0][5]), (a[2][0][6]), (a[2][0][7]), sep='')"
      ],
      "metadata": {
        "colab": {
          "base_uri": "https://localhost:8080/",
          "height": 35
        },
        "id": "_q3SCHv5cb9E",
        "outputId": "6fda5c7b-21ae-4dca-ac5d-2f88f3238b15"
      },
      "execution_count": null,
      "outputs": [
        {
          "output_type": "execute_result",
          "data": {
            "text/plain": [
              "'go'"
            ],
            "application/vnd.google.colaboratory.intrinsic+json": {
              "type": "string"
            }
          },
          "metadata": {},
          "execution_count": 66
        }
      ]
    },
    {
      "cell_type": "markdown",
      "source": [
        "# 리스트에서 bulit-in function을 활용용"
      ],
      "metadata": {
        "id": "Y4G2v_dihFsH"
      }
    },
    {
      "cell_type": "markdown",
      "source": [
        "* 알아야 하는 빌트인 funtion\n",
        "\n",
        "A\n",
        "abs()\n",
        "all()\n",
        "any()\n",
        "\n",
        "B\n",
        "bin()\n",
        "bool()\n",
        "\n",
        "C\n",
        "chr()\n",
        "\n",
        "D\n",
        "dict()\n",
        "dir()\n",
        "\n",
        "E\n",
        "enumerate()\n",
        "eval()\n",
        "\n",
        "F\n",
        "filter()\n",
        "float()\n",
        "\n",
        "G\n",
        "globals()\n",
        "\n",
        "H\n",
        "help()\n",
        "hex()\n",
        "\n",
        "I\n",
        "id()\n",
        "input()\n",
        "int()\n",
        "isinstance()\n",
        "issubclass()\n",
        "iter()\n",
        "\n",
        "L\n",
        "len()\n",
        "list()\n",
        "locals()\n",
        "\n",
        "M\n",
        "map()\n",
        "max()\n",
        "min()\n",
        "\n",
        "N\n",
        "next()\n",
        "\n",
        "O\n",
        "object()\n",
        "oct()\n",
        "open()\n",
        "ord()\n",
        "\n",
        "P\n",
        "pow()\n",
        "print()\n",
        "property()\n",
        "\n",
        "\n",
        "\n",
        "\n",
        "R\n",
        "range()\n",
        "repr()\n",
        "reversed()\n",
        "round()\n",
        "\n",
        "S\n",
        "set()\n",
        "setattr()\n",
        "slice()\n",
        "sorted()\n",
        "staticmethod()\n",
        "str()\n",
        "sum()\n",
        "super()\n",
        "\n",
        "T\n",
        "tuple()\n",
        "type()\n",
        "\n",
        "V\n",
        "vars()\n",
        "\n",
        "Z\n",
        "zip()"
      ],
      "metadata": {
        "id": "Q9-ERaqcg9YR"
      }
    },
    {
      "cell_type": "code",
      "source": [
        "a = [1, 2, 3, 4, 5, 6, 7, 8]\n",
        "print(max(a)) #최댓값\n",
        "print(min(a)) #최솟값\n",
        "print(sum(a)) #전체값의 합"
      ],
      "metadata": {
        "colab": {
          "base_uri": "https://localhost:8080/"
        },
        "id": "hPyq9wTEg9DX",
        "outputId": "11dba0b7-e3ea-425e-be87-eb6afae3fae5"
      },
      "execution_count": null,
      "outputs": [
        {
          "output_type": "stream",
          "name": "stdout",
          "text": [
            "8\n",
            "1\n",
            "36\n"
          ]
        }
      ]
    },
    {
      "cell_type": "code",
      "source": [
        "#2차원\n",
        "a = [[1, 2, 3, 'a'],\n",
        "     [11, 22, 33, 'aaa'],\n",
        "     [10, 2000, 30, 'aa']]\n",
        "max(a) # 2000을 뽑는게 아니라 [10, 2000, 30] 을 뽑아냄\n",
        "\n",
        "max(a, key=lambda x:x[1])\n",
        "min(a, key=lambda x:len(x[3]))\n",
        "# sum(a) error\n",
        "# sum(a, [])"
      ],
      "metadata": {
        "colab": {
          "base_uri": "https://localhost:8080/"
        },
        "id": "n7W4kFQMh1jk",
        "outputId": "2a4917fd-6acb-42aa-d0c8-70545060389b"
      },
      "execution_count": null,
      "outputs": [
        {
          "output_type": "execute_result",
          "data": {
            "text/plain": [
              "[1, 2, 3, 'a']"
            ]
          },
          "metadata": {},
          "execution_count": 86
        }
      ]
    },
    {
      "cell_type": "code",
      "source": [
        "# 이름, 별점, 객실수, 가격격\n",
        "호텔 = [\n",
        "     ['이스트소프트 호텔', 5, 100, 155000],\n",
        "     ['삼스트소프트 호텔', 4, 80, 145000],\n",
        "     ['사스트소프트 호텔', 3, 70, 135000],\n",
        "]\n",
        "max(호텔, key=lambda x:x[3]) #가장 가격이 높은 것을 뽑아낼 수 있음\n",
        "min(호텔, key=lambda x:x[3]) #가장 가격이 낮은 것을 뽑아낼 수 있음\n",
        "     # 마지막에 콤마를 허락하는 언어는 제한적 (특히 JSON에서는 )"
      ],
      "metadata": {
        "colab": {
          "base_uri": "https://localhost:8080/"
        },
        "id": "BzJ6PekjiYAZ",
        "outputId": "c78393c7-6726-45f6-f111-0fda2aeb7aa5"
      },
      "execution_count": null,
      "outputs": [
        {
          "output_type": "execute_result",
          "data": {
            "text/plain": [
              "['사스트소프트 호텔', 3, 70, 135000]"
            ]
          },
          "metadata": {},
          "execution_count": 88
        }
      ]
    },
    {
      "cell_type": "code",
      "source": [
        "[\n",
        "  {\n",
        "    \"_id\": \"645316963157fe0876df24b8\",\n",
        "    \"index\": 0,\n",
        "    \"age\": 23,\n",
        "    \"name\": \"Angelia Booker\",\n",
        "    \"gender\": \"female\"\n",
        "  },\n",
        "  {\n",
        "    \"_id\": \"645316966fa34f32345e9637\",\n",
        "    \"index\": 1,\n",
        "    \"age\": 36,\n",
        "    \"name\": \"Moreno Stone\",\n",
        "    \"gender\": \"male\"\n",
        "  },\n",
        "  {\n",
        "    \"_id\": \"64531696adf661cb6ce7b5d4\",\n",
        "    \"index\": 2,\n",
        "    \"age\": 31,\n",
        "    \"name\": \"Perry Mccullough\",\n",
        "    \"gender\": \"male\"\n",
        "  }\n",
        "]\n",
        "\n",
        "# 여기서 나이 젤 많은사람 추출해보쟝!"
      ],
      "metadata": {
        "id": "9TBQBx7okHEb"
      },
      "execution_count": null,
      "outputs": []
    },
    {
      "cell_type": "markdown",
      "source": [
        "# 리스트의 순회"
      ],
      "metadata": {
        "id": "L8mr7eUzkbYi"
      }
    },
    {
      "cell_type": "code",
      "source": [
        "#1차원\n",
        "a = [1, 2, 3, 4, 5, 6, 7, 8]\n",
        "\n",
        "for i in a: # for 변수 in 순회가능한객체\n",
        "     print(i)"
      ],
      "metadata": {
        "colab": {
          "base_uri": "https://localhost:8080/"
        },
        "id": "-P5d0-gXkLQW",
        "outputId": "5b9e700b-4a54-4c81-f559-1653611d2fb8"
      },
      "execution_count": null,
      "outputs": [
        {
          "output_type": "stream",
          "name": "stdout",
          "text": [
            "1\n",
            "2\n",
            "3\n",
            "4\n",
            "5\n",
            "6\n",
            "7\n",
            "8\n"
          ]
        }
      ]
    },
    {
      "cell_type": "code",
      "source": [
        "#2차원\n",
        "a = [[1, 2, 3], [11, 22, 33], [13, 20000,30000]]\n",
        "\n",
        "for i in a: # for 변수 in 순회가능한객체\n",
        "     print(i)\n",
        "     print('---')\n",
        "print('end')"
      ],
      "metadata": {
        "colab": {
          "base_uri": "https://localhost:8080/"
        },
        "id": "9s6YIDy2k45F",
        "outputId": "3da37486-e91b-49b1-ddc8-a4cc23efc07a"
      },
      "execution_count": null,
      "outputs": [
        {
          "output_type": "stream",
          "name": "stdout",
          "text": [
            "[1, 2, 3]\n",
            "---\n",
            "[11, 22, 33]\n",
            "---\n",
            "[13, 20000, 30000]\n",
            "---\n",
            "end\n"
          ]
        }
      ]
    },
    {
      "cell_type": "code",
      "source": [
        "#2차원\n",
        "a = [[1, 2, 3], [11, 22, 33], [13, 20000,30000]]\n",
        "\n",
        "for i in a: # for 변수 in 순회가능한객체\n",
        "    for j in i:\n",
        "     print(j)\n",
        "     print('---')\n",
        "print('end')"
      ],
      "metadata": {
        "colab": {
          "base_uri": "https://localhost:8080/"
        },
        "id": "7_2gnWM0lV6w",
        "outputId": "b207fb15-0c28-4a44-95c1-a7166983e989"
      },
      "execution_count": null,
      "outputs": [
        {
          "output_type": "stream",
          "name": "stdout",
          "text": [
            "1\n",
            "---\n",
            "2\n",
            "---\n",
            "3\n",
            "---\n",
            "11\n",
            "---\n",
            "22\n",
            "---\n",
            "33\n",
            "---\n",
            "13\n",
            "---\n",
            "20000\n",
            "---\n",
            "30000\n",
            "---\n",
            "end\n"
          ]
        }
      ]
    },
    {
      "cell_type": "markdown",
      "source": [
        "#range"
      ],
      "metadata": {
        "id": "5ef3s45GnVIF"
      }
    },
    {
      "cell_type": "code",
      "source": [
        "# range(start, stop, step)\n",
        "# 슬라이싱과 같은 규칙\n",
        "# 슬라이싱은 ':'(콜론)으로 연결되어 있고\n",
        "# range는 ','(콤마)로 연결되어 있습니다.\n",
        "\n",
        "print(list(range(100)))\n",
        "# python 2.x에서 python 3.x에 range를 사용하고 xrange를 사용\n",
        "print(list(range(5, 10)))\n",
        "\n",
        "print(list(range(0, 101, 2))) #짝수\n",
        "print(sum(list(range(0, 101)))) #0부터 100까지의 합을 구하라 이게 맞을까? \n",
        "print(sum(range(0, 101))) #0부터 100까지의 합을 구하라 이게 맞을까?  리소스 낭비로 list 제거"
      ],
      "metadata": {
        "colab": {
          "base_uri": "https://localhost:8080/"
        },
        "id": "kHO7ZkdbnNx_",
        "outputId": "84a1c94f-9766-4ab7-f056-5d466ca176d5"
      },
      "execution_count": null,
      "outputs": [
        {
          "output_type": "stream",
          "name": "stdout",
          "text": [
            "[0, 1, 2, 3, 4, 5, 6, 7, 8, 9, 10, 11, 12, 13, 14, 15, 16, 17, 18, 19, 20, 21, 22, 23, 24, 25, 26, 27, 28, 29, 30, 31, 32, 33, 34, 35, 36, 37, 38, 39, 40, 41, 42, 43, 44, 45, 46, 47, 48, 49, 50, 51, 52, 53, 54, 55, 56, 57, 58, 59, 60, 61, 62, 63, 64, 65, 66, 67, 68, 69, 70, 71, 72, 73, 74, 75, 76, 77, 78, 79, 80, 81, 82, 83, 84, 85, 86, 87, 88, 89, 90, 91, 92, 93, 94, 95, 96, 97, 98, 99]\n",
            "[5, 6, 7, 8, 9]\n",
            "[0, 2, 4, 6, 8, 10, 12, 14, 16, 18, 20, 22, 24, 26, 28, 30, 32, 34, 36, 38, 40, 42, 44, 46, 48, 50, 52, 54, 56, 58, 60, 62, 64, 66, 68, 70, 72, 74, 76, 78, 80, 82, 84, 86, 88, 90, 92, 94, 96, 98, 100]\n",
            "5050\n",
            "5050\n"
          ]
        }
      ]
    },
    {
      "cell_type": "code",
      "source": [
        "# range(start, stop, step) \n",
        "# 슬라이싱과 같은 규칙\n",
        "# 슬라이싱은 ':'(콜론)으로 연결되어 있고\n",
        "# range는 ','(콤마)로 연결되어 있습니다.\n",
        "\n",
        "print(list(range(100))) \n",
        "# python 2.x에서 python 3.x에 range를 사용하고 싶다면 xrange(10)\n",
        "print(list(range(5, 10)))\n",
        "\n",
        "print(list(range(0, 101, 2))) #짝수\n",
        "print(list(range(1, 101, 2))) #홀수\n",
        "print(list(range(100, 1, -2)))\n",
        "print(sum(list(range(0, 101))))\n",
        "print(sum(range(0, 101))) # 이렇게 형 변환을 하지 않고 sum하시는 것을 권합니다."
      ],
      "metadata": {
        "id": "oajPIfQppLD5"
      },
      "execution_count": null,
      "outputs": []
    },
    {
      "cell_type": "markdown",
      "source": [
        "## list comprehension"
      ],
      "metadata": {
        "id": "h3Eco7xjpTo-"
      }
    },
    {
      "cell_type": "code",
      "source": [
        "# l = [1, 2, 3, 4, ...]\n",
        "# list(range(1, 101)) # 이게 젤 편하지만 제곱을 표현하고 싶다면 아래 껄로\n",
        "l = []\n",
        "for i in range(1, 101):\n",
        "    l.append(i)\n",
        "l"
      ],
      "metadata": {
        "id": "76IHV5sDpnYh"
      },
      "execution_count": null,
      "outputs": []
    },
    {
      "cell_type": "code",
      "source": [
        "# l = []\n",
        "# for i in range(1, 11):\n",
        "#     l.append(i**i)\n",
        "# l\n",
        "# 리스트 컴프리헨션을 사용하자 가독성도 좋고 빠름\n",
        "l = [i**i for i in range(1, 11)]\n",
        "l\n",
        "\n",
        "l = [i for i in range(1, 11)]\n",
        "l"
      ],
      "metadata": {
        "colab": {
          "base_uri": "https://localhost:8080/"
        },
        "id": "Jvui8M3xp-oI",
        "outputId": "c9d4cff7-30d2-4e69-e114-122b7bfc27d5"
      },
      "execution_count": null,
      "outputs": [
        {
          "output_type": "execute_result",
          "data": {
            "text/plain": [
              "[1, 2, 3, 4, 5, 6, 7, 8, 9, 10]"
            ]
          },
          "metadata": {},
          "execution_count": 104
        }
      ]
    },
    {
      "cell_type": "code",
      "source": [
        "l = []\n",
        "for i in range(1, 100):\n",
        "    if i %3 == 0 or i %5 == 0:\n",
        "        l.append(i)\n",
        "\n",
        "[i for i in range(1, 100) if i %3 == 0 or i %5 == 0]"
      ],
      "metadata": {
        "id": "8DEtfu8wquqS"
      },
      "execution_count": null,
      "outputs": []
    },
    {
      "cell_type": "markdown",
      "source": [
        "## 튜플"
      ],
      "metadata": {
        "id": "21RLEswz9aU3"
      }
    },
    {
      "cell_type": "markdown",
      "source": [
        "- 튜플은 순서가 있는 시퀀스형 자료형입니다.\n",
        "- 참조값은 변경이 불가능(immutable) 합니다. # 값이 아니라 참조값임!\n",
        "- 다른 자료형을 입력할 수 있으며, 튜플 안에 튜플로 다차원의 튜플을 만드는 것도 가능합니다.\n",
        "- 값의 중복을 허락합니다."
      ],
      "metadata": {
        "id": "igiMpm9Z9hKD"
      }
    },
    {
      "cell_type": "code",
      "source": [
        "t = (10, 20, 30)\n",
        "t[1] = 1000"
      ],
      "metadata": {
        "id": "rPOw_uap9p0s"
      },
      "execution_count": null,
      "outputs": []
    },
    {
      "cell_type": "code",
      "source": [
        "l = [1, 2, 3]\n",
        "t = (l, 20, 30) # 불변인 것은 t가 l을 참조하고 있다는 것이 불변변\n",
        "l[0] = 1000\n",
        "l"
      ],
      "metadata": {
        "colab": {
          "base_uri": "https://localhost:8080/"
        },
        "id": "DvQHNNHj95Nu",
        "outputId": "03cb6ec9-c543-4cbc-959b-b5f868ff3e5a"
      },
      "execution_count": null,
      "outputs": [
        {
          "output_type": "execute_result",
          "data": {
            "text/plain": [
              "[1000, 2, 3]"
            ]
          },
          "metadata": {},
          "execution_count": 106
        }
      ]
    },
    {
      "cell_type": "code",
      "source": [
        "t = (10, 20, 30, 40, 50)\n",
        "# t[:3] #위에꺼랑 다름 슬라이싱하면 다른 객체임임"
      ],
      "metadata": {
        "colab": {
          "base_uri": "https://localhost:8080/"
        },
        "id": "kW0Cllp4-hK7",
        "outputId": "5b2aaecc-98d5-4fec-ca48-7f0cf9578605"
      },
      "execution_count": null,
      "outputs": [
        {
          "output_type": "execute_result",
          "data": {
            "text/plain": [
              "15"
            ]
          },
          "metadata": {},
          "execution_count": 69
        }
      ]
    },
    {
      "cell_type": "code",
      "source": [
        "type(t), dir(t)"
      ],
      "metadata": {
        "id": "xcw3TanO9bhW"
      },
      "execution_count": null,
      "outputs": []
    },
    {
      "cell_type": "code",
      "source": [
        "t = (10, 20, 30, 40, 50 ,20)\n",
        "t.index(20), t.count(20)"
      ],
      "metadata": {
        "colab": {
          "base_uri": "https://localhost:8080/"
        },
        "id": "OHYKPINe-v15",
        "outputId": "63ff9227-6dc2-4ed7-e836-29dd05f0a694"
      },
      "execution_count": null,
      "outputs": [
        {
          "output_type": "execute_result",
          "data": {
            "text/plain": [
              "(1, 2)"
            ]
          },
          "metadata": {},
          "execution_count": 111
        }
      ]
    },
    {
      "cell_type": "code",
      "source": [
        "t = tuple('gony')\n",
        "t\n",
        "t = tuple()\n",
        "t\n",
        "t = tuple(range(10))\n",
        "t\n",
        "t = (1)\n",
        "t\n",
        "t = (1,) #원소를 하나씩 넣고 싶을 때는 콤마(,)를 사용합니다\n",
        "t"
      ],
      "metadata": {
        "colab": {
          "base_uri": "https://localhost:8080/"
        },
        "id": "pype6AwA-3NX",
        "outputId": "c9bc77f6-06a3-4adc-d3ff-7a6c2fec7d62"
      },
      "execution_count": null,
      "outputs": [
        {
          "output_type": "execute_result",
          "data": {
            "text/plain": [
              "(1,)"
            ]
          },
          "metadata": {},
          "execution_count": 112
        }
      ]
    },
    {
      "cell_type": "markdown",
      "source": [
        "## 딕셔너리\n",
        "- 딕셔너리는 순서가 없는 자료형입니다.\n",
        "- 사전형은 Key와 Value 가 하나의 묶음으로 이루어진 자료 체계입니다.\n",
        "- 값의 변경이 가능합니다.\n",
        "- 다른 자료형을 입력할 수 있습니다.\n",
        "- 키의 중복은 허락하지 않고, 값의 중복을 허락합니다."
      ],
      "metadata": {
        "id": "ttpbqrK3_es0"
      }
    },
    {
      "cell_type": "code",
      "source": [
        "data = [{\n",
        "    '게시물 번호' : 1,\n",
        "    '게시자': '김권이',\n",
        "    '게시물 내용' : '......'\n",
        "},{\n",
        "    '게시물 번호' : 2,\n",
        "    '게시자': '김권삼',\n",
        "    '게시물 내용' : '......'\n",
        "},{\n",
        "    '게시물 번호' : 3,\n",
        "    '게시자': '김권사',\n",
        "    '게시물 내용' : '......'\n",
        "}]\n",
        "\n",
        "data[1]['게시자']"
      ],
      "metadata": {
        "colab": {
          "base_uri": "https://localhost:8080/",
          "height": 35
        },
        "id": "vmv6HT3zAIWY",
        "outputId": "eaf91edb-40ff-43d6-f536-99a64c370bea"
      },
      "execution_count": null,
      "outputs": [
        {
          "output_type": "execute_result",
          "data": {
            "text/plain": [
              "'김권삼'"
            ],
            "application/vnd.google.colaboratory.intrinsic+json": {
              "type": "string"
            }
          },
          "metadata": {},
          "execution_count": 114
        }
      ]
    },
    {
      "cell_type": "code",
      "source": [
        "d = {'one' : '하나', 'two' : '둘', 'three' : '셋'}\n",
        "d\n",
        "d['one']"
      ],
      "metadata": {
        "colab": {
          "base_uri": "https://localhost:8080/",
          "height": 35
        },
        "id": "Rw2U3NlpAwNs",
        "outputId": "27e6f041-8f6f-439c-f9be-587fc4a6a318"
      },
      "execution_count": null,
      "outputs": [
        {
          "output_type": "execute_result",
          "data": {
            "text/plain": [
              "'하나'"
            ],
            "application/vnd.google.colaboratory.intrinsic+json": {
              "type": "string"
            }
          },
          "metadata": {},
          "execution_count": 116
        }
      ]
    },
    {
      "cell_type": "code",
      "source": [
        "d['two'] = '투'\n",
        "d # 키는 중복되지 않음"
      ],
      "metadata": {
        "colab": {
          "base_uri": "https://localhost:8080/"
        },
        "id": "eeMCxMkeAzrC",
        "outputId": "8c497acb-a3a6-472e-9393-41dd6f450953"
      },
      "execution_count": null,
      "outputs": [
        {
          "output_type": "execute_result",
          "data": {
            "text/plain": [
              "{'one': '하나', 'two': '투', 'three': '셋'}"
            ]
          },
          "metadata": {},
          "execution_count": 119
        }
      ]
    },
    {
      "cell_type": "code",
      "source": [
        "d = {} #dict\n",
        "type(d)\n",
        "\n",
        "d = {10} #set\n",
        "type(d)\n",
        "\n",
        "d = dict()\n",
        "type(d)\n",
        "\n",
        "d = {'one' : 1}\n",
        "type(d)"
      ],
      "metadata": {
        "colab": {
          "base_uri": "https://localhost:8080/"
        },
        "id": "PP9CnVjSBRn2",
        "outputId": "76dd59fd-5ebc-4ac6-a6f4-9eb88a9db28d"
      },
      "execution_count": null,
      "outputs": [
        {
          "output_type": "execute_result",
          "data": {
            "text/plain": [
              "dict"
            ]
          },
          "metadata": {},
          "execution_count": 121
        }
      ]
    },
    {
      "cell_type": "code",
      "source": [
        "d = {'one' : '하나', 'two' : '둘', 'three' : '셋'}\n",
        "d.items()"
      ],
      "metadata": {
        "colab": {
          "base_uri": "https://localhost:8080/"
        },
        "id": "YyDx8zyKBmnu",
        "outputId": "c0f3a9e8-f07a-4a19-e4b7-1eac77899c45"
      },
      "execution_count": null,
      "outputs": [
        {
          "output_type": "execute_result",
          "data": {
            "text/plain": [
              "dict_items([('one', '하나'), ('two', '둘'), ('three', '셋')])"
            ]
          },
          "metadata": {},
          "execution_count": 123
        }
      ]
    },
    {
      "cell_type": "code",
      "source": [
        "dict([('one','하나'), ('two', '둘'), ('three', '셋')])"
      ],
      "metadata": {
        "colab": {
          "base_uri": "https://localhost:8080/"
        },
        "id": "-aJyJSQeBwU5",
        "outputId": "92206e61-1fe7-409c-9299-f884ac789d83"
      },
      "execution_count": null,
      "outputs": [
        {
          "output_type": "execute_result",
          "data": {
            "text/plain": [
              "{'one': '하나', 'two': '둘', 'three': '셋'}"
            ]
          },
          "metadata": {},
          "execution_count": 126
        }
      ]
    },
    {
      "cell_type": "code",
      "source": [
        "dict([['one', '하나'], ['two', '둘'], ['three', '셋']])"
      ],
      "metadata": {
        "colab": {
          "base_uri": "https://localhost:8080/"
        },
        "id": "EPkoHnq2CNl7",
        "outputId": "e7d92f31-152d-49a5-fc4d-0505a67e52f2"
      },
      "execution_count": null,
      "outputs": [
        {
          "output_type": "execute_result",
          "data": {
            "text/plain": [
              "{'one': '하나', 'two': '둘', 'three': '셋'}"
            ]
          },
          "metadata": {},
          "execution_count": 128
        }
      ]
    },
    {
      "cell_type": "code",
      "source": [
        "dict(name='gony', age=10)"
      ],
      "metadata": {
        "colab": {
          "base_uri": "https://localhost:8080/"
        },
        "id": "LMYTYy2hCOK6",
        "outputId": "bde01b37-1201-4d9b-bf90-7ab932315a11"
      },
      "execution_count": null,
      "outputs": [
        {
          "output_type": "execute_result",
          "data": {
            "text/plain": [
              "{'name': 'gony', 'age': 10}"
            ]
          },
          "metadata": {},
          "execution_count": 127
        }
      ]
    },
    {
      "cell_type": "code",
      "source": [
        "list(zip('ABC', '123', 'abc'))\n",
        "\n",
        "dict(zip('ABC', '123')) # 형변환"
      ],
      "metadata": {
        "colab": {
          "base_uri": "https://localhost:8080/"
        },
        "id": "qrTACS1nCQXL",
        "outputId": "5d69cfd8-fc86-430c-d406-9bfde4d9722b"
      },
      "execution_count": null,
      "outputs": [
        {
          "output_type": "execute_result",
          "data": {
            "text/plain": [
              "{'A': '1', 'B': '2', 'C': '3'}"
            ]
          },
          "metadata": {},
          "execution_count": 129
        }
      ]
    },
    {
      "cell_type": "code",
      "source": [
        "# dict와 list를 사용해서 아래와 같은 형태로 데이터를 만들어주세요\n",
        "\n",
        "# 원하는 형태 {'A': [10, 20], 'B': [20, 30], 'C': [30, 40]}"
      ],
      "metadata": {
        "id": "g-mEZoFDChEr"
      },
      "execution_count": null,
      "outputs": []
    },
    {
      "cell_type": "code",
      "source": [
        "dict(zip('ABC', [[10, 20], [20, 30], [30, 40]]))"
      ],
      "metadata": {
        "colab": {
          "base_uri": "https://localhost:8080/"
        },
        "id": "7wR2HYISCzl2",
        "outputId": "78465f9e-255e-43e3-e43a-1307ff67129a"
      },
      "execution_count": null,
      "outputs": [
        {
          "output_type": "execute_result",
          "data": {
            "text/plain": [
              "{'A': [10, 20], 'B': [20, 30], 'C': [30, 40]}"
            ]
          },
          "metadata": {},
          "execution_count": 133
        }
      ]
    },
    {
      "cell_type": "code",
      "source": [
        "'B' in {'A': [10, 20], 'B': [20, 30], 'C': [30, 40]}"
      ],
      "metadata": {
        "colab": {
          "base_uri": "https://localhost:8080/"
        },
        "id": "FDVobRUxEoFY",
        "outputId": "4c173747-b37d-4f70-82fd-c28e292e7282"
      },
      "execution_count": null,
      "outputs": [
        {
          "output_type": "execute_result",
          "data": {
            "text/plain": [
              "True"
            ]
          },
          "metadata": {},
          "execution_count": 134
        }
      ]
    },
    {
      "cell_type": "code",
      "source": [
        "%%timeit\n",
        "\n",
        "s = 0\n",
        "for i in range(10000):\n",
        "    s += i"
      ],
      "metadata": {
        "colab": {
          "base_uri": "https://localhost:8080/"
        },
        "id": "orD4iYz5FCIn",
        "outputId": "172aa094-550f-427d-e470-5070e66ea45f"
      },
      "execution_count": null,
      "outputs": [
        {
          "output_type": "stream",
          "name": "stdout",
          "text": [
            "1.4 ms ± 420 µs per loop (mean ± std. dev. of 7 runs, 1000 loops each)\n"
          ]
        }
      ]
    },
    {
      "cell_type": "code",
      "source": [
        "sum([i for i in range(10000)])"
      ],
      "metadata": {
        "colab": {
          "base_uri": "https://localhost:8080/"
        },
        "id": "MsvBvTWfFYgI",
        "outputId": "6f704e07-086f-46b4-c7a4-d62c45e5f17e"
      },
      "execution_count": null,
      "outputs": [
        {
          "output_type": "execute_result",
          "data": {
            "text/plain": [
              "49995000"
            ]
          },
          "metadata": {},
          "execution_count": 137
        }
      ]
    },
    {
      "cell_type": "code",
      "source": [
        "len({'A': [10, 20], 'B': [20, 30], 'C': [30, 40]})"
      ],
      "metadata": {
        "colab": {
          "base_uri": "https://localhost:8080/"
        },
        "id": "omu3i40mI8wS",
        "outputId": "608c5ec3-92aa-49cf-bc20-70e30d7ccbeb"
      },
      "execution_count": null,
      "outputs": [
        {
          "output_type": "execute_result",
          "data": {
            "text/plain": [
              "3"
            ]
          },
          "metadata": {},
          "execution_count": 139
        }
      ]
    },
    {
      "cell_type": "code",
      "source": [
        "# 공부해두시면 좋습니다!\n",
        "def switch(day):\n",
        "    return {\n",
        "        1 : '월요일',\n",
        "        2 : '화요일',\n",
        "        3 : '수요일',\n",
        "        4 : '목요일',\n",
        "        5 : '수요일',\n",
        "        6 : '토요일',\n",
        "        7 : '일요일',\n",
        "    }.get(day, '요일을 찾지 못했습니다.')\n",
        "\n",
        "switch(7)\n",
        "switch(8) # error # get을 사용하면 None, 못 찾는값을 넣었을 때 default를 줍니다."
      ],
      "metadata": {
        "colab": {
          "base_uri": "https://localhost:8080/",
          "height": 35
        },
        "id": "fwcH_R29JRfD",
        "outputId": "7546fe2e-bbae-4ac6-b97c-211b320a6d9f"
      },
      "execution_count": null,
      "outputs": [
        {
          "output_type": "execute_result",
          "data": {
            "text/plain": [
              "'요일을 찾지 못했습니다.'"
            ],
            "application/vnd.google.colaboratory.intrinsic+json": {
              "type": "string"
            }
          },
          "metadata": {},
          "execution_count": 146
        }
      ]
    },
    {
      "cell_type": "code",
      "source": [
        "!python --version"
      ],
      "metadata": {
        "colab": {
          "base_uri": "https://localhost:8080/"
        },
        "id": "EpbqIk40JtxP",
        "outputId": "f736860b-0861-45e2-d38d-088a362f32e4"
      },
      "execution_count": null,
      "outputs": [
        {
          "output_type": "stream",
          "name": "stdout",
          "text": [
            "Python 3.10.11\n"
          ]
        }
      ]
    },
    {
      "cell_type": "code",
      "source": [
        "def number_to_string(agrument):\n",
        "    match agrument:\n",
        "        case 0:\n",
        "            return \"zero\"\n",
        "        case 1:\n",
        "            return \"one\"\n",
        "        case 2:\n",
        "            return \"two\"\n",
        "        case default:\n",
        "            return \"nothing\"\n",
        "\n",
        "\n",
        "print(number_to_string(0))\n",
        "print(number_to_string(1))\n",
        "print(number_to_string(2))\n",
        "print(number_to_string(3))\n",
        "print(number_to_string(4))"
      ],
      "metadata": {
        "id": "x6GexHcYKiuf"
      },
      "execution_count": null,
      "outputs": []
    },
    {
      "cell_type": "code",
      "source": [
        "{'A': [10, 20], 'B': [20, 30], 'C': [30, 40]}.keys()"
      ],
      "metadata": {
        "colab": {
          "base_uri": "https://localhost:8080/"
        },
        "id": "Y8WRZ472LbWo",
        "outputId": "6cacc7e3-9ccb-43df-ee34-0cee33443d8b"
      },
      "execution_count": null,
      "outputs": [
        {
          "output_type": "execute_result",
          "data": {
            "text/plain": [
              "dict_keys(['A', 'B', 'C'])"
            ]
          },
          "metadata": {},
          "execution_count": 148
        }
      ]
    },
    {
      "cell_type": "code",
      "source": [
        "{'A': [10, 20], 'B': [20, 30], 'C': [30, 40]}.values()"
      ],
      "metadata": {
        "colab": {
          "base_uri": "https://localhost:8080/"
        },
        "id": "zAMO99vQLez4",
        "outputId": "076a7b12-757b-4b8b-b9cd-b2935772ec07"
      },
      "execution_count": null,
      "outputs": [
        {
          "output_type": "execute_result",
          "data": {
            "text/plain": [
              "dict_values([[10, 20], [20, 30], [30, 40]])"
            ]
          },
          "metadata": {},
          "execution_count": 150
        }
      ]
    },
    {
      "cell_type": "code",
      "source": [
        "{'A': [10, 20], 'B': [20, 30], 'C': [30, 40]}.items()"
      ],
      "metadata": {
        "colab": {
          "base_uri": "https://localhost:8080/"
        },
        "id": "cudoE5jbLgSq",
        "outputId": "741cd1fc-e233-4a43-87d4-0f1dc5eb4cbc"
      },
      "execution_count": null,
      "outputs": [
        {
          "output_type": "execute_result",
          "data": {
            "text/plain": [
              "dict_items([('A', [10, 20]), ('B', [20, 30]), ('C', [30, 40])])"
            ]
          },
          "metadata": {},
          "execution_count": 152
        }
      ]
    },
    {
      "cell_type": "code",
      "source": [
        "# {'A': [10, 20], 'B': [20, 30], 'C': [30, 40]}.get('B', '없습니다') "
      ],
      "metadata": {
        "colab": {
          "base_uri": "https://localhost:8080/"
        },
        "id": "_2zwm5ktLjb0",
        "outputId": "10c306fc-9c38-4cfa-d8e6-9bb38d30b96a"
      },
      "execution_count": null,
      "outputs": [
        {
          "output_type": "execute_result",
          "data": {
            "text/plain": [
              "[20, 30]"
            ]
          },
          "metadata": {},
          "execution_count": 74
        }
      ]
    },
    {
      "cell_type": "code",
      "source": [
        "dict.fromkeys('gony')\n",
        "dict.fromkeys('gony', 100)"
      ],
      "metadata": {
        "colab": {
          "base_uri": "https://localhost:8080/"
        },
        "id": "xynGcZtlLrZ2",
        "outputId": "e93608b6-05ed-4c57-f165-e6e930f5f46b"
      },
      "execution_count": null,
      "outputs": [
        {
          "output_type": "execute_result",
          "data": {
            "text/plain": [
              "{'g': 100, 'o': 100, 'n': 100, 'y': 100}"
            ]
          },
          "metadata": {},
          "execution_count": 157
        }
      ]
    },
    {
      "cell_type": "code",
      "source": [
        "keys = ('name', 'age', 'grade')\n",
        "values = ('gony', '10', '수')\n",
        "\n",
        "dict.fromkeys(keys, values)"
      ],
      "metadata": {
        "colab": {
          "base_uri": "https://localhost:8080/"
        },
        "id": "KSgTxsw8MAng",
        "outputId": "b31dba2e-5bed-4033-ad5f-956f2fa4c8bb"
      },
      "execution_count": null,
      "outputs": [
        {
          "output_type": "execute_result",
          "data": {
            "text/plain": [
              "{'name': ('gony', '10', '수'),\n",
              " 'age': ('gony', '10', '수'),\n",
              " 'grade': ('gony', '10', '수')}"
            ]
          },
          "metadata": {},
          "execution_count": 159
        }
      ]
    },
    {
      "cell_type": "code",
      "source": [
        "d = {'one' : '하나', 'two' : '둘', 'three' : '셋'}\n",
        "d.update({'one': 1, 'two': 2})\n",
        "d"
      ],
      "metadata": {
        "colab": {
          "base_uri": "https://localhost:8080/"
        },
        "id": "IC6wRJ2NMfgs",
        "outputId": "7b18c12d-4f9f-40fe-c2d3-63fc960fa393"
      },
      "execution_count": null,
      "outputs": [
        {
          "output_type": "execute_result",
          "data": {
            "text/plain": [
              "{'one': 1, 'two': 2, 'three': '셋'}"
            ]
          },
          "metadata": {},
          "execution_count": 160
        }
      ]
    },
    {
      "cell_type": "markdown",
      "source": [
        "## 딕셔너리의 순회"
      ],
      "metadata": {
        "id": "juGlYuMPMpky"
      }
    },
    {
      "cell_type": "code",
      "source": [
        "# key만 순회합니다\n",
        "d = {'two' : 2, 'three' : '셋'}\n",
        "for i in d:\n",
        "    print(i)"
      ],
      "metadata": {
        "id": "G4X0d4XKM5x4"
      },
      "execution_count": null,
      "outputs": []
    },
    {
      "cell_type": "code",
      "source": [
        "d = {'two' : 2, 'three' : '셋'}\n",
        "for i in d:\n",
        "    print(d[i])\n",
        "    "
      ],
      "metadata": {
        "id": "F9_DpGebNAZt"
      },
      "execution_count": null,
      "outputs": []
    },
    {
      "cell_type": "markdown",
      "source": [
        "#언패킹"
      ],
      "metadata": {
        "id": "9ZSda_OoNSsC"
      }
    },
    {
      "cell_type": "code",
      "source": [
        "#패킹 : 1, 2, 3 => [1, 2, 3]\n",
        "#언패킹 : [1, 2, 3] => 1, 2, 3"
      ],
      "metadata": {
        "id": "j9GG660KNTrh"
      },
      "execution_count": null,
      "outputs": []
    },
    {
      "cell_type": "code",
      "source": [
        "a, b, c = 10, 20, 30 \n",
        "a"
      ],
      "metadata": {
        "colab": {
          "base_uri": "https://localhost:8080/"
        },
        "id": "Lju-PJrwNYlY",
        "outputId": "2f0ac76f-5c03-4df8-e7af-97fa94450408"
      },
      "execution_count": null,
      "outputs": [
        {
          "output_type": "execute_result",
          "data": {
            "text/plain": [
              "10"
            ]
          },
          "metadata": {},
          "execution_count": 170
        }
      ]
    },
    {
      "cell_type": "code",
      "source": [
        "a, b, c = (10, 20, 30) # 소괄호든 대괗로든 상관 없습니다\n",
        "a"
      ],
      "metadata": {
        "colab": {
          "base_uri": "https://localhost:8080/"
        },
        "id": "UZwUhH6xNy78",
        "outputId": "18bc27c6-2da2-4c53-8e8a-65f7c1166333"
      },
      "execution_count": null,
      "outputs": [
        {
          "output_type": "execute_result",
          "data": {
            "text/plain": [
              "10"
            ]
          },
          "metadata": {},
          "execution_count": 173
        }
      ]
    },
    {
      "cell_type": "code",
      "source": [
        "i, j = [10, 20]\n",
        "i"
      ],
      "metadata": {
        "colab": {
          "base_uri": "https://localhost:8080/"
        },
        "id": "L6uwLBnhN-4E",
        "outputId": "34994e16-e489-457f-eff4-386da7651aaf"
      },
      "execution_count": null,
      "outputs": [
        {
          "output_type": "execute_result",
          "data": {
            "text/plain": [
              "10"
            ]
          },
          "metadata": {},
          "execution_count": 174
        }
      ]
    },
    {
      "cell_type": "code",
      "source": [
        "for i, j in [[10, 20], [30, 40], [50, 60]]:\n",
        "    print(i, j)"
      ],
      "metadata": {
        "colab": {
          "base_uri": "https://localhost:8080/"
        },
        "id": "KKbWdl1bN3HS",
        "outputId": "a59e3f28-f5bc-4c66-e559-53a4a2511360"
      },
      "execution_count": null,
      "outputs": [
        {
          "output_type": "stream",
          "name": "stdout",
          "text": [
            "10 20\n",
            "30 40\n",
            "50 60\n"
          ]
        }
      ]
    },
    {
      "cell_type": "code",
      "source": [
        "for i, j, k in [[10, 20, [1, 2]], [30, 40, [3, 4]], [50, 60, [5, 6]]]:\n",
        "    print(i, j, k)"
      ],
      "metadata": {
        "colab": {
          "base_uri": "https://localhost:8080/"
        },
        "id": "ShOms6wzOTkd",
        "outputId": "16d7f714-f928-4085-f95a-635450f7e49a"
      },
      "execution_count": null,
      "outputs": [
        {
          "output_type": "stream",
          "name": "stdout",
          "text": [
            "10 20 [1, 2]\n",
            "30 40 [3, 4]\n",
            "50 60 [5, 6]\n"
          ]
        }
      ]
    },
    {
      "cell_type": "code",
      "source": [
        "for i, j, k in [[10, 20, [1, 2]], [30, 40, [3, 4]], [50, 60, []]]:\n",
        "    print(i, j, k)"
      ],
      "metadata": {
        "colab": {
          "base_uri": "https://localhost:8080/"
        },
        "id": "txJE53WXOiIb",
        "outputId": "11ff13f8-56fd-4b63-93c7-7581f155ad96"
      },
      "execution_count": null,
      "outputs": [
        {
          "output_type": "stream",
          "name": "stdout",
          "text": [
            "10 20 [1, 2]\n",
            "30 40 [3, 4]\n",
            "50 60 []\n"
          ]
        }
      ]
    },
    {
      "cell_type": "code",
      "source": [
        "# swap\n",
        "a = 10\n",
        "b = 15\n",
        "a, b = b, a\n",
        "a, b"
      ],
      "metadata": {
        "colab": {
          "base_uri": "https://localhost:8080/"
        },
        "id": "uU3VtRDfOlc7",
        "outputId": "af0de3da-35de-41fc-8c0a-8b2a75d83d05"
      },
      "execution_count": null,
      "outputs": [
        {
          "output_type": "execute_result",
          "data": {
            "text/plain": [
              "(15, 10)"
            ]
          },
          "metadata": {},
          "execution_count": 180
        }
      ]
    },
    {
      "cell_type": "code",
      "source": [
        "# swap in c\n",
        "a = 10\n",
        "b = 15\n",
        "temp = a\n",
        "a = b\n",
        "b = temp\n",
        "a, b"
      ],
      "metadata": {
        "colab": {
          "base_uri": "https://localhost:8080/"
        },
        "id": "MmUrhlZ4O0UM",
        "outputId": "f8080074-627c-47a0-8978-0e169c9132d6"
      },
      "execution_count": null,
      "outputs": [
        {
          "output_type": "execute_result",
          "data": {
            "text/plain": [
              "(15, 10)"
            ]
          },
          "metadata": {},
          "execution_count": 181
        }
      ]
    },
    {
      "cell_type": "code",
      "source": [
        "for i, j in d.items():\n",
        "    print(i, j)"
      ],
      "metadata": {
        "id": "9dNGC4sYNsYb"
      },
      "execution_count": null,
      "outputs": []
    },
    {
      "cell_type": "markdown",
      "source": [
        "# max를 이용한 dict 최대 value key값 가져오기"
      ],
      "metadata": {
        "id": "FqDH1N-7PWw9"
      }
    },
    {
      "cell_type": "code",
      "source": [
        "d = {\n",
        "    'test1' : 10,\n",
        "    'test2' : 20,\n",
        "    'test3' : 31,\n",
        "    'test4' : 11,\n",
        "}\n",
        "\n",
        "# max(d.values()) # 이걸로는 뭔가 찾아내기가 힘듭니다.\n",
        "# max(d, key=lambda x: d[x])\n",
        "max(d, key=d.get) # 많이 사용하는 코드 입니다.\n",
        "\n",
        "for i in {1:2, 3:4, 5:6}:\n",
        "    print(i)\n"
      ],
      "metadata": {
        "colab": {
          "base_uri": "https://localhost:8080/"
        },
        "id": "vayj-BKBPaEt",
        "outputId": "15cea52e-c0db-40d3-de79-694032b49d01"
      },
      "execution_count": null,
      "outputs": [
        {
          "output_type": "stream",
          "name": "stdout",
          "text": [
            "1\n",
            "3\n",
            "5\n"
          ]
        }
      ]
    },
    {
      "cell_type": "markdown",
      "source": [
        "## set (셋, 집합)"
      ],
      "metadata": {
        "id": "t01vx1pwQbab"
      }
    },
    {
      "cell_type": "markdown",
      "source": [
        "* 집합 자료형은 중복을 허용하지 않으며\n",
        "* 순서가 없는 자료형"
      ],
      "metadata": {
        "id": "OPrHw-GsREHn"
      }
    },
    {
      "cell_type": "code",
      "source": [
        "n = set([1, 1, 2, 2, 3, 3, 4])\n",
        "print(n)"
      ],
      "metadata": {
        "colab": {
          "base_uri": "https://localhost:8080/"
        },
        "id": "Bm0xEAjnQty7",
        "outputId": "1cc8c96a-76dc-49ff-b825-18a4be155db5"
      },
      "execution_count": null,
      "outputs": [
        {
          "output_type": "stream",
          "name": "stdout",
          "text": [
            "{1, 2, 3, 4}\n"
          ]
        }
      ]
    },
    {
      "cell_type": "code",
      "source": [
        "s = set('hello world')\n",
        "print(s)"
      ],
      "metadata": {
        "colab": {
          "base_uri": "https://localhost:8080/"
        },
        "id": "iFY72g_lQ7rj",
        "outputId": "39d9f183-6bd7-447d-abdd-5b8cd5470f77"
      },
      "execution_count": null,
      "outputs": [
        {
          "output_type": "stream",
          "name": "stdout",
          "text": [
            "{'o', 'w', 'e', 'l', 'r', 'd', ' ', 'h'}\n"
          ]
        }
      ]
    },
    {
      "cell_type": "code",
      "source": [
        "n = set([1, 1, 2, 2, 3, 3, 4])\n",
        "n.add(1000)\n",
        "print(n)"
      ],
      "metadata": {
        "colab": {
          "base_uri": "https://localhost:8080/"
        },
        "id": "UCJ62SJhTy1H",
        "outputId": "44a6dcf3-a412-45f5-bed6-aa8d540abb72"
      },
      "execution_count": null,
      "outputs": [
        {
          "output_type": "stream",
          "name": "stdout",
          "text": [
            "{1, 2, 3, 4, 1000}\n"
          ]
        }
      ]
    },
    {
      "cell_type": "code",
      "source": [
        "n = set([1, 1, 2, 2, 3, 3, 4])\n",
        "n.update({10, 20})\n",
        "print(n)"
      ],
      "metadata": {
        "colab": {
          "base_uri": "https://localhost:8080/"
        },
        "id": "Inf4JCiCT4qX",
        "outputId": "d6bc9ac4-b92f-497a-a186-cf96cdbb5ac5"
      },
      "execution_count": null,
      "outputs": [
        {
          "output_type": "stream",
          "name": "stdout",
          "text": [
            "{1, 2, 3, 4, 20, 10}\n"
          ]
        }
      ]
    },
    {
      "cell_type": "code",
      "source": [
        "n = set([1, 1, 2, 2, 3, 3, 4])\n",
        "n.remove(1)\n",
        "print(n)"
      ],
      "metadata": {
        "colab": {
          "base_uri": "https://localhost:8080/"
        },
        "id": "q7_nS7ZGWY73",
        "outputId": "befe294e-6a0a-4b32-d740-a1d65dacfb18"
      },
      "execution_count": null,
      "outputs": [
        {
          "output_type": "stream",
          "name": "stdout",
          "text": [
            "{2, 3, 4}\n"
          ]
        }
      ]
    },
    {
      "cell_type": "markdown",
      "source": [],
      "metadata": {
        "id": "_onUrKgJXB57"
      }
    },
    {
      "cell_type": "code",
      "source": [
        "# 교집합 \n",
        "a = {1, 2, 3}\n",
        "b = {3, 4, 5}\n",
        "a & b\n",
        "a.intersection(b)"
      ],
      "metadata": {
        "colab": {
          "base_uri": "https://localhost:8080/"
        },
        "id": "jYgsbbvZXNjM",
        "outputId": "d04db1c8-3aa0-44d0-f465-66f81fd074a1"
      },
      "execution_count": null,
      "outputs": [
        {
          "output_type": "execute_result",
          "data": {
            "text/plain": [
              "{3}"
            ]
          },
          "metadata": {},
          "execution_count": 206
        }
      ]
    },
    {
      "cell_type": "code",
      "source": [
        "# 합집합 \n",
        "a = {1, 2, 3}\n",
        "b = {3, 4, 5}\n",
        "a | b\n",
        "a.union(b)\n",
        "# a + b # error"
      ],
      "metadata": {
        "id": "gxCYjr7FXxy5"
      },
      "execution_count": null,
      "outputs": []
    },
    {
      "cell_type": "code",
      "source": [
        "# 차집합 \n",
        "a = {1, 2, 3}\n",
        "b = {3, 4, 5}\n",
        "a - b\n",
        "a.difference(b)\n",
        "# a + b # error"
      ],
      "metadata": {
        "colab": {
          "base_uri": "https://localhost:8080/"
        },
        "id": "2Ms5SXyYYIXY",
        "outputId": "0b465b87-4577-4ad1-a310-776156298f13"
      },
      "execution_count": null,
      "outputs": [
        {
          "output_type": "execute_result",
          "data": {
            "text/plain": [
              "{1, 2}"
            ]
          },
          "metadata": {},
          "execution_count": 209
        }
      ]
    },
    {
      "cell_type": "code",
      "source": [
        "s = {1, 2, 3, 4}\n",
        "ss = {3, 4, 5, 6}\n",
        "s.issubset({1, 2})\n",
        "s.issubset({1, 2, 3, 4, 5, 6, 7, 8})"
      ],
      "metadata": {
        "colab": {
          "base_uri": "https://localhost:8080/"
        },
        "id": "cGzX9Xl4YaiR",
        "outputId": "46fd2b74-21b6-4dd1-9945-629cf4fecfc3"
      },
      "execution_count": null,
      "outputs": [
        {
          "output_type": "execute_result",
          "data": {
            "text/plain": [
              "False"
            ]
          },
          "metadata": {},
          "execution_count": 79
        }
      ]
    },
    {
      "cell_type": "code",
      "source": [
        "# https://school.programmers.co.kr/learn/courses/30/lessons/120903?language=python3\n",
        "def solution(s1, s2):\n",
        "    return len(set(s1) & set(s2))\n",
        "\n",
        "# 교집합의 개수 구하는 문제"
      ],
      "metadata": {
        "id": "Lp7ugG1WhdEA"
      },
      "execution_count": null,
      "outputs": []
    },
    {
      "cell_type": "code",
      "source": [
        "# https://school.programmers.co.kr/learn/courses/30/lessons/120888\n",
        "\n",
        "# my_string\tresult\n",
        "# \"people\"\t\"peol\"\n",
        "# \"We are the world\"\t\"We arthwold\""
      ],
      "metadata": {
        "id": "G-Kgl4_yRBam"
      },
      "execution_count": null,
      "outputs": []
    },
    {
      "cell_type": "code",
      "source": [
        "result = ''\n",
        "for i in 'people':\n",
        "    if i not in result:\n",
        "        result += i\n",
        "result"
      ],
      "metadata": {
        "colab": {
          "base_uri": "https://localhost:8080/",
          "height": 35
        },
        "id": "4XwdEvEcYrsG",
        "outputId": "bb9ad69d-8b5a-40d6-bb7c-21cfd724d59c"
      },
      "execution_count": null,
      "outputs": [
        {
          "output_type": "execute_result",
          "data": {
            "text/plain": [
              "'peol'"
            ],
            "application/vnd.google.colaboratory.intrinsic+json": {
              "type": "string"
            }
          },
          "metadata": {},
          "execution_count": 211
        }
      ]
    },
    {
      "cell_type": "code",
      "source": [
        "def solution(my_string):\n",
        "    return set(my_string)\n",
        "\n",
        "solution('people')"
      ],
      "metadata": {
        "colab": {
          "base_uri": "https://localhost:8080/"
        },
        "id": "uOxpikHTSUf_",
        "outputId": "b666c9f2-6cd3-4f22-a4d4-d10d6e50d6d2"
      },
      "execution_count": null,
      "outputs": [
        {
          "output_type": "execute_result",
          "data": {
            "text/plain": [
              "{'e', 'l', 'o', 'p'}"
            ]
          },
          "metadata": {},
          "execution_count": 192
        }
      ]
    },
    {
      "cell_type": "code",
      "source": [
        "def solution(my_string):\n",
        "    return ''.join(set(my_string))\n",
        "\n",
        "solution('people')"
      ],
      "metadata": {
        "colab": {
          "base_uri": "https://localhost:8080/",
          "height": 35
        },
        "id": "l0nhxs16Si3O",
        "outputId": "f1a88426-859c-48c1-e6f0-c36081775258"
      },
      "execution_count": null,
      "outputs": [
        {
          "output_type": "execute_result",
          "data": {
            "text/plain": [
              "'lope'"
            ],
            "application/vnd.google.colaboratory.intrinsic+json": {
              "type": "string"
            }
          },
          "metadata": {},
          "execution_count": 194
        }
      ]
    },
    {
      "cell_type": "code",
      "source": [
        "def solution(my_string):\n",
        "    집합 = set(my_string)\n",
        "    result = ''\n",
        "    for i in my_string:\n",
        "        if i in 집합:\n",
        "            result += i\n",
        "            집합.remove(i)\n",
        "    return result\n",
        "\n",
        "solution('people')"
      ],
      "metadata": {
        "id": "DVforK2BZ52A"
      },
      "execution_count": null,
      "outputs": []
    },
    {
      "cell_type": "code",
      "source": [
        "{}\n",
        "\n",
        "result = 'peol'\n",
        "def solution(my_string):\n",
        "    return ''.join(set(my_string))\n",
        "\n",
        "solution('people')"
      ],
      "metadata": {
        "id": "7FM8pfuBTFse"
      },
      "execution_count": null,
      "outputs": []
    },
    {
      "cell_type": "markdown",
      "source": [
        "# !!연습문제"
      ],
      "metadata": {
        "id": "qV8lIeNdadhT"
      }
    },
    {
      "cell_type": "code",
      "source": [
        "## 내가 한거거\n",
        "\n",
        "student_score = {\n",
        "    '홍의' : 97,\n",
        "    '원희' : 60,\n",
        "    '동해' : 77,\n",
        "    '변수' : 79,\n",
        "    '창현' : 89,\n",
        "}\n",
        "\n",
        "점수 = sum(student_score.values())\n",
        "print(점수)\n",
        "\n",
        "평균 = 점수 / len(student_score)\n",
        "print(평균)\n",
        "\n",
        "print(f'{max(student_score, key=student_score.get)}:{student_score[max(student_score, key=student_score.get)]}')\n",
        "\n",
        "# 키값 벨류값 최대 최소소\n",
        "# 평균점수 = 점수.count\n",
        "# 평균점수\n",
        "# 총점 = sum(student_score.values())\n",
        "# print(총점)\n",
        "# 평균점수 = avg(student_score.values())\n",
        "\n",
        "# 최대점수 = max(student_score.values())\n",
        "# print(최대점수)\n",
        "# 최소점수 = max(student_score.values())\n",
        "# print(최소점수)\n",
        "\n",
        "# keys = ('name', 'age', 'grade')\n",
        "# values = ('gony', '10', '수')\n"
      ],
      "metadata": {
        "colab": {
          "base_uri": "https://localhost:8080/"
        },
        "id": "gjjRu1YoafWH",
        "outputId": "c7abee17-0227-43ae-e009-d06abaec1abe"
      },
      "execution_count": null,
      "outputs": [
        {
          "output_type": "stream",
          "name": "stdout",
          "text": [
            "402\n",
            "80.4\n",
            "홍의:97\n"
          ]
        }
      ]
    },
    {
      "cell_type": "code",
      "source": [
        "student_score = {\n",
        "    '홍의' : 97,\n",
        "    '원희' : 60,\n",
        "    '동해' : 77,\n",
        "    '변수' : 79,\n",
        "    '창현' : 89,\n",
        "}\n",
        "\n",
        "sum(student_score.values())"
      ],
      "metadata": {
        "colab": {
          "base_uri": "https://localhost:8080/"
        },
        "id": "KMJ0S_4EeP6B",
        "outputId": "80125846-f2d8-4138-df37-297ae8a8b9fc"
      },
      "execution_count": null,
      "outputs": [
        {
          "output_type": "execute_result",
          "data": {
            "text/plain": [
              "402"
            ]
          },
          "metadata": {},
          "execution_count": 3
        }
      ]
    },
    {
      "cell_type": "code",
      "source": [
        "sum(student_score.values())/len(student_score)"
      ],
      "metadata": {
        "colab": {
          "base_uri": "https://localhost:8080/"
        },
        "id": "NRl7JclQelDo",
        "outputId": "2f8c634a-bacf-4a31-9458-14100356cca5"
      },
      "execution_count": null,
      "outputs": [
        {
          "output_type": "execute_result",
          "data": {
            "text/plain": [
              "80.4"
            ]
          },
          "metadata": {},
          "execution_count": 5
        }
      ]
    },
    {
      "cell_type": "code",
      "source": [
        "이름 = max(student_score, key=student_score.get)\n",
        "가장큰값 = student_score[이름]\n",
        "print(이름, 가장큰값)"
      ],
      "metadata": {
        "colab": {
          "base_uri": "https://localhost:8080/"
        },
        "id": "By3-_i52ett1",
        "outputId": "4584c4c5-d6a1-4adf-b1d4-e985d58f06e1"
      },
      "execution_count": null,
      "outputs": [
        {
          "output_type": "stream",
          "name": "stdout",
          "text": [
            "홍의 97\n"
          ]
        }
      ]
    },
    {
      "cell_type": "code",
      "source": [
        "가장큰값 = max(student_score.values())\n",
        "for i in student_score:\n",
        "    if student_score[i] == 가장큰값:\n",
        "        print(i, 가장큰값)"
      ],
      "metadata": {
        "colab": {
          "base_uri": "https://localhost:8080/"
        },
        "id": "aiKjWgTbe6Ac",
        "outputId": "c47b648c-a90d-4dab-af3f-fe84bcb052dd"
      },
      "execution_count": null,
      "outputs": [
        {
          "output_type": "stream",
          "name": "stdout",
          "text": [
            "홍의 97\n"
          ]
        }
      ]
    },
    {
      "cell_type": "code",
      "source": [
        "이름 = min(student_score, key=student_score.get)\n",
        "가장작은값 = student_score[이름]\n",
        "print(이름, 가장작은값)"
      ],
      "metadata": {
        "id": "75ATern2ff3r"
      },
      "execution_count": null,
      "outputs": []
    },
    {
      "cell_type": "code",
      "source": [
        "like = ['볶음밥', '라면', '국수', '파스타', '치킨', '짜장면', '국밥']\n",
        "dislike = ['국밥', '짬뽕', '찜닭', '파스타', '국수', '카레', '덮밥']\n",
        "list(set(like) - set(dislike))"
      ],
      "metadata": {
        "colab": {
          "base_uri": "https://localhost:8080/"
        },
        "id": "hxYVUZnVgARr",
        "outputId": "894105a3-652c-425d-e7fe-0477f1af00d9"
      },
      "execution_count": null,
      "outputs": [
        {
          "output_type": "execute_result",
          "data": {
            "text/plain": [
              "['라면', '볶음밥', '짜장면', '치킨']"
            ]
          },
          "metadata": {},
          "execution_count": 13
        }
      ]
    },
    {
      "cell_type": "markdown",
      "source": [
        "5월 8일\n",
        "## (질의응답) max(student_score, key=student_score.get)"
      ],
      "metadata": {
        "id": "5RJJ1l87iwwy"
      }
    },
    {
      "cell_type": "code",
      "source": [
        "def 함수(x):\n",
        "    return ll[x]\n",
        "l = [2, 4, 5, 3, 6, 0, 7, 1]\n",
        "ll = [20, 10, 30, 40, 50, 60 ,70, 80]\n",
        "max(l, key=함수)"
      ],
      "metadata": {
        "colab": {
          "base_uri": "https://localhost:8080/"
        },
        "id": "ozvKFUtRjR1M",
        "outputId": "f62b72d6-5194-4397-a58b-64167ae8a089"
      },
      "execution_count": 29,
      "outputs": [
        {
          "output_type": "execute_result",
          "data": {
            "text/plain": [
              "7"
            ]
          },
          "metadata": {},
          "execution_count": 29
        }
      ]
    },
    {
      "cell_type": "code",
      "source": [
        "def 함수(x):\n",
        "    print(x, ll[x])\n",
        "    return ll[x]\n",
        "l = [2, 4, 5, 3, 6, 0, 7, 1]\n",
        "ll = ['hello', 'a', 'bb', 'ccc', 'a', 'bbbb', 'hello world', 'cc']\n",
        "\n",
        "max(l, key=함수)\n",
        "max(ll)"
      ],
      "metadata": {
        "colab": {
          "base_uri": "https://localhost:8080/",
          "height": 178
        },
        "id": "4upXtD-ukd4c",
        "outputId": "ee13195c-603b-4135-d53b-1cf2ca085817"
      },
      "execution_count": 33,
      "outputs": [
        {
          "output_type": "stream",
          "name": "stdout",
          "text": [
            "2 bb\n",
            "4 a\n",
            "5 bbbb\n",
            "3 ccc\n",
            "6 hello world\n",
            "0 hello\n",
            "7 cc\n",
            "1 a\n"
          ]
        },
        {
          "output_type": "execute_result",
          "data": {
            "text/plain": [
              "'hello world'"
            ],
            "application/vnd.google.colaboratory.intrinsic+json": {
              "type": "string"
            }
          },
          "metadata": {},
          "execution_count": 33
        }
      ]
    },
    {
      "cell_type": "code",
      "source": [
        "def 함수(x):\n",
        "    print(x, ll[x])\n",
        "    return ll[x]\n",
        "\n",
        "l = [2, 4, 5, 3, 6, 0, 7, 1]\n",
        "ll = ['hello', 'a', 'bb', 'ccc', 'a', 'bbbb', 'hello world', 'cc']\n",
        "\n",
        "max(l, key=함수)"
      ],
      "metadata": {
        "id": "tCU5KSaQldKk"
      },
      "execution_count": null,
      "outputs": []
    },
    {
      "cell_type": "code",
      "source": [
        "# return 에 초점을 맞춰주세요\n",
        "def 함수(x):\n",
        "    return d.get(x)\n",
        "\n",
        "수학 = {\n",
        "    '학생1': 10,\n",
        "    '학생2': 20,\n",
        "    '학생3': 31,\n",
        "    '학생4': 11,\n",
        "    '학생5': 10,\n",
        "}\n",
        "\n",
        "과학 = {\n",
        "    '학생1': 11,\n",
        "    '학생2': 17,\n",
        "    '학생3': 13,\n",
        "    '학생4': 11,\n",
        "    '학생5': 25,\n",
        "    '학생6': 100,\n",
        "}\n",
        "\n",
        "수학점수가가장큰사람 = max(수학, key=수학.get)\n",
        "과학점수가가장큰사람 = max(과학, key=과학.get)\n",
        "max(수학, key=과학.get)"
      ],
      "metadata": {
        "colab": {
          "base_uri": "https://localhost:8080/",
          "height": 35
        },
        "id": "8rHk38RblxCF",
        "outputId": "b1f2d483-a031-4a94-8728-c33454f403ce"
      },
      "execution_count": 36,
      "outputs": [
        {
          "output_type": "execute_result",
          "data": {
            "text/plain": [
              "'학생5'"
            ],
            "application/vnd.google.colaboratory.intrinsic+json": {
              "type": "string"
            }
          },
          "metadata": {},
          "execution_count": 36
        }
      ]
    },
    {
      "cell_type": "code",
      "source": [
        "def 함수(x):\n",
        "    return len(x)\n",
        "l = ['a', 'bb', 'ccc', 'dd']\n",
        "\n",
        "max(l, key=함수)\n",
        "max(l, key=len)"
      ],
      "metadata": {
        "colab": {
          "base_uri": "https://localhost:8080/",
          "height": 35
        },
        "id": "9RbA3yG9m1C9",
        "outputId": "aa766746-377e-48d2-880c-57131d33932b"
      },
      "execution_count": 8,
      "outputs": [
        {
          "output_type": "execute_result",
          "data": {
            "text/plain": [
              "'ccc'"
            ],
            "application/vnd.google.colaboratory.intrinsic+json": {
              "type": "string"
            }
          },
          "metadata": {},
          "execution_count": 8
        }
      ]
    },
    {
      "cell_type": "code",
      "source": [
        "def 함수(x):\n",
        "    return len(x)\n",
        "l = ['a', 'bb', 'ccc', 'dd']\n",
        "\n",
        "max(l, key=함수)\n",
        "max(l, key=len)"
      ],
      "metadata": {
        "id": "ZodoUHRxnsgL"
      },
      "execution_count": null,
      "outputs": []
    },
    {
      "cell_type": "markdown",
      "source": [
        "## (질의응답) 함수의 아규먼트 순서서"
      ],
      "metadata": {
        "id": "5OpRKgnOi2Cz"
      }
    },
    {
      "cell_type": "code",
      "source": [
        "def f(a, b, c):\n",
        "    print(a, b, c)\n",
        "\n",
        "# f() # error\n",
        "# f(100, 10) # error\n",
        "f(a=100, b=200, c=300)\n",
        "f(c=300, a=100, b=200) #실무에서 이렇게 순서를 바꿔서 넣지 않고 보통 순서를 지켜줍니다.\n",
        "\n",
        "# 실무에서 언제 사용이 될까요?\n",
        "# 파라미터, 아규먼츠가 매우 많을 때\n",
        "# 이런 함수가 나오면 이 함수가 무엇을 뜻하는 것일까요?\n",
        "# addNewControl(\"Title\", 20, 50, 100, 50, 200, 300, 150)\n",
        "# addNewControl(title=\"Title\", height=20, width=50, textlen = 100, ...)\n",
        "# 어? 컨트롤 박스를 만드는 구나..."
      ],
      "metadata": {
        "colab": {
          "base_uri": "https://localhost:8080/"
        },
        "id": "QLarDfflpri6",
        "outputId": "803ae0be-2ade-400e-9adb-41b250e1b486"
      },
      "execution_count": 14,
      "outputs": [
        {
          "output_type": "stream",
          "name": "stdout",
          "text": [
            "100 200 300\n",
            "100 200 300\n"
          ]
        }
      ]
    },
    {
      "cell_type": "code",
      "source": [
        "def f(a=10, b=20, c): # c만 default value를 안주게 되면 error, 순서대로 안주어야 합니다.\n",
        "    print(a, b, c)\n",
        "\n",
        "# f() # error\n",
        "# f(100, 10) # error\n",
        "# f(a=100, b=200, c=300) # error\n",
        "# f(c=300, a=100, b=200) # error"
      ],
      "metadata": {
        "id": "zIYlO0zPrXZu"
      },
      "execution_count": null,
      "outputs": []
    },
    {
      "cell_type": "code",
      "source": [
        "def f(a=10, b=20, c=30):\n",
        "    print(a, b, c)\n",
        "\n",
        "f()\n",
        "f(100, 10)\n",
        "f(a=100, b=200, c=300)\n",
        "f(c=300) #error why? default value를 안줄거면 순서대로 a부터 앞에서부터 안주어야 함"
      ],
      "metadata": {
        "id": "QPvDQKVyrvKS"
      },
      "execution_count": null,
      "outputs": []
    },
    {
      "cell_type": "code",
      "source": [
        "def f(a, b=20, c=10): # 순서대로 안주어야 하기 때문에 a에 값을 넣지 않았습니다.\n",
        "    print(a, b, c)\n",
        "\n",
        "# f() # error\n",
        "f(100, 10)\n",
        "f(a=100, b=200, c=300)\n",
        "f(c=300, a=100, b=200)"
      ],
      "metadata": {
        "colab": {
          "base_uri": "https://localhost:8080/"
        },
        "id": "YBDc9g2gsInA",
        "outputId": "6b2508a3-e264-4915-d4f0-7c6ec99230a4"
      },
      "execution_count": 37,
      "outputs": [
        {
          "output_type": "stream",
          "name": "stdout",
          "text": [
            "100 10 10\n",
            "100 200 300\n",
            "100 200 300\n"
          ]
        }
      ]
    },
    {
      "cell_type": "markdown",
      "source": [
        "## (질의응답) zip, map 등 한 번 순회가 되면 순회가 안되는 이유"
      ],
      "metadata": {
        "id": "3xdU6-xAi4oc"
      }
    },
    {
      "cell_type": "code",
      "source": [
        "a = [1, 2, 3]\n",
        "b = ['a', 'b', 'c']\n",
        "\n",
        "z = zip(a, b)\n",
        "print(list(z)) # [(1, 'a'), (2, 'b'), (3, 'c')]\n",
        "\n",
        "# zip 객체는 한 번 사용되었으므로 빈 리스트가 반환됩니다.\n",
        "print(list(z)) # []\n",
        "list(z)\n",
        "type(z)"
      ],
      "metadata": {
        "colab": {
          "base_uri": "https://localhost:8080/"
        },
        "id": "SNCA-z-pvghX",
        "outputId": "142431e2-bcab-4247-adf0-a769c412527d"
      },
      "execution_count": 43,
      "outputs": [
        {
          "output_type": "stream",
          "name": "stdout",
          "text": [
            "[(1, 'a'), (2, 'b'), (3, 'c')]\n",
            "[]\n"
          ]
        },
        {
          "output_type": "execute_result",
          "data": {
            "text/plain": [
              "zip"
            ]
          },
          "metadata": {},
          "execution_count": 43
        }
      ]
    },
    {
      "cell_type": "code",
      "source": [
        "li = [1, 2, 3]\n",
        "st = ['a', 'b', 'c']\n",
        "z = zip(li, st)\n",
        "\n",
        "for i in z:\n",
        "    print(i)\n",
        "\n",
        "for i in z:\n",
        "    print(i)"
      ],
      "metadata": {
        "colab": {
          "base_uri": "https://localhost:8080/"
        },
        "id": "OTsyfVOlv0vF",
        "outputId": "461a32a9-8c63-4c95-da73-01d001456430"
      },
      "execution_count": 54,
      "outputs": [
        {
          "output_type": "stream",
          "name": "stdout",
          "text": [
            "(1, 'a')\n",
            "(2, 'b')\n",
            "(3, 'c')\n"
          ]
        }
      ]
    },
    {
      "cell_type": "code",
      "source": [
        "li = [1, 2, 3]\n",
        "st = ['a', 'b', 'c']\n",
        "i = iter(zip(li, st))\n",
        "next(i)\n",
        "next(i)\n",
        "next(i)"
      ],
      "metadata": {
        "id": "OUKt_IdXv312"
      },
      "execution_count": null,
      "outputs": []
    },
    {
      "cell_type": "code",
      "source": [
        "li = [1, 2, 3]\n",
        "z = map(lambda x:x**2, li)\n",
        "\n",
        "for i in z:\n",
        "    print(i)\n",
        "\n",
        "for i in z:\n",
        "    print(i)\n",
        "\n",
        "# 한번 순회하면 끝임 그래서 메모리를 절약함"
      ],
      "metadata": {
        "colab": {
          "base_uri": "https://localhost:8080/"
        },
        "id": "MoEjpUqMwjNx",
        "outputId": "612d3d01-d732-442e-804e-3e1e0f1d1734"
      },
      "execution_count": 21,
      "outputs": [
        {
          "output_type": "stream",
          "name": "stdout",
          "text": [
            "1\n",
            "4\n",
            "9\n"
          ]
        }
      ]
    },
    {
      "cell_type": "code",
      "source": [
        "li = [1, 2, 3]\n",
        "z = reversed(li)\n",
        "\n",
        "for i in z:\n",
        "    print(i)\n",
        "\n",
        "for i in z:\n",
        "    print(i)"
      ],
      "metadata": {
        "colab": {
          "base_uri": "https://localhost:8080/"
        },
        "id": "-uqRqANqwsb-",
        "outputId": "336db3c2-5fb0-4d98-93fe-de1b84bf6ba7"
      },
      "execution_count": 23,
      "outputs": [
        {
          "output_type": "stream",
          "name": "stdout",
          "text": [
            "3\n",
            "2\n",
            "1\n"
          ]
        }
      ]
    },
    {
      "cell_type": "code",
      "source": [
        "li = [1, 2, 3]\n",
        "z = filter(lambda x:x>1, li)\n",
        "\n",
        "for i in z:\n",
        "    print(i)\n",
        "\n",
        "for i in z:\n",
        "    print(i)"
      ],
      "metadata": {
        "colab": {
          "base_uri": "https://localhost:8080/"
        },
        "id": "7_x3DWx3wvov",
        "outputId": "56909b9b-f1c5-479a-de6c-16f7a656f20c"
      },
      "execution_count": 45,
      "outputs": [
        {
          "output_type": "stream",
          "name": "stdout",
          "text": [
            "2\n",
            "3\n"
          ]
        }
      ]
    },
    {
      "cell_type": "code",
      "source": [
        "# 계속 순회가 가능하게 설계가 되어 있습니다.\n",
        "# 이런 설계를 뒤에서 우리가 직접 해보게 될 것입니다.\n",
        "li = [1, 2, 3]\n",
        "z = sorted(li)\n",
        "\n",
        "for i in z:\n",
        "    print(i)\n",
        "\n",
        "for i in z:\n",
        "    print(i)"
      ],
      "metadata": {
        "colab": {
          "base_uri": "https://localhost:8080/"
        },
        "id": "bcSvbnswwzyq",
        "outputId": "96c265cd-04b9-42df-ede1-f1ec49827139"
      },
      "execution_count": 44,
      "outputs": [
        {
          "output_type": "stream",
          "name": "stdout",
          "text": [
            "1\n",
            "2\n",
            "3\n",
            "1\n",
            "2\n",
            "3\n"
          ]
        }
      ]
    },
    {
      "cell_type": "markdown",
      "source": [
        "## 조건문"
      ],
      "metadata": {
        "id": "Ga_M7KKExbtt"
      }
    },
    {
      "cell_type": "markdown",
      "source": [
        "* if, elif, else, continue, break"
      ],
      "metadata": {
        "id": "i81lZPVXxhry"
      }
    },
    {
      "cell_type": "code",
      "source": [
        "x = 2\n",
        "if x > 1 and x < 10:\n",
        "    print('True')"
      ],
      "metadata": {
        "colab": {
          "base_uri": "https://localhost:8080/"
        },
        "id": "aIyDhJy6zIJC",
        "outputId": "a63bdb56-7d17-4cb5-f8f3-7344d191ac4b"
      },
      "execution_count": 26,
      "outputs": [
        {
          "output_type": "stream",
          "name": "stdout",
          "text": [
            "True\n"
          ]
        }
      ]
    },
    {
      "cell_type": "code",
      "source": [
        "if True:\n",
        "    print('hello')"
      ],
      "metadata": {
        "colab": {
          "base_uri": "https://localhost:8080/"
        },
        "id": "5b7_dSv4zZT9",
        "outputId": "7076d457-c7d0-41f4-bddc-a9ca87ba0c31"
      },
      "execution_count": 29,
      "outputs": [
        {
          "output_type": "stream",
          "name": "stdout",
          "text": [
            "hello\n"
          ]
        }
      ]
    },
    {
      "cell_type": "code",
      "source": [
        "if 12309:\n",
        "    print('hello')"
      ],
      "metadata": {
        "colab": {
          "base_uri": "https://localhost:8080/"
        },
        "id": "0iOJFfcJzdP-",
        "outputId": "67e19357-02cc-43eb-d827-0fd38abb4b81"
      },
      "execution_count": 31,
      "outputs": [
        {
          "output_type": "stream",
          "name": "stdout",
          "text": [
            "hello\n"
          ]
        }
      ]
    },
    {
      "cell_type": "code",
      "source": [
        "def f():\n",
        "    return False\n",
        "\n",
        "if f():\n",
        "    print('hello')\n",
        "    print('one')\n",
        "print('two')"
      ],
      "metadata": {
        "colab": {
          "base_uri": "https://localhost:8080/"
        },
        "id": "Eo4IZjuczgb1",
        "outputId": "81037962-a32c-47ad-a5b3-d41ff9b9f140"
      },
      "execution_count": 36,
      "outputs": [
        {
          "output_type": "stream",
          "name": "stdout",
          "text": [
            "two\n"
          ]
        }
      ]
    },
    {
      "cell_type": "code",
      "source": [
        "if '': # [], {}, '' 는 모두 False 취급합니다. 비어있어서\n",
        "    print('hello')\n",
        "    print('one')\n",
        "print('two')"
      ],
      "metadata": {
        "colab": {
          "base_uri": "https://localhost:8080/"
        },
        "id": "oB7CKTDQ0Atb",
        "outputId": "d92f339b-033b-421a-d604-f25771826d1f"
      },
      "execution_count": 37,
      "outputs": [
        {
          "output_type": "stream",
          "name": "stdout",
          "text": [
            "two\n"
          ]
        }
      ]
    },
    {
      "cell_type": "code",
      "source": [
        "if ' ': # 문자열 공백은 True취급 합니다\n",
        "    print('hello')\n",
        "    print('one')\n",
        "print('two')"
      ],
      "metadata": {
        "colab": {
          "base_uri": "https://localhost:8080/"
        },
        "id": "_RzygqXB0Lha",
        "outputId": "47fac875-a621-4102-ffa8-ff5c0d3dae68"
      },
      "execution_count": 39,
      "outputs": [
        {
          "output_type": "stream",
          "name": "stdout",
          "text": [
            "hello\n",
            "one\n",
            "two\n"
          ]
        }
      ]
    },
    {
      "cell_type": "code",
      "source": [
        "if [   ]: # False취급 안에 아이템이 있어야함\n",
        "    print('hello')\n",
        "    print('one')\n",
        "print('two')"
      ],
      "metadata": {
        "colab": {
          "base_uri": "https://localhost:8080/"
        },
        "id": "_V-CmDxs0T7V",
        "outputId": "8bbc34c5-795b-4f8d-815d-0ed15d8e5a98"
      },
      "execution_count": 40,
      "outputs": [
        {
          "output_type": "stream",
          "name": "stdout",
          "text": [
            "two\n"
          ]
        }
      ]
    },
    {
      "cell_type": "code",
      "source": [
        "if [,]: # SyntaxError\n",
        "    print('hello')\n",
        "    print('one')\n",
        "print('two')"
      ],
      "metadata": {
        "id": "YZ8KEDyO0ZlH"
      },
      "execution_count": null,
      "outputs": []
    },
    {
      "cell_type": "code",
      "source": [
        "if [10,\n",
        "    20,\n",
        "    30, # 마지막 콤마는 허락합니다! 소괄호, 중괄호, 대괄호에 공백은 병합합니다.\n",
        "    ]:\n",
        "    print('hello')\n",
        "    print('one')\n",
        "print('two')"
      ],
      "metadata": {
        "id": "KoCEPz3c0aXq"
      },
      "execution_count": null,
      "outputs": []
    },
    {
      "cell_type": "code",
      "source": [
        "if int(11) == int(10):\n",
        "    print('hello')"
      ],
      "metadata": {
        "id": "CcxlECkw1fCE"
      },
      "execution_count": 56,
      "outputs": []
    },
    {
      "cell_type": "code",
      "source": [
        "class int(int):\n",
        "    def __eq__(self, next):\n",
        "        return True\n",
        "\n",
        "if int('11') == int('10'):\n",
        "    print('hello')"
      ],
      "metadata": {
        "colab": {
          "base_uri": "https://localhost:8080/"
        },
        "id": "zksZaI0N2KSB",
        "outputId": "9191931d-907a-4c20-929c-f1c12d633893"
      },
      "execution_count": 46,
      "outputs": [
        {
          "output_type": "stream",
          "name": "stdout",
          "text": [
            "hello\n"
          ]
        }
      ]
    },
    {
      "cell_type": "code",
      "source": [
        "if None:\n",
        "    print('false')"
      ],
      "metadata": {
        "id": "yQ2bDKO72cqK"
      },
      "execution_count": 59,
      "outputs": []
    },
    {
      "cell_type": "code",
      "source": [
        "if 10 > 11:\n",
        "    print('one')\n",
        "    print('two')\n",
        "print('three')\n",
        "else: # error\n",
        "    print('four')"
      ],
      "metadata": {
        "colab": {
          "base_uri": "https://localhost:8080/"
        },
        "id": "NC1a1CGf2y-l",
        "outputId": "e096fccf-945d-43b5-927f-97831a34b89a"
      },
      "execution_count": 60,
      "outputs": [
        {
          "output_type": "stream",
          "name": "stdout",
          "text": [
            "four\n",
            "three\n"
          ]
        }
      ]
    },
    {
      "cell_type": "code",
      "source": [
        "if 10 > 11:\n",
        "    print('one')\n",
        "    print('two')\n",
        "else: # error\n",
        "    print('three')"
      ],
      "metadata": {
        "colab": {
          "base_uri": "https://localhost:8080/"
        },
        "id": "7foe_moe3G-r",
        "outputId": "2c747854-2b56-43d0-ca25-9b41c0680366"
      },
      "execution_count": 49,
      "outputs": [
        {
          "output_type": "stream",
          "name": "stdout",
          "text": [
            "three\n"
          ]
        }
      ]
    },
    {
      "cell_type": "code",
      "source": [
        "# else가 없어도 되는 경우\n",
        "def f():\n",
        "    if 10 > 11:\n",
        "        return 'one'\n",
        "    return 'two'\n",
        "\n",
        "print(f())"
      ],
      "metadata": {
        "colab": {
          "base_uri": "https://localhost:8080/"
        },
        "id": "L2rYQdkh3OqU",
        "outputId": "d338895c-e9f3-4e49-843d-3839d446e187"
      },
      "execution_count": 61,
      "outputs": [
        {
          "output_type": "stream",
          "name": "stdout",
          "text": [
            "two\n"
          ]
        }
      ]
    },
    {
      "cell_type": "code",
      "source": [
        "# 여러개의 if문을 단축할 수 있는 방법 => \n",
        "# 가독성이 좋아지는 것을 선택하세요\n",
        "# and 구문으로 if를 합칠 수 있습니다.\n",
        "x = 10\n",
        "if x > 5:\n",
        "    if type(x) == int:\n",
        "        print('one')\n",
        "\n",
        "\n",
        "if x > 5 and type(x) == int:\n",
        "    print('one')"
      ],
      "metadata": {
        "id": "4vMgZ06V3nCS"
      },
      "execution_count": 51,
      "outputs": []
    },
    {
      "cell_type": "code",
      "source": [
        "# 여러개의 if문을 단축할 수 있는 방법 => \n",
        "# 가독성이 좋아지는 것을 선택하세요\n",
        "# and 구문으로 if를 합칠 수 있습니다.\n",
        "x = 10\n",
        "if x > 5:\n",
        "    if type(x) == int:\n",
        "        if x % 2 == 0:\n",
        "            print('one')\n",
        "\n",
        "\n",
        "if x > 5 and type(x) == int and x % 2 == 0:\n",
        "    print('one')"
      ],
      "metadata": {
        "id": "JKcRqQKV4Pdv"
      },
      "execution_count": 53,
      "outputs": []
    },
    {
      "cell_type": "code",
      "source": [
        "if True:\n",
        "    print('hello')\n",
        "else:\n",
        "    print('hello')\n",
        "else:\n",
        "    print('hello')\n",
        "else:\n",
        "    print('hello')"
      ],
      "metadata": {
        "id": "PAfLFoCk5OW2"
      },
      "execution_count": null,
      "outputs": []
    },
    {
      "cell_type": "code",
      "source": [
        "if True:\n",
        "    print('hello')\n",
        "if True:\n",
        "    print('hello')\n",
        "if False:\n",
        "    print('hello')\n",
        "else:\n",
        "    print('ello')"
      ],
      "metadata": {
        "colab": {
          "base_uri": "https://localhost:8080/"
        },
        "id": "wCKjI2Nq5YOv",
        "outputId": "e41f2179-7b91-4863-e7ca-a90a7afb796e"
      },
      "execution_count": 65,
      "outputs": [
        {
          "output_type": "stream",
          "name": "stdout",
          "text": [
            "hello\n",
            "hello\n",
            "ello\n"
          ]
        }
      ]
    },
    {
      "cell_type": "code",
      "source": [
        "if True:\n",
        "    print('hello')\n",
        "elif True:\n",
        "    print('hello')\n",
        "elif True:\n",
        "    print('hello')\n",
        "else:\n",
        "    print('hello')"
      ],
      "metadata": {
        "colab": {
          "base_uri": "https://localhost:8080/"
        },
        "id": "qpv9qA4n5jxm",
        "outputId": "28d408c0-37e7-4122-ac04-41edf5b118d4"
      },
      "execution_count": 67,
      "outputs": [
        {
          "output_type": "stream",
          "name": "stdout",
          "text": [
            "hello\n"
          ]
        }
      ]
    },
    {
      "cell_type": "code",
      "source": [
        "elif True:\n",
        "    print('hello')\n",
        "elif True:\n",
        "    print('hello')\n",
        "else:\n",
        "    print('hello')"
      ],
      "metadata": {
        "id": "byNKjSTF5lJS"
      },
      "execution_count": null,
      "outputs": []
    },
    {
      "cell_type": "code",
      "source": [
        "# Ctrl + M M 누르면 코드블럭이 마크다운 블럭이 됩니다\n",
        "# Ctrl + M Y 누르면 마크다운블럭이 코드블럭이 됩니다"
      ],
      "metadata": {
        "id": "N-9MUM6Q5-Rv"
      },
      "execution_count": null,
      "outputs": []
    },
    {
      "cell_type": "markdown",
      "source": [
        "## if 심화"
      ],
      "metadata": {
        "id": "VB72hDdQ5w4L"
      }
    },
    {
      "cell_type": "code",
      "source": [
        "if 10 > 5: print('hello') # 1줄에 사용하는 것이 가능 합니다 가독성을 떨어뜨린다고 생각함"
      ],
      "metadata": {
        "colab": {
          "base_uri": "https://localhost:8080/"
        },
        "id": "HfCFrHpw6Iab",
        "outputId": "038a9a6c-d7cb-41e9-ef42-43c002dbad8c"
      },
      "execution_count": 63,
      "outputs": [
        {
          "output_type": "stream",
          "name": "stdout",
          "text": [
            "hello\n"
          ]
        }
      ]
    },
    {
      "cell_type": "code",
      "source": [
        "if 1 > 5:print('hello')\n",
        "elif 5 > 1: print('world')\n"
      ],
      "metadata": {
        "id": "klxlAH0r8ttV"
      },
      "execution_count": null,
      "outputs": []
    },
    {
      "cell_type": "code",
      "source": [
        "if 1 > 5: print('hello')\n",
        "elif 1 > 5: print('world')\n",
        "else: print('hello world')"
      ],
      "metadata": {
        "colab": {
          "base_uri": "https://localhost:8080/"
        },
        "id": "q7COrEg68_g0",
        "outputId": "68d8ea58-83af-4190-dea0-b4773b45addd"
      },
      "execution_count": 69,
      "outputs": [
        {
          "output_type": "stream",
          "name": "stdout",
          "text": [
            "hello world\n"
          ]
        }
      ]
    },
    {
      "cell_type": "code",
      "source": [
        "# 3항 연산자는 가독성을 해치지 않는 선에서 많이 사용합니다.\n",
        "print('one') if 5 > 1 else print('two')"
      ],
      "metadata": {
        "colab": {
          "base_uri": "https://localhost:8080/"
        },
        "id": "UgOtjdCm9ON1",
        "outputId": "2d02f921-7f88-42a4-d7c7-53da74723122"
      },
      "execution_count": 71,
      "outputs": [
        {
          "output_type": "stream",
          "name": "stdout",
          "text": [
            "one\n"
          ]
        }
      ]
    },
    {
      "cell_type": "code",
      "source": [
        "# 3항 연산자는 가독성을 해치지 않는 선에서 많이 사용합니다.\n",
        "(print('one') if 5 > 1 else print('two'))"
      ],
      "metadata": {
        "colab": {
          "base_uri": "https://localhost:8080/"
        },
        "id": "aIxNeK579uKl",
        "outputId": "c60d3fe3-a9be-4f93-da4d-339740d65d7e"
      },
      "execution_count": 72,
      "outputs": [
        {
          "output_type": "stream",
          "name": "stdout",
          "text": [
            "one\n"
          ]
        }
      ]
    },
    {
      "cell_type": "code",
      "source": [
        "if 5 > 1:\n",
        "    print('one') else print('two') # error 이렇게 사용하지 않습니다!"
      ],
      "metadata": {
        "colab": {
          "base_uri": "https://localhost:8080/"
        },
        "id": "X9wIuMHi9whJ",
        "outputId": "bf3d71c3-efc8-4d9d-d86d-e588fe6db579"
      },
      "execution_count": 69,
      "outputs": [
        {
          "output_type": "stream",
          "name": "stdout",
          "text": [
            "one\n"
          ]
        }
      ]
    },
    {
      "cell_type": "code",
      "source": [
        "if 5 > 1:\n",
        "    print('one')\n",
        "else:\n",
        "    print('two')"
      ],
      "metadata": {
        "colab": {
          "base_uri": "https://localhost:8080/"
        },
        "id": "NZIQvfvC9_i6",
        "outputId": "6c2277aa-ae29-4a38-ef4e-2c19d0a014ea"
      },
      "execution_count": 75,
      "outputs": [
        {
          "output_type": "stream",
          "name": "stdout",
          "text": [
            "one\n"
          ]
        }
      ]
    },
    {
      "cell_type": "code",
      "source": [
        "# 할당이나 return에서 많이 사용합니다.\n",
        "# 할당이나 return을 할 때, 어떤 조건을 달고 싶을 때\n",
        "# 그런데 일반 if문과 else문 거창하다고 생각이 되었을 때\n",
        "y = 100\n",
        "x = 'one' if y > 80 else None"
      ],
      "metadata": {
        "id": "wz65gfV0-PnT"
      },
      "execution_count": 77,
      "outputs": []
    },
    {
      "cell_type": "code",
      "source": [
        "x"
      ],
      "metadata": {
        "colab": {
          "base_uri": "https://localhost:8080/",
          "height": 35
        },
        "id": "MWh_Brdi-XAN",
        "outputId": "5d708e0c-10af-4119-d549-fac0f9ae207a"
      },
      "execution_count": 79,
      "outputs": [
        {
          "output_type": "execute_result",
          "data": {
            "text/plain": [
              "'one'"
            ],
            "application/vnd.google.colaboratory.intrinsic+json": {
              "type": "string"
            }
          },
          "metadata": {},
          "execution_count": 79
        }
      ]
    },
    {
      "cell_type": "code",
      "source": [
        "def f(y):\n",
        "    if y > 80:\n",
        "        x = 'one'\n",
        "    else:\n",
        "        x = None\n",
        "    return x\n",
        "\n",
        "print(f(100))\n",
        "print(f(30))"
      ],
      "metadata": {
        "colab": {
          "base_uri": "https://localhost:8080/"
        },
        "id": "--tPdYbk-k7-",
        "outputId": "6d5357b0-00ad-4080-83ed-b2fd8bc7d9db"
      },
      "execution_count": 70,
      "outputs": [
        {
          "output_type": "stream",
          "name": "stdout",
          "text": [
            "one\n",
            "None\n"
          ]
        }
      ]
    },
    {
      "cell_type": "code",
      "source": [
        "def f(y): # 조건이 하나면 요거 \n",
        "    if y > 80:\n",
        "        return 'one'\n",
        "    return None\n",
        "\n",
        "print(f(100))\n",
        "print(f(30))"
      ],
      "metadata": {
        "id": "ONkqy60E_mHG"
      },
      "execution_count": null,
      "outputs": []
    },
    {
      "cell_type": "code",
      "source": [
        "def solution():\n",
        "    answer = True\n",
        "    if 조건:\n",
        "         answer = False\n",
        "     return answer"
      ],
      "metadata": {
        "id": "PC_8BWO9UT9u"
      },
      "execution_count": null,
      "outputs": []
    },
    {
      "cell_type": "code",
      "source": [
        "def f(y):\n",
        "    return 'one' if y > 80 else None\n",
        "\n",
        "print(f(100))\n",
        "print(f(30))"
      ],
      "metadata": {
        "colab": {
          "base_uri": "https://localhost:8080/"
        },
        "id": "3y2fyfLI_NhS",
        "outputId": "73f57541-7f39-479b-b0b3-63a173e642be"
      },
      "execution_count": 84,
      "outputs": [
        {
          "output_type": "stream",
          "name": "stdout",
          "text": [
            "one\n",
            "None\n"
          ]
        }
      ]
    },
    {
      "cell_type": "code",
      "source": [
        "def custom_sum(x):\n",
        "    return sum(x)\n",
        "\n",
        "custom_sum([1, 2, 3, 4, 5, 6]) # 21\n",
        "custom_sum([1, 2, 3, 4, '5', 6]) # float('inf')"
      ],
      "metadata": {
        "id": "QZ3dEHzE_tJY"
      },
      "execution_count": null,
      "outputs": []
    },
    {
      "cell_type": "code",
      "source": [
        "def custom_sum(x):\n",
        "    return sum(x) if len(list(filter(lambda x:type(x)==int, x))) == len(x) else float('inf')\n",
        "\n",
        "custom_sum([1, 2, 3, 4, 5, 6]) # 21\n",
        "custom_sum([1, 2, 3, 4, '5', 6]) # float('inf')"
      ],
      "metadata": {
        "colab": {
          "base_uri": "https://localhost:8080/"
        },
        "id": "cL-b3urZAVfn",
        "outputId": "fe1bd657-2308-470a-8155-0900cd0f546d"
      },
      "execution_count": 73,
      "outputs": [
        {
          "output_type": "execute_result",
          "data": {
            "text/plain": [
              "inf"
            ]
          },
          "metadata": {},
          "execution_count": 73
        }
      ]
    },
    {
      "cell_type": "code",
      "source": [
        "l = [1, 2, 3, '4', '5']\n",
        "# list(filter(lambda x:type(x)== int, l))\n",
        "# len(list(filter(lambda x : type(x) == int, l)))\n",
        "len(l)"
      ],
      "metadata": {
        "colab": {
          "base_uri": "https://localhost:8080/"
        },
        "id": "MwyXs42sAzyw",
        "outputId": "498d6ee7-1cd3-4a3e-a130-3679bc53a422"
      },
      "execution_count": 76,
      "outputs": [
        {
          "output_type": "execute_result",
          "data": {
            "text/plain": [
              "5"
            ]
          },
          "metadata": {},
          "execution_count": 76
        }
      ]
    },
    {
      "cell_type": "code",
      "source": [
        "score = 81\n",
        "money = 0\n",
        "\n",
        "if score >= 90: # 만약에 조건이 참이라면\n",
        "    print('mom : i\\'m so happy!')\n",
        "    money += 1000000\n",
        "elif score >= 80: # 그렇지 않고 만약에 조건이 참이라면\n",
        "    print('mom : i\\'m happy!')\n",
        "    money += 100000\n",
        "elif score >= 70: # '그렇지 않고 만약에'에서 '그렇지 않고'가 만족이 안되기 때문에 실행하지 못합니다.\n",
        "    print('mom : i\\'m so...!')\n",
        "    money += 10000\n",
        "elif score >= 60:\n",
        "    print('mom : i\\'m so...!')\n",
        "    money += 1000\n",
        "else:\n",
        "    print('mom : i\\'m...!')\n",
        "print(money)\n",
        "# if, elif, else 구문은 함께 썼다면 한 덩어리가 되어\n",
        "# 하나만 실행이 되고 나머지는 실행이 되지 않습니다."
      ],
      "metadata": {
        "colab": {
          "base_uri": "https://localhost:8080/"
        },
        "id": "2JptEDLcxmre",
        "outputId": "8405b614-a38e-4f7e-c762-88847c1fea20"
      },
      "execution_count": 77,
      "outputs": [
        {
          "output_type": "stream",
          "name": "stdout",
          "text": [
            "mom : i'm happy!\n",
            "100000\n"
          ]
        }
      ]
    },
    {
      "cell_type": "code",
      "source": [
        "# 문제 : 다음 if문을 3항 연산자로 표현해주세요.\n",
        "# if x % 2 == 0:\n",
        "#     홀짝여부 = '짝수'\n",
        "# eles:\n",
        "#     홀짝여부 = '홀수'\n",
        "\n",
        "# # 답\n",
        "# x = 'one' if y > 80 else None\n",
        "\n",
        "# def f(y):\n",
        "#     return 'one' if y > 80 else None\n",
        "\n",
        "\n",
        "def 홀짝여부(x):\n",
        "    return '짝수' if x % 2 == 0 else '홀수'\n",
        "print(홀짝여부(10))\n",
        "\n",
        "x = 10\n",
        "홀짝여부 = '짝수' if x % 2 == 0 else '홀수' # 요게 정답 이게짱임 이거 기억하셈!"
      ],
      "metadata": {
        "colab": {
          "base_uri": "https://localhost:8080/"
        },
        "id": "HBPqysE4CXmP",
        "outputId": "8e00e02e-b34e-4b96-f8dd-060a98c1818c"
      },
      "execution_count": 80,
      "outputs": [
        {
          "output_type": "stream",
          "name": "stdout",
          "text": [
            "짝수\n"
          ]
        }
      ]
    },
    {
      "cell_type": "code",
      "source": [
        "# 지금하는 것은 위 보다 빈도도 거의 없습니다.\n",
        "# 3항 연산자의 중첩\n",
        "# '조건1이 True일 때' if '조건1' else '조건1이 False이고 조건2가 True일 때' if '조건2' else '조건1, 조건2가 False일 때'"
      ],
      "metadata": {
        "id": "AZTqlhiVDtry"
      },
      "execution_count": null,
      "outputs": []
    },
    {
      "cell_type": "code",
      "source": [
        "# # '조건1이 True일 때'\n",
        "# if '조건1':\n",
        "# else: '조건1이 False이고 조건2가 True일 때'\n",
        "#     if '조건2':\n",
        "#     else: '조건1, 조건2가 False일 때'"
      ],
      "metadata": {
        "id": "HTFxcqvFES7o"
      },
      "execution_count": null,
      "outputs": []
    },
    {
      "cell_type": "code",
      "source": [
        "x = 15\n",
        "if x % 2 == 0:\n",
        "    배수 = '2X' # '2의 배수'\n",
        "elif x % 3 == 0:\n",
        "    배수 = '3X' # '3의 배수'\n",
        "else:\n",
        "    배수 = '?' # 2의 배수도 아니고 3의 배수도 아니다\n",
        "배수"
      ],
      "metadata": {
        "colab": {
          "base_uri": "https://localhost:8080/",
          "height": 35
        },
        "id": "a8JuF5NdEvIn",
        "outputId": "a93d8f84-5d79-4918-8cea-b6260fc13249"
      },
      "execution_count": 12,
      "outputs": [
        {
          "output_type": "execute_result",
          "data": {
            "text/plain": [
              "'3X'"
            ],
            "application/vnd.google.colaboratory.intrinsic+json": {
              "type": "string"
            }
          },
          "metadata": {},
          "execution_count": 12
        }
      ]
    },
    {
      "cell_type": "code",
      "source": [
        "x = 17\n",
        "배수 = '2X' if x % 2 == 0 else '3X' if x % 3 == 0 else '?'\n",
        "\n",
        "배수"
      ],
      "metadata": {
        "colab": {
          "base_uri": "https://localhost:8080/",
          "height": 35
        },
        "id": "yjD3GVhtFJc_",
        "outputId": "29490ddd-9e91-494c-82b1-cb153f89c419"
      },
      "execution_count": 13,
      "outputs": [
        {
          "output_type": "execute_result",
          "data": {
            "text/plain": [
              "'?'"
            ],
            "application/vnd.google.colaboratory.intrinsic+json": {
              "type": "string"
            }
          },
          "metadata": {},
          "execution_count": 13
        }
      ]
    },
    {
      "cell_type": "markdown",
      "source": [
        "## 반복문"
      ],
      "metadata": {
        "id": "MHtq3rc8FyBB"
      }
    },
    {
      "cell_type": "code",
      "source": [
        "# for 변수 in 순회가능한객체:\n",
        "#     code"
      ],
      "metadata": {
        "id": "fIUvS0VXF0P1"
      },
      "execution_count": 14,
      "outputs": []
    },
    {
      "cell_type": "code",
      "source": [
        "# 순회가능한객체 != 시퀀스형자료형 # 순서가 없어도 순회가 가능하기 때문에"
      ],
      "metadata": {
        "id": "3oFLhO2GGo6j"
      },
      "execution_count": 15,
      "outputs": []
    },
    {
      "cell_type": "code",
      "source": [
        "for i in 'hello world':\n",
        "    print(i)"
      ],
      "metadata": {
        "id": "Fof4e7C_Gsak"
      },
      "execution_count": null,
      "outputs": []
    },
    {
      "cell_type": "code",
      "source": [
        "for i in 10: # error\n",
        "    print(i)"
      ],
      "metadata": {
        "id": "EWtlPV8TG0UR"
      },
      "execution_count": null,
      "outputs": []
    },
    {
      "cell_type": "code",
      "source": [
        "for i in 10.1: # error\n",
        "    print(i)"
      ],
      "metadata": {
        "id": "qcElateuG3d0"
      },
      "execution_count": null,
      "outputs": []
    },
    {
      "cell_type": "code",
      "source": [
        "for i in [1, 2, 3]:\n",
        "    print(i)"
      ],
      "metadata": {
        "id": "BKp9Dd3EG54W"
      },
      "execution_count": null,
      "outputs": []
    },
    {
      "cell_type": "code",
      "source": [
        "for i in (1, 2, 3):\n",
        "    print(i)"
      ],
      "metadata": {
        "id": "eV43yG3VG-v0"
      },
      "execution_count": null,
      "outputs": []
    },
    {
      "cell_type": "code",
      "source": [
        "for i in {1, 2, 3}:\n",
        "    print(i)"
      ],
      "metadata": {
        "id": "mw3TbNcyHA_W"
      },
      "execution_count": null,
      "outputs": []
    },
    {
      "cell_type": "code",
      "source": [
        "for i in {'one': 1, 'two' : 2, 'three' : 3}:\n",
        "    print(i)"
      ],
      "metadata": {
        "id": "8pHXVhXqHE88"
      },
      "execution_count": null,
      "outputs": []
    },
    {
      "cell_type": "code",
      "source": [
        "# 변수에는 range, enumerate, zip, map, sorted, reversed...\n",
        "for i in range(10):\n",
        "    print(i)"
      ],
      "metadata": {
        "id": "UqAnAAqTHMLH"
      },
      "execution_count": null,
      "outputs": []
    },
    {
      "cell_type": "code",
      "source": [
        "언어순위 = ['Python', 'JavaScript', 'JAVA', 'Ruby']\n",
        "for i in 언어순위:\n",
        "    print(i)"
      ],
      "metadata": {
        "id": "4rNNi94WHjVp"
      },
      "execution_count": null,
      "outputs": []
    },
    {
      "cell_type": "code",
      "source": [
        "언어순위 = ['Python', 'JavaScript', 'JAVA', 'Ruby']\n",
        "for i in enumerate(언어순위):\n",
        "    print(i)"
      ],
      "metadata": {
        "id": "jfmFIMsbHwPc"
      },
      "execution_count": null,
      "outputs": []
    },
    {
      "cell_type": "code",
      "source": [
        "언어순위 = ['Python', 'JavaScript', 'JAVA', 'Ruby']\n",
        "for i in enumerate(언어순위, 1):\n",
        "    print(i)"
      ],
      "metadata": {
        "id": "7Hw7LYXlH6uN"
      },
      "execution_count": null,
      "outputs": []
    },
    {
      "cell_type": "code",
      "source": [
        "언어순위 = ['Python', 'JavaScript', 'JAVA', 'Ruby']\n",
        "for i in enumerate(언어순위, 101):\n",
        "    print(i)"
      ],
      "metadata": {
        "id": "p2hFUU0kH9Ak"
      },
      "execution_count": null,
      "outputs": []
    },
    {
      "cell_type": "code",
      "source": [
        "언어순위 = ['Python', 'JavaScript', 'JAVA', 'Ruby']\n",
        "for i, j in enumerate(언어순위, 1):\n",
        "    print(i, j)"
      ],
      "metadata": {
        "id": "-kNGKsv1IEu5"
      },
      "execution_count": null,
      "outputs": []
    },
    {
      "cell_type": "code",
      "source": [
        "for idx, val in enumerate(언어순위):\n",
        "    print(f\"{idx+1}등 언어 : {val}\")"
      ],
      "metadata": {
        "id": "jP-lImnHbDdF"
      },
      "execution_count": null,
      "outputs": []
    },
    {
      "cell_type": "code",
      "source": [
        "for idx, val in enumerate(언어순위):\n",
        "    if idx > 1:\n",
        "        print(val)"
      ],
      "metadata": {
        "id": "b6BI733ObYjW"
      },
      "execution_count": null,
      "outputs": []
    },
    {
      "cell_type": "code",
      "source": [
        "for idx, val in enumerate(언어순위):\n",
        "    if idx > 1:\n",
        "        print(val)\n",
        "val = 언어순위\n",
        "idx = 언어순위.index(x)"
      ],
      "metadata": {
        "id": "3Nrrxk_xb1t_"
      },
      "execution_count": null,
      "outputs": []
    },
    {
      "cell_type": "markdown",
      "source": [
        "args, kargs"
      ],
      "metadata": {
        "id": "eeg0er49i8ql"
      }
    },
    {
      "cell_type": "markdown",
      "source": [
        "lambda"
      ],
      "metadata": {
        "id": "CJWxdgSpi-38"
      }
    },
    {
      "cell_type": "markdown",
      "source": [
        "## zip, map 등 한 번 순회가 되면 순회가 안되는 이유유"
      ],
      "metadata": {
        "id": "XJ6HKUIVis8n"
      }
    }
  ]
}